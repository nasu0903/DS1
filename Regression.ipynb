{
  "cells": [
    {
      "cell_type": "markdown",
      "metadata": {
        "id": "Xr7-j3Dz2fLM"
      },
      "source": [
        "<!-- JPN -->\n",
        "# 線形回帰と多項式回帰\n",
        "\n",
        "※本演習資料の二次配布・再配布はお断り致します。"
      ]
    },
    {
      "cell_type": "markdown",
      "metadata": {
        "id": "VxfBDa0FkARI"
      },
      "source": [
        "<!-- ENG -->\n",
        "# Linear and Polynomial Regressions\n",
        "\n",
        "※Distribution or redistribution of these exercise materials without the copyright holder’s permission is not permitted."
      ]
    },
    {
      "cell_type": "markdown",
      "metadata": {
        "id": "BR-Nczy5DGUH"
      },
      "source": [
        "<!-- JPN -->\n",
        "　回帰問題とは、例えば「2月24日（水）18時、予想気温6度の時の東京都目黒区の電力需要は何万キロワットか予想せよ」というように、**いくつかの要素を元に、実数値を予測する問題**のことを指す。"
      ]
    },
    {
      "cell_type": "markdown",
      "metadata": {
        "id": "ETA1NPwVkARK"
      },
      "source": [
        "<!-- ENG -->\n",
        "　A regression problem is **a problem that predicts a real number based on several factors**, for example, \"Predict how many thousands of kilowatts the electricity demand will be in Meguro-ku, Tokyo, at 6:00 p.m. on Wednesday, February 24, when the expected temperature is 6 degrees Celsius\"."
      ]
    },
    {
      "cell_type": "markdown",
      "metadata": {
        "id": "hEdvcR40md4S"
      },
      "source": [
        "<!-- JPN -->\n",
        "　本日の演習では、3つの回帰予測を行うための機械学習アルゴリズムを説明する。\n",
        "\n",
        "- **1 | 線形回帰 (Linear regression)**\n",
        "- **2 | 多項式回帰 (Polynomial regression)**\n",
        "- **3 | 過剰適合を防ぐ正則化（Ridge回帰）**"
      ]
    },
    {
      "cell_type": "markdown",
      "metadata": {
        "id": "nfFUyBdnkARM"
      },
      "source": [
        "<!-- ENG -->\n",
        "　In today's exercise, we will describe a machine learning algorithm for making three regression predictions.\n",
        "\n",
        "- **1 | Linear regression**\n",
        "- **2 | Polynomial regression**\n",
        "- **3 | Norm regularization to prevent overfitting (Ridge regression)**"
      ]
    },
    {
      "cell_type": "markdown",
      "metadata": {
        "id": "BEd9rJQGr9Y7"
      },
      "source": [
        "<!-- JPN -->\n",
        "## 1 | 線形回帰 (Linear regression)\n",
        "\n",
        "　まず、$y = f(x_1, x_2)$ を、既知データ $X, y$ を利用することで線形回帰で推定することをおこなってみる。"
      ]
    },
    {
      "cell_type": "markdown",
      "metadata": {
        "id": "n_cWMpcXkARR"
      },
      "source": [
        "<!-- ENG -->\n",
        "## 1 | Linear regression\n",
        "\n",
        "　First, let's try to estimate $y = f(x_1, x_2)$ by linear regression using the known data $X, y$."
      ]
    },
    {
      "cell_type": "markdown",
      "metadata": {
        "id": "fB4h3uqHNpbd"
      },
      "source": [
        "<!-- JPN -->\n",
        "### 1.1 | データセットの作成\n",
        "\n",
        "　1 で利用する仮想的なデータセットを作成する。\n",
        "ここでは、$y = 3x_1 - x_2 + 2$ という線形の関係を満たすような、ノイズが無い10件のデータ $X, y$ を作っている。"
      ]
    },
    {
      "cell_type": "markdown",
      "metadata": {
        "id": "xEwtV9KrkARU"
      },
      "source": [
        "<!-- ENG -->\n",
        "### 1.1 | Creating a data set\n",
        "\n",
        "　Create a hypothetical data set to be used in 1.\n",
        "Here, we are making a sample $X, y$ with a sample size of 10, no noise, such that the linear relationship $y = 3x_1 - x_2 + 2$ is satisfied."
      ]
    },
    {
      "cell_type": "code",
      "execution_count": null,
      "metadata": {
        "id": "HWejgLK-tDag",
        "scrolled": true
      },
      "outputs": [],
      "source": [
        "import numpy as np\n",
        "import matplotlib.pyplot as plt # For drawing (also used in Exercises in Fundamentals of Data Science ②)"
      ]
    },
    {
      "cell_type": "code",
      "execution_count": null,
      "metadata": {
        "id": "QndsdozmtIWG",
        "scrolled": true
      },
      "outputs": [],
      "source": [
        "# Create a data set\n",
        "n_data = 10                   # Number of data sets to be created\n",
        "X = np.random.rand(n_data, 2) # Randomly generate n_data sets for x\n",
        "y = 3 * X[:, 0] - X[:, 1] + 2\n",
        "print(X)\n",
        "print(y)"
      ]
    },
    {
      "cell_type": "markdown",
      "metadata": {
        "id": "TjIq8XNPO2s5"
      },
      "source": [
        "<!-- JPN -->\n",
        "　このコードで注意する点を以下にまとめておく。NumPyの使い方にも関わるので、しっかり確認しておこう。\n",
        "* $X, y$ ともに10件のデータをまとめて表現している。\n",
        "* $X$ は、1つのデータ $\\boldsymbol{x}^T=[x_1, x_2]$ が**1つの行ベクトル**として、10件縦に重なって行列を構成している。（講義資料を読み返そう。確かに $X$ は $\\boldsymbol{x}^T$ を縦に重ねたものになっている）\n",
        "* Pythonでは添え字は0から始まるので、10件のデータ全ての $x_1$ を取得する、という操作は`X[:, 0]`に対応する。\n",
        "  * このため、 `y = 3*X[:, 0] - X[:, 1] + 2` と記述することで10件のデータの $y$ を同時に作ることができる。\n",
        "  * `X[:, 0]`は**すべて（`:`）の行の、0列目のデータを取得する**という意味であると考えよう。"
      ]
    },
    {
      "cell_type": "markdown",
      "metadata": {
        "id": "UkjuFdxCkARX"
      },
      "source": [
        "<!-- ENG -->\n",
        "　The following is a summary of points to aware of in this code. Since it is related to the usage of NumPy, let's check it carefully.\n",
        "* $X, y$ are both represented as a set of 10 data items.\n",
        "* $X$ is **a single row vector** of data $\\boldsymbol{x}^T=[x_1, x_2]$, which is vertically stacked 10 times to form a matrix. (Let's read the lecture materials again. Indeed, $X$ is stacked vertically with $\\boldsymbol{x}^T$ \n",
        "* In Python, an index starts from 0, so the operation to get $x_1$ for all 10 data items corresponds to `X[:, 0]`.\n",
        "  * Therefore, we can create 10 sets data for $y$ simultaneously by writing `y = 3*X[:, 0] - X[:, 1] + 2`.\n",
        "  * Consider that `X[:, 0]` means to **get the data of the 0th column of all (`:`) rows**."
      ]
    },
    {
      "cell_type": "markdown",
      "metadata": {
        "id": "okd_ZQrbI0cL"
      },
      "source": [
        "<!-- JPN -->\n",
        "  なお、説明の都合上、変数 $\\boldsymbol{x}$ の添え字が講義資料と異なる意味で使われている場所がある。注意して読み進めてほしい。"
      ]
    },
    {
      "cell_type": "markdown",
      "metadata": {
        "id": "GjnpbZ3BkARX"
      },
      "source": [
        "<!-- ENG -->\n",
        "  For the convenience of explanation, the index of the variable $\\boldsymbol{x}$ is used in some places with a different meaning than in the lecture material. Read and proceed with caution."
      ]
    },
    {
      "cell_type": "markdown",
      "metadata": {
        "id": "tyHz-vAv_-Ow"
      },
      "source": [
        "<!-- JPN -->\n",
        "### 1.2 | `scikit-learn` を利用した線形回帰\n",
        "\n",
        "　まず、線形回帰を `scikit-learn` というPythonの機械学習ライブラリを用いて実行してみよう。 `scikit-learn` は機械学習の定番と言っても良いライブラリであり、今後も基盤データサイエンス演習、基盤人工知能演習 いずれも多用する。"
      ]
    },
    {
      "cell_type": "markdown",
      "metadata": {
        "id": "qVlxI2jTkARY"
      },
      "source": [
        "<!-- ENG -->\n",
        "### 1.2 | Linear regression using `scikit-learn`\n",
        "\n",
        "　First, let's run linear regression using the Python machine learning library called `scikit-learn`. `scikit-learn` is a famous library for machine learning, and we will continue to use it for both Exercises in Fundamentals of Data Science and Exercises in Fundamentals of Artificial Intelligence."
      ]
    },
    {
      "cell_type": "markdown",
      "metadata": {
        "id": "Ui2aHFAjUOQS"
      },
      "source": [
        "<!-- JPN -->\n",
        "　`scikit-learn` で用意されている関数は極めて賢く作られており、定数項の推定のための変数の追加などは内部で実行される。 `scikit-learn` で学習を行う際には、以下の順番で計算を行う。\n",
        "1.   機械学習アルゴリズム（今回は線形回帰）を選択する。\n",
        "2.   `fit()` を実行することでモデルを構築する。\n",
        "3.   必要に応じて `model.coef_` や `model.intercept_` を使って線形モデルの各説明変数に対する重み、および定数項を確認する。\n",
        "\n",
        "以下で実際にやってみよう。\n"
      ]
    },
    {
      "cell_type": "markdown",
      "metadata": {
        "id": "u0CWWx4dkARZ"
      },
      "source": [
        "<!-- ENG -->\n",
        "　The functions provided by `scikit-learn` are extremely intelligent, and adding variables for estimating constant terms is carried out internally. When learning with `scikit-learn`, calculations are performed in the following order.\n",
        "1. Select a machine learning algorithm (in this case, linear regression).\n",
        "2. Build a model by running `fit()`.\n",
        "3. Check the weights and constant terms for each explanatory variable in the linear model using `model.coef_` and `model.intercept_` as needed.\n",
        "\n",
        "Let's try to put it into practice as follows.\n"
      ]
    },
    {
      "cell_type": "code",
      "execution_count": null,
      "metadata": {
        "id": "EucmIMdDINrw",
        "scrolled": true
      },
      "outputs": [],
      "source": [
        "from sklearn.linear_model import LinearRegression"
      ]
    },
    {
      "cell_type": "code",
      "execution_count": null,
      "metadata": {
        "id": "SgOc9rRZAMR4",
        "scrolled": true
      },
      "outputs": [],
      "source": [
        "# 1. Selecting a machine learning algorithm\n",
        "# As if you had prepared the equation for the linear model y = w^t x + b\n",
        "model = LinearRegression()"
      ]
    },
    {
      "cell_type": "code",
      "execution_count": null,
      "metadata": {
        "id": "WWNjAyHxIIXx",
        "scrolled": true
      },
      "outputs": [],
      "source": [
        "# 2. Building a linear model by running fit(), internally calculating 1.3\n",
        "# X is entered without adding a constant term\n",
        "# Input y as a one-dimensional array without vectorization\n",
        "model.fit(X, y)"
      ]
    },
    {
      "cell_type": "code",
      "execution_count": null,
      "metadata": {
        "id": "x7uxu8scIKQ3",
        "scrolled": true
      },
      "outputs": [],
      "source": [
        "# 3. Checking the weights\n",
        "print(model.coef_)      # Check the values of w_1 and w_2\n",
        "print(model.intercept_) # Check the value of b (w_3)"
      ]
    },
    {
      "cell_type": "markdown",
      "metadata": {
        "id": "X6liPm5l9HsT"
      },
      "source": [
        "<!-- JPN -->\n",
        "　`model.fit()` に入れる `X`, `y` はそれぞれ行列と1次元配列であることに注意してほしい。\n",
        "\n",
        "　printされた結果を見ると、$\\boldsymbol{\\hat{w}} = [3, -1], \\hat b = 2$ という結果が得られ、正しく $y = 3x_1 - x_2 + 2$ を推定できていることがわかる。\n",
        "\n",
        "　今回はデータにノイズが存在せず、 $x$ と $y$ の関係が線形で線形回帰モデルが表現できる関係になっているので、完全に予測することができている。"
      ]
    },
    {
      "cell_type": "markdown",
      "metadata": {
        "id": "MG7X8FTVkARa"
      },
      "source": [
        "<!-- ENG -->\n",
        "　Note that the `X`, `y` in `model.fit()` are a matrix and a one-dimensional array, respectively.\n",
        "\n",
        "　The printed result shows that we have correctly estimated $y = 3x_1 - x_2 + 2$ with the result $\\boldsymbol{\\hat{w}} = [3, -1], \\hat b = 2$.\n",
        "\n",
        "　This time, there is no noise in the data, and the relationship between $x$ and $y$ is linear, a relationship that can be represented by a linear regression model, so it is perfectly predictable."
      ]
    },
    {
      "cell_type": "markdown",
      "metadata": {
        "id": "Navya_K3VUCv"
      },
      "source": [
        "<!-- JPN -->\n",
        "　次に、このモデルを使って新しいデータ $(x_1, x_2) = (10, 30), (2, 1)$ を予測してみよう。新しいデータへの予測は `predict()` メソッドを利用する。\n",
        "$y = 3x_1 - x_2 + 2$ なので、この2つはそれぞれ $y = 2, 7$ となるはずである。"
      ]
    },
    {
      "cell_type": "markdown",
      "metadata": {
        "id": "2Lv3d6jWkARf"
      },
      "source": [
        "<!-- ENG -->\n",
        "　Next, let's use this model to predict the new data $(x_1, x_2) = (10, 30), (2, 1)$. Prediction for new data is performed using the `predict()` method.\n",
        "Since $y = 3x_1 - x_2 + 2$, these two should be $y = 2, 7$ respectively."
      ]
    },
    {
      "cell_type": "code",
      "execution_count": null,
      "metadata": {
        "id": "86QHUzbU-Kzs",
        "scrolled": true
      },
      "outputs": [],
      "source": [
        "# Create a matrix of multiple data as we did for X.\n",
        "X_new = np.array([[10, 30],\n",
        "                  [2, 1]])\n",
        "model.predict(X_new) # Note that the prediction results will also come out as a one-dimensional array."
      ]
    },
    {
      "cell_type": "markdown",
      "metadata": {
        "id": "EBSSVcJlVmWH"
      },
      "source": [
        "<!-- JPN -->\n",
        "　これで、新しいデータに対する予測を行うことができた。"
      ]
    },
    {
      "cell_type": "markdown",
      "metadata": {
        "id": "8e0z7B03kARf"
      },
      "source": [
        "<!-- ENG -->\n",
        "　This allowed us to make predictions for new data."
      ]
    },
    {
      "cell_type": "markdown",
      "metadata": {
        "id": "YDhTBz7PNjXX"
      },
      "source": [
        "<!-- JPN -->\n",
        "### 1.3 | NumPyを利用した線形回帰\n",
        "\n",
        "　通常の教材などであれば、scikit-learnによる線形回帰ができればそれでおしまい…なのだが、この演習は**講義で学んだものを実際に使う**ことも1つの目的である。本日講義で学んだ**線形代数の計算に基づいて** $y = \\boldsymbol{w}^T\\boldsymbol{x} + b = w_1x_1 + w_2x_2 + b$ の $\\boldsymbol{w}, b$ の推定を行い、scikit-learnと同一の結果が確かに得られることを確認しよう。"
      ]
    },
    {
      "cell_type": "markdown",
      "metadata": {
        "id": "nBp9aJM8kARg"
      },
      "source": [
        "<!-- ENG -->\n",
        "### 1.3 | Linear regression using NumPy\n",
        "\n",
        "　If it were the regular course materials, we would be able to do linear regression just using scikit-learn and that would be the end of it... However, one of the purposes of this exercise is to **actually use what we have learned in the lecture**. **Based on the linear algebra calculations** we learned in today's lecture, let's estimate $\\boldsymbol{w}, b$ for $y = \\boldsymbol{w}^T\\boldsymbol{x} + b = w_1x_1 + w_2x_2 + b$, and confirm that the results are indeed identical to scikit-learn."
      ]
    },
    {
      "cell_type": "markdown",
      "metadata": {
        "id": "x8-2p3ddygAT"
      },
      "source": [
        "<!-- JPN -->\n",
        "　まず、定数項 $b$ の処理を簡単にするため、全ての要素が1である $x_3$ を `X` に追加したものを `X_aux` として定義する。これを行うことで、 $y = \\boldsymbol{\\tilde{w}}^T\\boldsymbol{\\tilde{x}} = w_1x_1 + w_2x_2 + w_3x_3 = w_1x_1 + w_2x_2 + w_3$ として表現することができ、 $b$ を $\\boldsymbol{\\tilde{w}}$ に含めることができる。（以後、 $\\boldsymbol{\\tilde{w}}$ のことを単に $\\boldsymbol{w}$ と記述する。）"
      ]
    },
    {
      "cell_type": "markdown",
      "metadata": {
        "id": "t-BIHm6jkARg"
      },
      "source": [
        "<!-- ENG -->\n",
        "　First, to simplify the process of the constant term $b$, we define as `X_aux` the addition of $x_3$, where all elements are 1, to `X`. By doing this, we can express it as $y = \\boldsymbol{\\tilde{w}}^T\\boldsymbol{\\tilde{x}} = w_1x_1 + w_2x_2 + w_3x_3 = w_1x_1 + w_2x_2 + w_3$ and include $b$ in $\\boldsymbol{\\tilde{w}}$. (Hereafter, $\\boldsymbol{\\tilde{w}} $ will be referred to simply as $\\boldsymbol{w}$.)"
      ]
    },
    {
      "cell_type": "code",
      "execution_count": null,
      "metadata": {
        "id": "_-2GUz0ryv5H",
        "scrolled": true
      },
      "outputs": [],
      "source": [
        "ones = np.ones((10,1))\n",
        "X_aux = np.hstack([X, ones]) # Assign x_3=1 to each data set\n",
        "print(X_aux)"
      ]
    },
    {
      "cell_type": "markdown",
      "metadata": {
        "id": "ScesrJWZSYOG"
      },
      "source": [
        "<!-- JPN -->\n",
        "　それでは、この $\\boldsymbol{w}$ を10件のデータから推定しよう。講義資料によれば、$\\boldsymbol{\\hat w} = (X^TX)^{-1}X^T\\boldsymbol{y}$ を計算することで、最小二乗法による $\\boldsymbol{w}$ の推定が行えるので、これを計算してみよう。"
      ]
    },
    {
      "cell_type": "markdown",
      "metadata": {
        "id": "6yukA5dhkARh"
      },
      "source": [
        "<!-- ENG -->\n",
        "　Now let's estimate this $\\boldsymbol{w}$ from the 10 data items. According to the lecture materials, we can estimate $\\boldsymbol{w}$ using the least-squares method by calculating $\\boldsymbol{\\hat w} = (X^TX)^{-1}X^T\\boldsymbol{y}$, so let's calculate this."
      ]
    },
    {
      "cell_type": "code",
      "execution_count": null,
      "metadata": {
        "id": "YEwqOGLnFB_j",
        "scrolled": true
      },
      "outputs": [],
      "source": [
        "Y = y.reshape(-1, 1) # Since this is a linear algebra calculation, it should be column vectorized.\n",
        "print(Y)"
      ]
    },
    {
      "cell_type": "code",
      "execution_count": null,
      "metadata": {
        "id": "zKu_slGMwSEi",
        "scrolled": true
      },
      "outputs": [],
      "source": [
        "def estimate_parameters(X_train, Y_train):\n",
        "\n",
        "  XtX = np.dot(X_train.T, X_train)\n",
        "  XtXinvXt = np.dot(np.linalg.inv(XtX), X_train.T)\n",
        "  return np.dot(XtXinvXt, Y_train)\n",
        "\n",
        "w_hat = estimate_parameters(X_aux, Y)\n",
        "print(w_hat)"
      ]
    },
    {
      "cell_type": "markdown",
      "metadata": {
        "id": "Wih6s7ctEVso"
      },
      "source": [
        "<!-- JPN -->\n",
        "　$\\boldsymbol{\\hat w} = [3, -1, 2]^T$ という結果が得られ、scikit-learnを使った場合と全く同じ結果が得られることが確認できた。"
      ]
    },
    {
      "cell_type": "markdown",
      "metadata": {
        "id": "-XS-S3jXkARi"
      },
      "source": [
        "<!-- ENG -->\n",
        "　We get the result $\\boldsymbol{\\hat w} = [3, -1, 2]^T$, which is exactly the same as the result we get using scikit-learn."
      ]
    },
    {
      "cell_type": "markdown",
      "metadata": {
        "id": "-pgE61UvSGuf"
      },
      "source": [
        "------"
      ]
    },
    {
      "cell_type": "markdown",
      "metadata": {
        "id": "tJRf0gB-Dizc"
      },
      "source": [
        "<!-- JPN -->\n",
        "#### 課題 1\n",
        "\n",
        "　算出された $\\boldsymbol{\\hat w}$ を用いて $X = [[5, 1], [2, 4]]$ に対する $\\boldsymbol{\\hat y} = X\\boldsymbol{\\hat w}$ の予測を行うことを考える。\n",
        "以下のコードの `__xxxxx__` 部を埋めて、 $\\boldsymbol{\\hat y}$ を算出せよ（今回は $\\boldsymbol{\\hat w}$ が誤差なく推定出来ているので、$\\boldsymbol{\\hat y}$ は $y = 3x_1 - x_2 + 2$ に一致するはずである）。 \n",
        "\n",
        "　なお、課題提出時には以下の2つを記述せよ。\n",
        "* `__xxxxx__` に何を記述したか（NumPyを用いて、scikit-learnは利用しないこと）\n",
        "* `print(y_hat)` の出力結果（Pythonが**整数値**として処理している場合は整数値を、**実数値**として処理している場合は小数点以下第1位まで答えよ）"
      ]
    },
    {
      "cell_type": "markdown",
      "metadata": {
        "id": "9hG4WkKwkARi"
      },
      "source": [
        "<!-- ENG -->\n",
        "#### Exercise 1\n",
        "\n",
        "　Consider using $\\boldsymbol{\\hat w}$ that was computed to predict $\\boldsymbol{\\hat y} = X\\boldsymbol{\\hat w}$ for $X = [[5, 1], [2, 4]]$.\n",
        "Calculate $\\boldsymbol{\\hat y}$ by filling in the `__xxxxx__` part of the following code (since we were able to estimate $\\boldsymbol{\\hat w}$ without error this time, $\\boldsymbol{\\hat y}$ should match $y = 3x_1 - x_2 + 2$). \n",
        "\n",
        "　When you submit your exercise assignment, please include the following two items.\n",
        "* What you wrote in `__xxxxx__`? Answer with use of NumPy functions. (Do not use scikit-learn functions.)\n",
        "* `print(y_hat)` output result (If Python treats it as **an integer value**, answer it as an integer value, and if it treats it as **a real number**, answer it to the first decimal place)"
      ]
    },
    {
      "cell_type": "code",
      "execution_count": null,
      "metadata": {
        "id": "YQ3aRM2h_ZZY",
        "scrolled": true
      },
      "outputs": [],
      "source": [
        "w_hat = np.array([[3, -1, 2]]).T\n",
        "new_X = np.array([[5,1], [2,4]])           # Predict two sets of data [5,1] and [2,4]\n",
        "new_X = np.hstack([new_X, np.ones((2,1))]) # Add x_3 to new_X as well\n",
        "print(new_X)\n",
        "y_hat = __xxxxx__\n",
        "print(y_hat)"
      ]
    },
    {
      "cell_type": "markdown",
      "metadata": {
        "id": "BwUIKHeTT_2Y"
      },
      "source": [
        "<!-- ANS-JPN -->\n",
        "#### <font color=red>解答例：課題 1</font>"
      ]
    },
    {
      "cell_type": "markdown",
      "metadata": {
        "id": "Pf-jHfmZVhUK"
      },
      "source": [
        "<!-- ANS-JPN -->\n",
        "\n",
        "```\n",
        "__xxxxx__ = np.dot(new_X, w_hat), new_X.dot(w_hat) など、new_Xとw_hatの内積\n",
        "y_hat     = [[16.0],[4.0]]\n",
        "```"
      ]
    },
    {
      "cell_type": "markdown",
      "metadata": {
        "id": "mvbOvAzpDU3V"
      },
      "source": [
        "---------"
      ]
    },
    {
      "cell_type": "markdown",
      "metadata": {
        "id": "EfNwrXvrcMk1"
      },
      "source": [
        "<!-- JPN -->\n",
        "## 2 | 多項式回帰 (Polynomial regression) \n",
        "　次に、$y = \\sin(x)$ を多項式 $\\hat f(x) = \\sum_{i=0}^p \\hat w_i x^i$ で近似してみることを考える。"
      ]
    },
    {
      "cell_type": "markdown",
      "metadata": {
        "id": "E2YUwhZ0kARj"
      },
      "source": [
        "<!-- ENG -->\n",
        "## 2 | Polynomial regression \n",
        "　Next, consider approximating $y = \\sin(x)$ with the polynomial $\\hat f(x) = \\sum_{i=0}^p \\hat w_i x^i$."
      ]
    },
    {
      "cell_type": "markdown",
      "metadata": {
        "id": "X1JGQ8UeWnxY"
      },
      "source": [
        "<!-- JPN -->\n",
        "### 2.1 | データセットの作成\n",
        "\n",
        "　まずは、先ほどと同様に仮想的なデータを10個、ランダムに作成する。\n",
        "ただし、今回のデータは 第1章で利用した線形回帰のデータとは異なり、 $y$ の観測誤差が平均 0.1 程度含まれているものとする。\n"
      ]
    },
    {
      "cell_type": "markdown",
      "metadata": {
        "id": "nd3sTOHWkARj"
      },
      "source": [
        "<!-- ENG -->\n",
        "### 2.1 | Creating a data set\n",
        "\n",
        "　First, create 10 hypothetical data sets as before, randomly.\n",
        "However, this data is different from the linear regression data used in Section 1, and it is assumed that the observation error of $y$ is included about 0.1 on average.\n"
      ]
    },
    {
      "cell_type": "code",
      "execution_count": null,
      "metadata": {
        "id": "HXFIt7GGQ9qa",
        "scrolled": true
      },
      "outputs": [],
      "source": [
        "# import packages\n",
        "import numpy as np\n",
        "import matplotlib.pyplot as plt # For drawing"
      ]
    },
    {
      "cell_type": "code",
      "execution_count": null,
      "metadata": {
        "id": "7PF8OsO0IYD9",
        "scrolled": true
      },
      "outputs": [],
      "source": [
        "# create toy data set\n",
        "np.random.seed(7) # A trick that allows you to create the same random data every time.\n",
        "\n",
        "n_data = 10\n",
        "x = 6 * np.random.rand(n_data) - 3         # Randomly generate 10 values ​​from -3 to 3\n",
        "noise = 0.1 * np.random.randn(n_data)      # Noise\n",
        "y = np.sin(x) + noise                      # Calculate y = sin (x) + noise"
      ]
    },
    {
      "cell_type": "markdown",
      "metadata": {
        "id": "epbKIUjUXQLd"
      },
      "source": [
        "<!-- JPN -->\n",
        "　先ほどの線形回帰のデータと異なり、作成された **$x, y$ はどちらも1次元配列である**ことに注意しよう。作成したデータをプロットしてみる。"
      ]
    },
    {
      "cell_type": "markdown",
      "metadata": {
        "id": "n-AwRyZ9kARk"
      },
      "source": [
        "<!-- ENG -->\n",
        "　Note that unlike the previous linear regression data, **$x, y$ that were created are both one-dimensional arrays**. Let's plot the data we created."
      ]
    },
    {
      "cell_type": "code",
      "execution_count": null,
      "metadata": {
        "id": "nObimhW-HaiU",
        "scrolled": true
      },
      "outputs": [],
      "source": [
        "# In order to draw a graph of y = sin (x) smoothly,\n",
        "# calculate the value of sin in increments of 0.01\n",
        "# and display it as a line graph\n",
        "xg = np.arange(-3, 3, 0.01)\n",
        "yg = np.sin(xg)\n",
        "plt.plot(xg, yg, \"red\", label=\"ground truth\")\n",
        "\n",
        "# Display the created data as a scatter plot diagram\n",
        "plt.scatter(x, y, label=\"observed data\")\n",
        "\n",
        "plt.legend(loc = \"lower right\") # Display legend\n",
        "plt.show()"
      ]
    },
    {
      "cell_type": "markdown",
      "metadata": {
        "id": "79ERkKbRXXbg"
      },
      "source": [
        "<!-- JPN -->\n",
        "　基本的には $y = \\sin(x)$ に従っているが、 $y$ に関する観測誤差のためにわずかに上下に値がずれている。"
      ]
    },
    {
      "cell_type": "markdown",
      "metadata": {
        "id": "u7WPbnYUkARk"
      },
      "source": [
        "<!-- ENG -->\n",
        "　Basically, it follows $y = \\sin(x)$, but the values ​​are slightly varied up and down due to the observation error regarding $y$."
      ]
    },
    {
      "cell_type": "markdown",
      "metadata": {
        "id": "s2oovc7aX4fx"
      },
      "source": [
        "<!-- JPN -->\n",
        "### 2.2 | scikit-learnを利用した多項式回帰\n",
        "　それでは、多項式回帰を行うことで、 $\\sin(x)$ を3次関数 $\\hat f(x) = \\hat w_0 + \\hat w_1x^1 + \\hat w_2x^2 + \\hat w_3x^3$ で近似してみる。ここで **$[s, t, u] = [x^1, x^2, x^3]$** という3つの説明変数を考えると、**3変数の線形回帰と全く同じ式**に帰着することができる。"
      ]
    },
    {
      "cell_type": "markdown",
      "metadata": {
        "id": "fP5zRKL8kARk"
      },
      "source": [
        "<!-- ENG -->\n",
        "### 2.2 | Polynomial regression using scikit-learn\n",
        "　Now, let's approximate $\\sin(x)$ by doing a polynomial regression with the cubic function $\\hat f(x) = \\hat w_0 + \\hat w_1x^1 + \\hat w_2x^2 + \\hat w_3x^3$. If we consider the three explanatory variables, **$[s, t, u] = [x^1, x^2, x^3]$**, we can arrive at **the exact same equation as the linear regression of the three variables**."
      ]
    },
    {
      "cell_type": "markdown",
      "metadata": {
        "id": "evNjB-svkARl"
      },
      "source": [
        "![Figure 1](https://i.imgur.com/WuOonqI.png)"
      ]
    },
    {
      "cell_type": "markdown",
      "metadata": {
        "id": "nZmb6zDzm-e0"
      },
      "source": [
        "<!-- JPN -->\n",
        "**線形回帰と多項式回帰の関係**  定数項は $w_0$ で表現している。"
      ]
    },
    {
      "cell_type": "markdown",
      "metadata": {
        "id": "iiQ5GpJUkARl"
      },
      "source": [
        "<!-- ENG -->\n",
        "**Relationship between linear and polynomial regression** The constant term is represented by $w_0$."
      ]
    },
    {
      "cell_type": "markdown",
      "metadata": {
        "id": "gUKPFP-DqeV5"
      },
      "source": [
        "<!-- JPN -->\n",
        "　このことから、scikit-learnでは、以下の手順で3次多項式の回帰を実現する。\n",
        "\n",
        "1. `PolynomialFeatures()` クラスを利用して スカラー値 $x$ を 3 個の説明変数 $[x_1, x_2, x_3]^T = [x^1, x^2, x^3]^T$ に拡張する。\n",
        "2. $[x_1, x_2, x_3]^T$ を入力として、線形回帰 `LinearRegression()` を行うことで、 $\\boldsymbol{\\hat{w}} = [\\hat w_1, \\hat w_2, \\hat w_3]^T, \\hat b$ を推定する。\n"
      ]
    },
    {
      "cell_type": "markdown",
      "metadata": {
        "id": "Vy1jcxX2kARl"
      },
      "source": [
        "<!-- ENG -->\n",
        "　Therefore, in scikit-learn, the following procedure is used to achieve cubic polynomial regression.\n",
        "\n",
        "1. Use the `PolynomialFeatures()` class to extend the scalar value $x$ to three explanatory variables $[x_1, x_2, x_3]^T = [x^1, x^2, x^3]^T$.\n",
        "2. Take $[x_1, x_2, x_3]^T$ as input and estimate $\\boldsymbol{\\hat w}^T = [\\hat w_1, \\hat w_2, \\hat w_3]^T, \\hat b$ by performing `LinearRegression()`.\n"
      ]
    },
    {
      "cell_type": "markdown",
      "metadata": {
        "id": "dDMnl0yqBhDp"
      },
      "source": [
        "<!-- JPN -->\n",
        "　それでは早速 `PolynomialFeatures()` を使ってみよう。 `PolynomialFeatures()` は、以下のような基底関数 $\\phi_i(x)$ の組を使って 1 変数の値を $p+1$ 変数の値に拡張する（正確には2変数以上の値も処理できるが、ここでは説明を割愛する）。"
      ]
    },
    {
      "cell_type": "markdown",
      "metadata": {
        "id": "AGRuGVaSkARm"
      },
      "source": [
        "<!-- ENG -->\n",
        "　Now let's try using `PolynomialFeatures()`. `PolynomialFeatures()` extends the value of one variable to the value of $p+1$ variables using a pair of basis functions $\\phi_i(x)$ as follows (to be precise, it can handle more than two variables, but I will not explain it here)."
      ]
    },
    {
      "cell_type": "markdown",
      "metadata": {
        "id": "6ikjAAfPMTEj"
      },
      "source": [
        "$$ \n",
        "\\phi(x) = \\left[ \n",
        "  \\begin{array}{c}\n",
        "    \\phi_0(x)\\\\\n",
        "    \\phi_1(x)\\\\\n",
        "    \\vdots\\\\\n",
        "    \\phi_p(x)\n",
        "  \\end{array}\n",
        "\\right] = \\left[\n",
        "  \\begin{array}{c}\n",
        "    1\\\\\n",
        "    x\\\\\n",
        "    \\vdots\\\\\n",
        "    x^p\n",
        "  \\end{array}\n",
        "\\right]\n",
        "  $$"
      ]
    },
    {
      "cell_type": "markdown",
      "metadata": {
        "id": "VBsncYU1KdDb"
      },
      "source": [
        "<!-- JPN -->\n",
        "　ただし、これまでに説明したように `LinearRegression()` はそれ自体が定数項を追加するため、`PolynomialFeatures`が定数項を作成してしまうのは好ましくない。このような時は、 `PolynomialFeatures(include_bias=False)` と指定すれば、定数関数 $\\phi_0(x) = x^0 = 1$ を除外して $p$ 変数の値に拡張することができる。"
      ]
    },
    {
      "cell_type": "markdown",
      "metadata": {
        "id": "yU3qFxnzLK8K"
      },
      "source": [
        "<!-- ENG -->\n",
        "　As mentioned before, `LinearRegression()` itself adds a constant term, and thus it is not desirable that `PolynomialFeatures` creates a constant term. In such a case, you can specify `PolynomialFeatures(include_bias=False)` to exclude the constant function $\\phi_0(x) = x^0 = 1$ and extend one variable $x$ to the $p$ variables."
      ]
    },
    {
      "cell_type": "markdown",
      "metadata": {
        "id": "D7JMusU4MWEK"
      },
      "source": [
        "<!-- JPN -->\n",
        "`PolynomialFeatures()` 自体も入力として行列 $X$ を受け取るものになっている。2.1節で作成した $\\boldsymbol{x}$ は行列になっていないので、行列表現に変換してから、 `PolynomialFeatures()` を利用する。"
      ]
    },
    {
      "cell_type": "markdown",
      "metadata": {
        "id": "CyCg3Z4qkARm"
      },
      "source": [
        "<!-- ENG -->\n",
        "`PolynomialFeatures()` itself takes a matrix $X$ as input. Since the $\\boldsymbol{x}$ created in Section 2.1 is not a matrix, we will convert it to a matrix representation and then use `PolynomialFeatures()`."
      ]
    },
    {
      "cell_type": "code",
      "execution_count": null,
      "metadata": {
        "id": "rgq_m4fUpx93",
        "scrolled": true
      },
      "outputs": [],
      "source": [
        "print(x)  # The original data is a one-dimensional array"
      ]
    },
    {
      "cell_type": "code",
      "execution_count": null,
      "metadata": {
        "id": "GxwO_spzaaAF",
        "scrolled": true
      },
      "outputs": [],
      "source": [
        "X = x.reshape(-1, 1) # Make a data matrix with N vertically arranged data consisting of a single feature.\n",
        "print(X)"
      ]
    },
    {
      "cell_type": "code",
      "execution_count": null,
      "metadata": {
        "id": "OIb1C8qLB6_K",
        "scrolled": true
      },
      "outputs": [],
      "source": [
        "from sklearn.preprocessing import PolynomialFeatures\n",
        "\n",
        "p = 3 # Use up to the 3rd order\n",
        "\n",
        "# It can be converted by running fit_transform()\n",
        "X_poly = PolynomialFeatures(degree=p, include_bias=False).fit_transform(X)\n",
        "print(X_poly) # Note that the order is x^1, x^2, x^3"
      ]
    },
    {
      "cell_type": "markdown",
      "metadata": {
        "id": "OPX-vrHua7MB"
      },
      "source": [
        "<!-- JPN -->\n",
        "　なお、`1.00e+01`とは、$1.00 \\times 10^{1} = 10.0$ という意味である。あとは、これを使って `LinearRegression()` をすれば、多項式回帰が行えるはずである。"
      ]
    },
    {
      "cell_type": "markdown",
      "metadata": {
        "id": "sjrJGndZkARn"
      },
      "source": [
        "<!-- ENG -->\n",
        "　Note that `1.00e+01` means that $1.00\\times 10^{1} = 10.0$. Next, we can use this to do `LinearRegression()`, and thus we should be able to carry out polynomial regression."
      ]
    },
    {
      "cell_type": "markdown",
      "metadata": {
        "id": "SvfiFXVASS_Y"
      },
      "source": [
        "------"
      ]
    },
    {
      "cell_type": "markdown",
      "metadata": {
        "id": "nC646SYUC1Ku"
      },
      "source": [
        "<!-- JPN -->\n",
        "#### 課題 2\n",
        "\n",
        "　上記の特徴量を用いて3.1節と同様に線形回帰を行うことで、多項式回帰が実現される。\n",
        "1.2節で実行した線形回帰のコードを参考に、`LinearRegression()` を用いて線形モデルを構築し、`model.coef_` および `model.intercept_` を出力せよ。\n",
        "\n",
        "　なお、課題提出時には、`model.coef_` および `model.intercept_` の結果を、**小数点以下第4桁を四捨五入した値**をレポートに記述せよ。"
      ]
    },
    {
      "cell_type": "markdown",
      "metadata": {
        "id": "FrrQqp62kARn"
      },
      "source": [
        "<!-- ENG -->\n",
        "#### Exercise 2\n",
        "\n",
        "　Polynomial regression is performed by performing linear regression as in Section 3.1 using the above feature.\n",
        "Using the linear regression code you ran in Section 1.2 as a reference, build a linear model using `LinearRegression()` and output `model.coef_` and `model.intercept_`.\n",
        "\n",
        "　When you submit your exercise assignment, write the results of `model.coef_` and `model.intercept_`, **rounded off to three decimal places**, in your report."
      ]
    },
    {
      "cell_type": "markdown",
      "metadata": {
        "id": "j8zcW4fFNMY_"
      },
      "source": [
        "<!-- ANS-JPN -->\n",
        "#### <font color=red>解答例：課題 2</font>"
      ]
    },
    {
      "cell_type": "code",
      "execution_count": null,
      "metadata": {
        "id": "V4NsdJXPM4al"
      },
      "outputs": [],
      "source": [
        "# ANS\n",
        "model = LinearRegression()\n",
        "model.fit(X_poly, y)\n",
        "\n",
        "print(model.coef_)\n",
        "print(model.intercept_)"
      ]
    },
    {
      "cell_type": "markdown",
      "metadata": {
        "id": "Hbd3k3XLSVx-"
      },
      "source": [
        "-------"
      ]
    },
    {
      "cell_type": "markdown",
      "metadata": {
        "id": "3ri0mXzZE1lh"
      },
      "source": [
        "<!-- JPN -->\n",
        "#### 課題 3\n",
        "\n",
        "　課題 2 の結果を解釈しよう。推定された3次関数式 $\\hat f(x)$ を答えよ。ただし、課題 2 と同様に、係数は全て**小数点以下第4位を四捨五入し**、`f(x) = ax^3 + bx^2 + cx + d` の形式でレポートに記述せよ。"
      ]
    },
    {
      "cell_type": "markdown",
      "metadata": {
        "id": "c7DzbIlKkARn"
      },
      "source": [
        "<!-- ENG -->\n",
        "#### Exercise 3\n",
        "\n",
        "　Interpret the results of exercise 2. Answer the estimated cubic function equation $\\hat f(x)$. However, as in exercise 2, **round off all coefficients to three decimal places**, and write your report in the form `f(x) = ax^3 + bx^2 + cx + d`."
      ]
    },
    {
      "cell_type": "markdown",
      "metadata": {
        "id": "o6AZnb97NW14"
      },
      "source": [
        "<!-- ANS-JPN -->\n",
        "#### <font color=red>解答例：課題 3</font>\n",
        "\n",
        "上記 課題 2の結果から、 $f(x) = 0.098 x^3 + 0.013 x^2 - 0.888 x - 0.020$ が答えとなる。`y=sin(x)` の `x=0` 近傍におけるテイラー展開を考えて、係数の順序などが適切であることを確認すると良い。"
      ]
    },
    {
      "cell_type": "markdown",
      "metadata": {
        "id": "xV6fmvUSTo-A"
      },
      "source": [
        "-------"
      ]
    },
    {
      "cell_type": "markdown",
      "metadata": {
        "id": "qyUr_-yMDKZP"
      },
      "source": [
        "<!-- JPN -->\n",
        "### 2.3 | `make_pipeline()` を利用したモデルの構築\n",
        "\n",
        "　今回の予測は、「多項式の特徴量作成」と「線形回帰」という複数のステップを踏んだ。このような場合、いちいち途中結果を出力することなく、複数のステップを1つにまとめたモデルを作る`make_pipeline()`が利用可能である。ただし、`make_pipeline()`を利用すると重みを取り出すためにひと手間必要になるので注意が必要だ。"
      ]
    },
    {
      "cell_type": "markdown",
      "metadata": {
        "id": "PvalGU5hkARo"
      },
      "source": [
        "<!-- ENG -->\n",
        "### 2.3 | Building a model using `make_pipeline()`\n",
        "\n",
        "　Our prediction so far took multiple steps that are \"polynomial feature generation\" and \"linear regression.\" Alternatively, we can use `make_pipeline()` which constructs a model by combining multiple steps into one without having to output the results of each step. Note, however, that if you use `make_pipeline()`, you will need to do a little work to get the weights."
      ]
    },
    {
      "cell_type": "code",
      "execution_count": null,
      "metadata": {
        "id": "gHENcnLvE7Wv",
        "scrolled": true
      },
      "outputs": [],
      "source": [
        "from sklearn.linear_model import LinearRegression\n",
        "from sklearn.pipeline import make_pipeline\n",
        "\n",
        "p = 3 # Use up to the 3rd order\n",
        "\n",
        "# Input make_pipeline (1st process, 2nd process, ...) in the order being processed.\n",
        "model_polyreg = make_pipeline(\n",
        "    PolynomialFeatures(degree=p, include_bias=False),\n",
        "    LinearRegression())\n",
        "\n",
        "# You can simply use fit() even when processing multiple calculations\n",
        "X = x.reshape(-1, 1)\n",
        "model_polyreg.fit(X, y)"
      ]
    },
    {
      "cell_type": "code",
      "execution_count": null,
      "metadata": {
        "id": "NGO74LJDcs08",
        "scrolled": true
      },
      "outputs": [],
      "source": [
        "# Since LinearRegression is the second element of Pipeline,\n",
        "# access the contents of LinearRegression as model_polyreg[1].\n",
        "print(model_polyreg[1].coef_)\n",
        "print(model_polyreg[1].intercept_)"
      ]
    },
    {
      "cell_type": "markdown",
      "metadata": {
        "id": "PzK2i5YTd8RM"
      },
      "source": [
        "<!-- JPN -->\n",
        "### 2.4 結果の描画とパラメータ $p$ の調整\n",
        "\n",
        "　ところで予測された $\\hat f(x)$ はどれほど $\\sin(x)$ に似ているだろうか。グラフを描画して確認してみる。"
      ]
    },
    {
      "cell_type": "markdown",
      "metadata": {
        "id": "7Rh5DsAVkARp"
      },
      "source": [
        "<!-- ENG -->\n",
        "### 2.4 Drawing the results and adjusting parameter $p$\n",
        "\n",
        "　How similar is the predicted $\\hat f(x)$ to $\\sin(x)$, by the way? Check it by drawing a graph."
      ]
    },
    {
      "cell_type": "code",
      "execution_count": null,
      "metadata": {
        "id": "GwpS8LJfDt5p",
        "scrolled": true
      },
      "outputs": [],
      "source": [
        "# Function to do all drawings\n",
        "# x, y are one-dimensional arrays\n",
        "def draw(x, y, model):\n",
        "  # Scatter plot diagram of data points used for machine learning\n",
        "  plt.scatter(x, y, label=\"observed data\")\n",
        "\n",
        "  # Draw sin(x)\n",
        "  xg = np.arange(-3, 3, 0.01)\n",
        "  yg = np.sin(xg)\n",
        "  plt.plot(xg, yg, \"red\", label=\"ground truth\")\n",
        "\n",
        "  # Draw the estimated f(x)\n",
        "  Xg = xg[:, np.newaxis] # Convert it into matrix\n",
        "  y_est = model.predict(Xg)\n",
        "  plt.plot(xg, y_est, \"blue\", label=\"estimation\")\n",
        "\n",
        "  # Plotting processing\n",
        "  plt.legend(loc = \"lower right\") # Display legend\n",
        "  plt.show()"
      ]
    },
    {
      "cell_type": "code",
      "execution_count": null,
      "metadata": {
        "id": "DhXx68DLeUoo",
        "scrolled": true
      },
      "outputs": [],
      "source": [
        "# Input the first data x, y and the model created with pipeline.\n",
        "draw(x, y, model_polyreg)"
      ]
    },
    {
      "cell_type": "markdown",
      "metadata": {
        "id": "RPlw5e1DFnZJ"
      },
      "source": [
        "<!-- JPN -->\n",
        "　本来の関数が赤いグラフ、今回推定した $\\hat f(x)$ が青いグラフとなっている。かなり良い近似が得られているようだ。"
      ]
    },
    {
      "cell_type": "markdown",
      "metadata": {
        "id": "SRLkhgA5kARq"
      },
      "source": [
        "<!-- ENG -->\n",
        "　The original function is shown as a red graph, and the estimated $\\hat f(x)$ is shown as a blue graph. It seems we are getting a pretty good approximation."
      ]
    },
    {
      "cell_type": "markdown",
      "metadata": {
        "id": "HoieUagEesKc"
      },
      "source": [
        "<!-- JPN -->\n",
        "　さて、描画結果を見ることができるようになり、予測結果の良しあしを（主観的ながら）考えることができるようになったので、近似する多項式の次数 $p$ の値を変更させてみて、どのように関数形状が変化するか確認してみる。$p = 1$ から $p = 9$ まで変更させながら、関数の形状が本来の関数とどの程度類似するかを確認してみよ。"
      ]
    },
    {
      "cell_type": "markdown",
      "metadata": {
        "id": "5hGBSlDkkARq"
      },
      "source": [
        "<!-- ENG -->\n",
        "　Now that we can see the results of the drawing, we can consider (subjectively) whether the prediction is good or bad, so let's try changing the value of order $p$ of the polynomial to be approximated and see how the function shape changes. Observe how similar the shape of the function is to that of the original function as you change from $p = 1$ to $p = 9$."
      ]
    },
    {
      "cell_type": "code",
      "execution_count": null,
      "metadata": {
        "id": "hTi8QsRNQEpt",
        "scrolled": true
      },
      "outputs": [],
      "source": [
        "p = 6 # This is the order of the polynomial. Let's try to vary it from one to nine\n",
        "\n",
        "model_polyreg = make_pipeline(\n",
        "    PolynomialFeatures(degree=p, include_bias=False),\n",
        "    LinearRegression())\n",
        "X = x.reshape(-1, 1)\n",
        "model_polyreg.fit(X, y)\n",
        "draw(x, y, model_polyreg)"
      ]
    },
    {
      "cell_type": "markdown",
      "metadata": {
        "id": "9gey4GXVP0mC"
      },
      "source": [
        "<!-- JPN -->\n",
        "　多項式の次数 $p$ が増えるに従い推定された関数 (estimation) と真の関数 (ground truth) の形状が似てくるのだが、$p = 5$ あたりから推定された関数の形状が $\\sin(x)$ とかみ合わなくなり始め、 $p = 6$ 以降では全く関数形状が推定できなくなってしまう。\n",
        "\n",
        "　$p = 6$の場合、3次多項式の要素 $x^1, x^2, x^3$ は全て含まれており、3次多項式と同程度以上の高精度な予測が期待できるはずなのだが、$x^4, x^5, x^6$ の情報を使って観測データをより詳細に、**観測誤差までも**予測しようとし、結果として元の関数の形状を推定できなくなっている。これは**過剰適合(overfitting, 過学習ともいう)** と呼ばれる現象であり、**データ数が少なく、説明変数が多い時**に特に発生しやすい（**補足資料 ※1**）。"
      ]
    },
    {
      "cell_type": "markdown",
      "metadata": {
        "id": "OnMO3i34kARq"
      },
      "source": [
        "<!-- ENG -->\n",
        "　As the order $p$ of the polynomial increases, the shape of the estimated function (estimation) and the true function (ground truth) become more and more similar, but around $p = 5$, the shape of the estimated function starts to no longer match $\\sin(x)$, and after $p = 6$, the function shape cannot be estimated at all.\n",
        "\n",
        "　In the case of $p = 6$, all the elements $x^1, x^2, x^3$ of the cubic polynomial are included, and we should expect a prediction as accurate or better than the cubic polynomial, but the information of $x^4, x^5, x^6$ is also used to predict the observed data in more detail, **even the observation error**, and as a result, we cannot estimate the shape of the original function. This is a phenomenon called **overfitting**, which is especially likely to occur **when the number of data is small and the number of explanatory variables is large** (**Supplementary Material S1**)."
      ]
    },
    {
      "cell_type": "markdown",
      "metadata": {
        "id": "U166nPdJS6V-"
      },
      "source": [
        "<!-- JPN -->\n",
        "## 3 | 過剰適合を防ぐ正則化（Ridge回帰; Ridge regression）\n",
        "\n",
        "　第2章の結果から、多項式の次元数 $p$ が非常に大きい時、多項式回帰の結果は過剰適合していることが分かった。\n",
        "これを避ける工夫として広く用いられているのが **Ridge回帰**である。"
      ]
    },
    {
      "cell_type": "markdown",
      "metadata": {
        "id": "xt69uUbSkARr"
      },
      "source": [
        "<!-- ENG -->\n",
        "## 3 | Norm regularization to prevent overfitting (Ridge regression）\n",
        "\n",
        "　In Section 2, we found that when the order $p$ of the polynomial is very large, the results of the polynomial regression are overfitted.\n",
        "**Ridge regression** is a widely used method to avoid this problem."
      ]
    },
    {
      "cell_type": "markdown",
      "metadata": {
        "id": "uyFofCImhR67"
      },
      "source": [
        "<!-- JPN -->\n",
        "### 3.1 | scikit-learnの`Ridge()`を利用したRidge回帰の実施"
      ]
    },
    {
      "cell_type": "markdown",
      "metadata": {
        "id": "-WHrZPg1kARr"
      },
      "source": [
        "<!-- ENG -->\n",
        "### 3.1 | Performing ridge regression using `Ridge()` in scikit-learn"
      ]
    },
    {
      "cell_type": "markdown",
      "metadata": {
        "id": "bFLmlCq_h2_O"
      },
      "source": [
        "<!-- JPN -->\n",
        "　Ridge回帰はscikit-learnに`Ridge()`として定義されているので、これを利用して過剰適合を抑えてみる。 `Ridge()` には L2 正則化項の重み `alpha` をパラメータとして与える必要がある。`alpha` の値が大きいほど、過剰適合を抑えることができるはずだ。\n",
        "\n",
        "　以下のコードの `alpha = 0.1` の部分を様々な値に変更させながら、推定された関数形状を確認してみよ。"
      ]
    },
    {
      "cell_type": "markdown",
      "metadata": {
        "id": "F1pywfsZkARs"
      },
      "source": [
        "<!-- ENG -->\n",
        "　Ridge regression is defined in scikit-learn as `Ridge()`, so we will try to use it to prevent overfitting. `Ridge()` needs to be given the weight `alpha` of the L2 norm regularization term as a parameter. The higher the `alpha` value, the less overfitting there is.\n",
        "\n",
        "　Let's check the estimated function shape while changing the `alpha = 0.1` part of the following code to various values."
      ]
    },
    {
      "cell_type": "code",
      "execution_count": null,
      "metadata": {
        "id": "8-9U0lJLjAl7",
        "scrolled": false
      },
      "outputs": [],
      "source": [
        "from sklearn.preprocessing import PolynomialFeatures\n",
        "from sklearn.linear_model import Ridge\n",
        "from sklearn.pipeline import make_pipeline\n",
        "\n",
        "p = 6\n",
        "alpha = 0.1\n",
        "\n",
        "model_poly_ridge = make_pipeline(\n",
        "    PolynomialFeatures(degree=p, include_bias=False), \n",
        "    Ridge(alpha=alpha))\n",
        "X = x.reshape(-1, 1) \n",
        "model_poly_ridge.fit(X, y)\n",
        "draw(x, y, model_poly_ridge)"
      ]
    },
    {
      "cell_type": "markdown",
      "metadata": {
        "id": "sY6HcnXtnEVp"
      },
      "source": [
        "<!-- JPN -->\n",
        "　どうだろうか。正しく機能しているだろうか。**実はこれだけではなかなかうまくいかない**。\n",
        "\n",
        "　Ridge回帰の式を再度考えてみよう。Ridge回帰では、**損失関数**（今回の場合は平均二乗誤差）**と、モデルの複雑さを制御する L2 正則化項** (L2 norm regularization term) **の和が最小になるように重み $\\boldsymbol{w}$ を決定**する。（「モデルの複雑さ」については、今回の場合はグラフの荒ぶり度合いを想像すればよい）"
      ]
    },
    {
      "cell_type": "markdown",
      "metadata": {
        "id": "3nNtHwS9kARs"
      },
      "source": [
        "<!-- ENG -->\n",
        "　What do you think? Is it working properly?  **In fact, this is not quite enough to make it work**.\n",
        "\n",
        "\n",
        "\n",
        "　Let's consider the ridge regression equation again. In Ridge regression, **the weights $\\boldsymbol{w}$ are determined so that the sum of the loss function** (mean squared error in this case) **and the L2 norm regularization term that controls the complexity of the model is minimized**. (For \"model complexity\", in this case you can imagine from how rough the graph is)"
      ]
    },
    {
      "cell_type": "markdown",
      "metadata": {
        "id": "w1sxBOW2nF4-"
      },
      "source": [
        "$$\\frac{1}{n} \\sum^n_{i=1} l(f(\\boldsymbol{x}_{(i)}),y_i) + \\lambda||\\boldsymbol{w}||^2_2$$"
      ]
    },
    {
      "cell_type": "markdown",
      "metadata": {
        "id": "-_oTv58Q-Ed_"
      },
      "source": [
        "<!-- JPN -->\n",
        "この式の中で $\\lambda |\\boldsymbol{w}|_2^2$ が正則化項である。この式から、正則化項の重み $\\lambda$ （sklearnでは`alpha`）を各重み **$w_i$ に対して均等に**効かせる。\n",
        "\n",
        "　一方、値の幅が大きい特徴量（今回の場合、$x^1$ よりも $x^6$ の方が値の幅（＝分散）が大きくなっているはずである）の重み $\\boldsymbol{w}$ は一般に小さくなるので、正則化項の重み $\\lambda$ (`alpha`) の効き目が弱くなってしまうのである（**補足資料 ※2**）。\n",
        "\n",
        "　このように、**値の幅が異なる説明変数に対してRidge回帰を適用する場合には、特徴量の値を平均0、分散1にそろえる標準化 (Standardization) を行う**と良い。標準化を行う場合は、`make_pipeline`の`Ridge`の前に`StandardScaler()`を導入する。"
      ]
    },
    {
      "cell_type": "markdown",
      "metadata": {
        "id": "9FRKsHOrkARt"
      },
      "source": [
        "<!-- ENG -->\n",
        "In this equation, $\\lambda |\\boldsymbol{w}|_2^2$ is the norm regularization term. From this equation, the weight of the norm regularization term $\\lambda$ (`alpha` in scikit-learn) is applied **equally to each weight $w_i$**.\n",
        "\n",
        "　On the other hand, the weight $\\boldsymbol{w}$ of a feature with a large range of values (in this case, the range of values (= variance) should be larger for $x^6$ than for $x^1$) is generally small, so the effect of the weight $\\lambda$ (`alpha`) of the norm regularization term becomes weaker (**Supplementary Material S2**).\n",
        "\n",
        "　Thus, **when ridge regression is applied to explanatory variables with different value ranges, it is recommended to perform standardization to align the values of the features to mean 0 and variance 1.** To standardize, introduce `StandardScaler()` before the `Ridge` in `make_pipeline`."
      ]
    },
    {
      "cell_type": "code",
      "execution_count": null,
      "metadata": {
        "id": "dw_1zltG9TEW",
        "scrolled": true
      },
      "outputs": [],
      "source": [
        "from sklearn.preprocessing import PolynomialFeatures, StandardScaler\n",
        "from sklearn.linear_model import Ridge\n",
        "from sklearn.pipeline import make_pipeline\n",
        "\n",
        "p = 6\n",
        "alpha  = 0.1\n",
        "\n",
        "model_poly_ridge = make_pipeline(\n",
        "    PolynomialFeatures(degree=p, include_bias=False), \n",
        "    StandardScaler(),\n",
        "    Ridge(alpha=alpha))\n",
        "model_poly_ridge.fit(X, y)\n",
        "\n",
        "draw(x, y, model_poly_ridge)"
      ]
    },
    {
      "cell_type": "markdown",
      "metadata": {
        "id": "GHqTl32O-byQ"
      },
      "source": [
        "<!-- JPN -->\n",
        "　これを行うことで、高次の項まで利用した場合でも、だいぶ本来の $y = \\sin(x)$ に近い関数形状を推定することができた。このように、Ridge回帰は過剰適合を抑えることができる。\n",
        "\n",
        "　ただしその一方で、この予測された関数は**3次多項式による近似に比べると関数形状の推定が僅かに悪い**ことには注意する必要がある。**予測すべき対象の関数の概形が既知**で、それに対して**適切な関数（モデル）が理論や人間の感覚から推定できる**のであれば、**それより複雑なモデルを導入しても通常良い結果はもたらさない**ということは、覚えておくと良いだろう。（**補足資料 ※3**）"
      ]
    },
    {
      "cell_type": "markdown",
      "metadata": {
        "id": "MEXYKj9okARu"
      },
      "source": [
        "<!-- ENG -->\n",
        "　By doing this, we were able to estimate a function shape that is much closer to the original $y = \\sin(x)$, even when using higher order terms. In this way, ridge regression can prevent overfitting.\n",
        "\n",
        "　On the other hand, it should be noted that this predicted function gives **a slightly worse estimation of the function shape than the approximation by a cubic polynomial**. It is worth remembering that if **the approximate form of the function to be predicted is known**, and **an appropriate function (model) for it can be estimated from theory or human intuition**, then **introducing a more complex model will not usually produce good results**. (**Supplementary Material S3**)"
      ]
    },
    {
      "cell_type": "markdown",
      "metadata": {
        "id": "sQfaVZU1ShuR"
      },
      "source": [
        "-----------"
      ]
    },
    {
      "cell_type": "markdown",
      "metadata": {
        "id": "X4BzF6qfGjCw"
      },
      "source": [
        "<!-- JPN -->\n",
        "#### 課題 4\n",
        "\n",
        "　上記の資料では、Ridge回帰の `alpha` を0.1としていた。この値を $\\alpha = 1$ や $\\alpha = 10$ と大きくしていった場合にestimationのグラフはどう変化するだろうか。`StandardScaler()`を含めたRidge回帰パイプラインに対して様々な $\\alpha$ を適用し、簡潔に解答せよ。\n"
      ]
    },
    {
      "cell_type": "markdown",
      "metadata": {
        "id": "m7hk--IPkARu"
      },
      "source": [
        "<!-- ENG -->\n",
        "#### Exercise 4\n",
        "\n",
        "　In the above document, the ridge regression `alpha` was set to 0.1. How does the estimation graph change if this value is increased to $\\alpha = 1$ or $\\alpha = 10$? Apply various $\\alpha$ to the ridge regression pipeline, including `StandardScaler()`, and give a concise answer.\n"
      ]
    },
    {
      "cell_type": "markdown",
      "metadata": {
        "id": "SMc8or8Xdx3B"
      },
      "source": [
        "<!-- ANS-JPN -->\n",
        "#### <font color=red>解答例：課題 4</font>\n",
        "αが大きくなるにつれて正則化の重みが強くなるため、αを大きくするとestimationのグラフが平坦になり、正弦曲線から離れていく。"
      ]
    },
    {
      "cell_type": "markdown",
      "metadata": {
        "id": "xbbf1KceSkSm"
      },
      "source": [
        "----"
      ]
    },
    {
      "cell_type": "markdown",
      "metadata": {
        "id": "4Rk45udCPigt"
      },
      "source": [
        "<!-- JPN -->\n",
        "#### 課題 5\n",
        "\n",
        "　課題 4 で示したように、 $\\alpha$ の値は予測結果に大きな影響を与え、かつ最適な $\\alpha$ の値はその時々によって変化してしまう。また、ハイパーパラメータの選択肢が膨大になった場合には主観的なモデル選択は困難である。\n",
        "そこで、基盤データサイエンス演習 第3回で学習した `GridSearchCV()` を用いて、**5-fold 交差検証法 (cross validation)** による $\\alpha \\in [10^{-4}, 10^{-3}, ..., 10^{0}, 10^1]$ のハイパーパラメータ探索を行い、この回帰問題における最適な $\\alpha$ の値を推定せよ。\n",
        "\n",
        "　なお、pipelineの中のモデルに対して`GridSearchCV()`を行うのは簡単ではないため（不可能ではない）、以下のコードを参考に、Ridge回帰部分のみに対して`GridSearchCV()`を実施せよ。"
      ]
    },
    {
      "cell_type": "markdown",
      "metadata": {
        "id": "L6We2DU4kARv"
      },
      "source": [
        "<!-- ENG -->\n",
        "#### Exercise 5\n",
        "\n",
        "　As shown in Exercise 4, the value of $\\alpha$ has a significant impact on the prediction results, and the optimal value of $\\alpha$ can vary from time to time. In addition, subjective model selection is difficult when the choice of hyperparameters becomes significantly large.\n",
        "Using `GridSearchCV()` that we learned in the Exercises in Fundamentals of Data Science ③, perform an $\\alpha \\in [10^{-4}, 10^{-3}, ..., 10^{0}, 10^1]$ hyperparameter search using **5-fold cross validation**, and estimate the optimal value of $\\alpha$ for this regression problem.\n",
        "\n",
        "　Note that it is not easy (but not impossible) to perform `GridSearchCV()` on the models in the pipeline, so refer to the following code and perform `GridSearchCV()` only on the ridge regression part."
      ]
    },
    {
      "cell_type": "code",
      "execution_count": null,
      "metadata": {
        "id": "BQZwJIqw070n",
        "scrolled": true
      },
      "outputs": [],
      "source": [
        "# Incomplete code\n",
        "\n",
        "from sklearn.model_selection import GridSearchCV\n",
        "\n",
        "p = 6\n",
        "param_grid = _____________\n",
        "X_poly = PolynomialFeatures(degree=p, include_bias=False).fit_transform(X)\n",
        "X_poly_standardized = StandardScaler().fit_transform(X_poly)\n",
        "\n",
        "grid_search_ridge = GridSearchCV(__________)\n",
        "grid_search_ridge.fit(X_poly_standardized, y)"
      ]
    },
    {
      "cell_type": "markdown",
      "metadata": {
        "id": "-v-7IL_UT8oq"
      },
      "source": [
        "<!-- ANS-JPN -->\n",
        "#### <font color=red>解答例：課題 5</font>\n"
      ]
    },
    {
      "cell_type": "code",
      "execution_count": null,
      "metadata": {
        "colab": {
          "base_uri": "https://localhost:8080/"
        },
        "id": "x96aAcQ14lm6",
        "outputId": "e98da133-b5c4-4900-8003-08a19ccdeef3",
        "scrolled": true
      },
      "outputs": [
        {
          "name": "stdout",
          "output_type": "stream",
          "text": [
            "{'alpha': 0.001}\n"
          ]
        }
      ],
      "source": [
        "# ANS\n",
        "\n",
        "from sklearn.model_selection import GridSearchCV\n",
        "\n",
        "p = 6\n",
        "param_grid = [\n",
        "    {\n",
        "        \"alpha\": [1e-4, 1e-3, 1e-2, 1e-1, 1e0, 1e1]\n",
        "     }\n",
        "]\n",
        "X_poly = PolynomialFeatures(degree=p, include_bias=False).fit_transform(X)\n",
        "X_poly_standardized = StandardScaler().fit_transform(X_poly)\n",
        "\n",
        "model = Ridge(fit_intercept=False)\n",
        "\n",
        "grid_search_ridge = GridSearchCV(model, param_grid, cv=5)\n",
        "grid_search_ridge.fit(X_poly_standardized, y)\n",
        "print(grid_search_ridge.best_params_)"
      ]
    },
    {
      "cell_type": "markdown",
      "metadata": {
        "id": "v_OuZTSuSnCX"
      },
      "source": [
        "-------------------"
      ]
    },
    {
      "cell_type": "markdown",
      "metadata": {
        "id": "45YT7oH0HgxO"
      },
      "source": [
        "<!-- JPN -->\n",
        "#### 課題 6（発展、提出対象ではありません）\n",
        "\n",
        "　講義資料を参考に、NumPyを用いて**Ridge回帰**と**特徴量の標準化**を実装し、予測されたグラフがほぼ同一になることを確認せよ。"
      ]
    },
    {
      "cell_type": "markdown",
      "metadata": {
        "id": "zck6TjBFkARv"
      },
      "source": [
        "<!-- ENG -->\n",
        "#### Exercise 6 (Advanced, no need to submit)\n",
        "\n",
        "　Using the lecture materials as a reference, implement **ridge regression** and **feature standardization** using NumPy, and verify that the predicted graphs are nearly identical."
      ]
    },
    {
      "cell_type": "markdown",
      "metadata": {
        "id": "jcw2KcnBdx3C"
      },
      "source": [
        "<!-- ANS-JPN -->\n",
        "#### <font color=red>解答例：課題 6</font>\n",
        "\n",
        "$\\boldsymbol{\\hat w} = (X^TX+\\lambda I)^{-1}X^T\\boldsymbol{y}$\n",
        "\n",
        "を解くことで$\\boldsymbol{\\hat w}$ を計算することができる。\n",
        "以下が実装例であり、$\\boldsymbol{\\hat w}$ がこの計算結果と `print(model_poly_ridge[2].coef_)` などで確認できるRidge回帰で一致することを確認することで計算結果が一致することが確認できる。\n",
        "\n",
        "また、以下のように`draw()`を自分で実装する必要があるが、グラフを描画することもできる。\n",
        "\n",
        "なお、予測時も特徴量の標準化を行わなければならないことに注意せよ。"
      ]
    },
    {
      "cell_type": "code",
      "execution_count": null,
      "metadata": {
        "id": "ReFrlhlBdx3C"
      },
      "outputs": [],
      "source": [
        "# ANS\n",
        "\n",
        "def polynomialfeatures_np(X, degree):\n",
        "    ret = []\n",
        "    for i in range(1, degree+1):\n",
        "        ret.append(X ** i)\n",
        "    return np.hstack(ret)\n",
        "\n",
        "def standardize_np(X):\n",
        "    mu = np.mean(X, axis=0)\n",
        "    sigma = np.std(X, axis=0)\n",
        "    sigma = np.array(\n",
        "        [1 if x==0 else x for x in sigma])\n",
        "    #print(mu, sigma)\n",
        "    X_cent = X - mu # centralized\n",
        "    \n",
        "    return (X - mu) / sigma\n",
        "    \n",
        "def ridge_np(X_train, Y_train, alpha):\n",
        "    XtX = np.dot(X_train.T, X_train)\n",
        "    XtXpluslI = XtX + alpha * np.eye(*XtX.shape) \n",
        "    w_hat = np.dot(np.dot(np.linalg.inv(XtXpluslI), X_train.T), Y_train)\n",
        "    return w_hat"
      ]
    },
    {
      "cell_type": "code",
      "execution_count": null,
      "metadata": {
        "colab": {
          "base_uri": "https://localhost:8080/"
        },
        "id": "8ahqdKC5SF8K",
        "outputId": "2a09d4c2-3f61-4acc-9729-e7cb2319c3e5"
      },
      "outputs": [
        {
          "name": "stdout",
          "output_type": "stream",
          "text": [
            "[[ 1.16527841]\n",
            " [ 0.10244322]\n",
            " [-0.2335626 ]\n",
            " [ 0.03396557]\n",
            " [-0.50434915]\n",
            " [-0.08202628]\n",
            " [ 0.        ]]\n"
          ]
        }
      ],
      "source": [
        "# ANS\n",
        "\n",
        "X_aux = polynomialfeatures_np(X, degree=6)\n",
        "ones = np.ones((10,1))\n",
        "\n",
        "X_aux = np.hstack([X_aux, ones]) # Assign x_3=1 to each data set\n",
        "Y = y.reshape(-1, 1) # Since this is a linear algebra calculation, it should be column vectorized.\n",
        "\n",
        "w_hat = ridge_np(standardize_np(X_aux), Y, 0.1)\n",
        "print(w_hat)"
      ]
    },
    {
      "cell_type": "code",
      "execution_count": null,
      "metadata": {
        "id": "mNvijP1wNP9_"
      },
      "outputs": [],
      "source": [
        "# ANS\n",
        "\n",
        "def draw_np(x, y, w_hat):\n",
        "  # Scatter plot diagram of data points used for machine learning\n",
        "  plt.scatter(x, y, label=\"observed data\")\n",
        "\n",
        "  # Draw sin(x)\n",
        "  xg = np.arange(-3, 3, 0.01)\n",
        "  yg = np.sin(xg)\n",
        "  plt.plot(xg, yg, \"red\", label=\"ground truth\")\n",
        "\n",
        "  # Draw the estimated f(x)\n",
        "  Xg = xg[:, np.newaxis] # Convert it into matrix\n",
        "  ones = np.ones(Xg.shape)\n",
        "  Xg_poly = polynomialfeatures_np(Xg, degree=6)\n",
        "  Xg_poly = np.hstack([Xg_poly, ones])\n",
        "  Xg_poly = standardize_np(Xg_poly)\n",
        "  y_est = np.dot(Xg_poly, w_hat)\n",
        "  plt.plot(xg, y_est, \"blue\", label=\"estimation\")\n",
        "\n",
        "  # Plotting processing\n",
        "  plt.legend(loc = \"lower right\") # Display legend\n",
        "  plt.show()"
      ]
    },
    {
      "cell_type": "code",
      "execution_count": null,
      "metadata": {
        "colab": {
          "base_uri": "https://localhost:8080/",
          "height": 265
        },
        "id": "qMK9Dq5fN5MT",
        "outputId": "b71afe13-30fd-4a78-c703-a33e04d7864a"
      },
      "outputs": [
        {
          "data": {
            "image/png": "[encoded data removed]",
            "text/plain": [
              "<Figure size 432x288 with 1 Axes>"
            ]
          },
          "metadata": {
            "needs_background": "light"
          },
          "output_type": "display_data"
        }
      ],
      "source": [
        "# ANS\n",
        "\n",
        "draw_np(x, y, w_hat)"
      ]
    },
    {
      "cell_type": "markdown",
      "metadata": {
        "id": "5wf0h27fj1zV"
      },
      "source": [
        "-------"
      ]
    },
    {
      "cell_type": "markdown",
      "metadata": {
        "id": "mfoHGg_YWyto"
      },
      "source": [
        "<!-- JPN -->\n",
        "# レポート提出について（2021年度版）\n",
        "\n"
      ]
    },
    {
      "cell_type": "markdown",
      "metadata": {
        "id": "pTuy6MF4_qRU"
      },
      "source": [
        "<!-- ENG -->\n",
        "\n",
        "# Report submissions (FY2021)\n",
        "\n"
      ]
    },
    {
      "cell_type": "markdown",
      "metadata": {
        "id": "leFjB4pNWyto"
      },
      "source": [
        "<!-- JPN -->\n",
        "## レポートの提出方法\n",
        "\n",
        "　レポートは答案テンプレートを参考に、**T2SCHOLA**上の「小テスト」機能を使うこと。**期限は次回の基盤人工知能演習の開始時刻まで**で、それ以後は一切の提出を受け付けないので時間に余裕をもって提出を行うこと。\n"
      ]
    },
    {
      "cell_type": "markdown",
      "metadata": {
        "id": "9fu336fn_qRV"
      },
      "source": [
        "<!-- ENG -->\n",
        "## How to submit reports\n",
        "\n",
        "　The report should be submitted **via T2SCHOLA**. **The deadline is the start of the next Exercise in the Fundamentals of Artificial Intelligence**. Be sure to submit your work with plenty of time to spare as the form cannot receive after the deadline.\n"
      ]
    },
    {
      "cell_type": "markdown",
      "metadata": {
        "id": "USqypDsXXKm9"
      },
      "source": [
        "<!-- JPN -->\n",
        "## 答案テンプレート\n",
        "\n",
        "```\n",
        "学籍番号:\n",
        "名前:\n",
        "\n",
        "課題 1\n",
        "__xxxxx__ = __________________\n",
        "y_hat     = __________________\n",
        "\n",
        "課題 2\n",
        "model.coef_ = __________________\n",
        "model.intercept_ = __________________\n",
        "\n",
        "課題 3\n",
        "f(x) = _____x^3 + _____x^2 + _____x + _____\n",
        "（適宜符号を書き換えよ）\n",
        "\n",
        "課題 4\n",
        "（自由記述）\n",
        "\n",
        "課題 5\n",
        "alpha = \n",
        "\n",
        "```\n",
        "\n"
      ]
    },
    {
      "cell_type": "markdown",
      "metadata": {
        "id": "dAQcs_qSkARx"
      },
      "source": [
        "<!-- ENG -->\n",
        "## Answer Sheet Template\n",
        "\n",
        "```\n",
        "Student ID number:\n",
        "Name:\n",
        "\n",
        "Exercise 1\n",
        "__xxxxx__ = __________________\n",
        "y_hat     = __________________\n",
        "\n",
        "Exercise 2\n",
        "model.coef_ = __________________\n",
        "model.intercept_ = __________________\n",
        "\n",
        "Exercise 3\n",
        "f(x) = _____x^3 + _____x^2 + _____x + _____\n",
        "(Rewrite the sign (plus/minus) as needed)\n",
        "\n",
        "Exercise 4\n",
        "(Write your answer)\n",
        "\n",
        "Exercise 5\n",
        "alpha = \n",
        "\n",
        "```\n",
        "\n"
      ]
    },
    {
      "cell_type": "markdown",
      "metadata": {
        "id": "xtY8qdFUOmtA"
      },
      "source": [
        "<!-- JPN -->\n",
        "# 補足資料\n",
        "\n"
      ]
    },
    {
      "cell_type": "markdown",
      "metadata": {
        "id": "i2fcdboZkARx"
      },
      "source": [
        "<!-- ENG -->\n",
        "# Supplementary Material\n",
        "\n"
      ]
    },
    {
      "cell_type": "markdown",
      "metadata": {
        "id": "CLIOaO62HvCB"
      },
      "source": [
        "<!-- JPN -->\n",
        "## ※1 サンプルサイズが大きければ過剰適合は起きにくい\n",
        "\n",
        "　今回の資料では、サンプルサイズが10件のサンプル（データセット）から `sin(x)` の形状を推定することを行い、6次多項式など、高次多項式を利用すると過剰適合が発生することを確認した。\n",
        "\n",
        "　その説明の中で、「**データ数が少なく**、説明変数が多い時に過剰適合 (overfitting) が発生しやすい」と記載されていたものの、データ数を増やした場合の評価を行うことなく、Ridge回帰に話が進んでしまった。そこで、補足資料として**データ数が10件ではなく1000件**であった時に、6次多項式を用いてみる。\n",
        "\n",
        "　以下のコードを実行してみると、データ数が1000件もあると、Ridge回帰を導入するまでもなく、**3次多項式よりも6次多項式の方がよい関数推定を行うことができる**。\n",
        "`sin(x)`はテイラー展開を考えると、無限次元の多項式を用いないと完全再現できないため、データ数が十分に多ければ多項式の次数は高い方が良い関数推定を行うことができる。モデルの柔軟性（多項式回帰なら次元数 $p$ ）は、予測したい対象の関数の想定される形状と、データ数と相談しながら決定するのが望ましそうだ。"
      ]
    },
    {
      "cell_type": "markdown",
      "metadata": {
        "id": "Sf4_fZK8kARy"
      },
      "source": [
        "<!-- ENG -->\n",
        "## S1 The larger the sample size, the less likely it is that overfitting will occur\n",
        "\n",
        "　In these materials, we estimated the shape of `sin(x)` from a sample (data set) with a sample size of 10, and confirmed that overfitting occurs when higher order polynomials, such as 6th order polynomials are used.\n",
        "\n",
        "　In the explanation, it was stated that \"overfitting tends to occur when **the number of data is small** and the number of explanatory variables is large,\" but the conversation carried forward to ridge regression without evaluating the case where the number of data was increased. Therefore, as supplementary material, when **the number of data is 1000 instead of 10**, try using a 6th order polynomial.\n",
        "\n",
        "　When we run the following code, we can see that when we have 1000 data, **the 6th order polynomial gives a better function estimation than a cubic polynomial**, even without the introduction of ridge regression.\n",
        "Considering the Taylor series, `sin(x)` cannot be fully reproduced without using an infinite dimensional polynomial, so if the number of data is large enough, the higher the order of the polynomial is, the better the function estimation can be performed. The flexibility of the model (order $p$ for polynomial regression) should be determined by considering the expected function shape to be predicted and the number of data."
      ]
    },
    {
      "cell_type": "code",
      "execution_count": null,
      "metadata": {
        "id": "l9Pz5VdTLwTc",
        "scrolled": true
      },
      "outputs": [],
      "source": [
        "from sklearn.linear_model import LinearRegression\n",
        "from sklearn.pipeline import make_pipeline\n",
        "import numpy as np"
      ]
    },
    {
      "cell_type": "code",
      "execution_count": null,
      "metadata": {
        "id": "9qT9HCi5Igk-",
        "scrolled": true
      },
      "outputs": [],
      "source": [
        "# create toy data set\n",
        "np.random.seed(3) # A trick that allows you to create the same random data every time.\n",
        "\n",
        "n_data = 1000\n",
        "x = 6 * np.random.rand(n_data) - 3         # Randomly generate 1000 values ​​from -3 to 3\n",
        "noise = 0.1 * np.random.randn(n_data)      # Noise\n",
        "y = np.sin(x) + noise                      # Calculate y = sin (x) + noise"
      ]
    },
    {
      "cell_type": "code",
      "execution_count": null,
      "metadata": {
        "id": "jkrEp7iNJKPh",
        "scrolled": true
      },
      "outputs": [],
      "source": [
        "p = 6 # Use up to the 6th order\n",
        "\n",
        "# Input make_pipeline (1st process, 2nd process, ...) in the order being processed.\n",
        "model_polyreg = make_pipeline(PolynomialFeatures(degree=p, include_bias=False),\n",
        "                              LinearRegression())\n",
        "\n",
        "# You can simply use fit() even when processing multiple calculations\n",
        "X = x[:, np.newaxis]\n",
        "model_polyreg.fit(X, y)\n",
        "draw(x, y, model_polyreg)"
      ]
    },
    {
      "cell_type": "markdown",
      "metadata": {
        "id": "kC-su9egLzbh"
      },
      "source": [
        "<!-- JPN -->\n",
        "　実応用時には人間の行動など、関数形状が予測困難なことが多く、結局Ridge回帰などの正則化を使うことが多いが、**簡単にデータ数を増やせるのであれば、それによって予測精度を改善できることがほとんど**である（簡単にデータを取ることができないから予測したい、という欲求が生まれる訳だが…）。"
      ]
    },
    {
      "cell_type": "markdown",
      "metadata": {
        "id": "9MPT7LHakARz"
      },
      "source": [
        "<!-- ENG -->\n",
        "　In practical applications, the function shape is often difficult to predict, such as in the example of human behavior, and norm regularization such as ridge regression is often used in the end, **but if the number of data can be easily increased, the prediction accuracy can almost always be improved by doing so**. (We can't get the data easily, which is why we want to predict...)"
      ]
    },
    {
      "cell_type": "markdown",
      "metadata": {
        "id": "0zH538g5nNi-"
      },
      "source": [
        "<!-- JPN -->\n",
        "## ※2 標準化が必要な理由\n",
        "\n",
        "　身長と体重から何らかの値をRidge回帰を使って予測することを考える。この時、身長を[m]で表現するか、[cm]で表現するかによって、身長に対する重み $w_h$ は、100倍変化するはずである。\n",
        "\n",
        "　一方、Ridge回帰は以下の誤差関数を最小化する。\n"
      ]
    },
    {
      "cell_type": "markdown",
      "metadata": {
        "id": "Lz_qSem-kARz"
      },
      "source": [
        "<!-- ENG -->\n",
        "## S2 Why standardization is necessary\n",
        "\n",
        "\n",
        "\n",
        "　Consider using ridge regression to predict some value from height and weight. At this time, depending on whether the height is expressed in [m] or [cm], the weight $w_h$ for the height should change by a factor of 100.\n",
        "\n",
        "\n",
        "\n",
        "　On the other hand, ridge regression minimizes the following error function.\n",
        "\n"
      ]
    },
    {
      "cell_type": "markdown",
      "metadata": {
        "id": "F1qZGEhWnPPX"
      },
      "source": [
        "$$\\frac{1}{n} \\sum^n_{i=1} l(f(\\boldsymbol{x}_{(i)}),y_i) + \\lambda||\\boldsymbol{w}||^2_2$$"
      ]
    },
    {
      "cell_type": "markdown",
      "metadata": {
        "id": "64PAvS8YHuSF"
      },
      "source": [
        "<!-- JPN -->\n",
        "正則化項 $\\lambda||\\boldsymbol{w}||^2_2$ を見ると、$\\boldsymbol{w}$ が100倍大きい方が正則化のペナルティが大きくなるため、身長[m]に対する重みが厳しく制限され、身長[cm]を利用した場合と異なる予測がなされてしまう。\n",
        "\n",
        "　本質的には何も差がないはずの身長の[m]と[cm]の表現で、結果を一致させるためには、説明変数を予め同じ値の幅に整えることがよく、それが標準化という操作になっているのである。\n"
      ]
    },
    {
      "cell_type": "markdown",
      "metadata": {
        "id": "eq60Dsj9kARz"
      },
      "source": [
        "<!-- ENG -->\n",
        "Looking at the norm regularization term $\\lambda||\\boldsymbol{w}||^2_2$, the penalty for norm regularization is larger when $\\boldsymbol{w}$ is 100 times larger, so the weights for height [m] are severely limited, and the prediction is different than when using height [cm].\n",
        "\n",
        "　In order to match the results in the expression of [m] and [cm] for height, which should not differ in any essential way, it is better to adjust the explanatory variables to the same range of values in advance, which is the operation of standardization.\n"
      ]
    },
    {
      "cell_type": "markdown",
      "metadata": {
        "id": "5tu15QNVtwlu"
      },
      "source": [
        "<!-- JPN -->\n",
        "## ※3 予測対象に適したモデルの構築\n",
        "\n",
        "　今回対象とした $\\sin(x)$ は、テイラー展開を考えると、有限次数の多項式では厳密な表現は不可能である。そのため、（十分なデータがあるという仮定のもとで）多項式近似の次数を高めれば高めるほど予測精度は高まるはずである。一方で、今回学んだように次数を高めると過剰適合の可能性が高くなるので、多項式近似の次数はどこかで折り合いをつける必要がある。\n",
        "\n",
        "　このような場合は、**次数を上げても予測精度がほとんど向上しない場合は、なるべく次数の低いモデルを選ぶと良い**とされる（機械学習における「オッカムの剃刀」と言われることもある）。\n",
        "\n",
        "　本来、このことは基盤データサイエンスで学んだ AIC (Akaike's information criterion) や BIC (Bayesian information criterion) を導入して定量的に議論すべき点なのだが、Ridge回帰などの正則化項が加わると議論が難しくなるため、ここでは割愛する。\n"
      ]
    },
    {
      "cell_type": "markdown",
      "metadata": {
        "id": "yyGrep0nkAR0"
      },
      "source": [
        "<!-- ENG -->\n",
        "## S3 Building a model that is appropriate for the prediction target\n",
        "\n",
        "　Considering the Taylor series, it is impossible to precisely represent $\\sin(x)$ we used as the target this time in the polynomial of a finite order. Therefore, the higher the order of the polynomial approximation has (under the assumption that there is enough data), the higher the prediction accuracy should be. On the other hand, as we have learned, increasing the order raises the possibility of overfitting, so the order of polynomial approximation needs to be settled somewhere.\n",
        "\n",
        "　In such cases, **when the prediction accuracy is hardly improved by increasing the order, it is better to choose a model with as low an order as possible** (sometimes referred to as \"Occam's razor\" in machine learning).\n",
        "\n",
        "　Originally, this is a point that should be discussed quantitatively by introducing AIC (Akaike's information criterion) and BIC (Bayesian information criterion), which is learned in Exercises in Fundamentals of Data Science, but it becomes complex when norm regularization terms such as ridge regression are added, so I will not discuss it here.\n"
      ]
    }
  ],
  "metadata": {
    "colab": {
      "collapsed_sections": [],
      "name": "AI3_Regression.ipynb",
      "provenance": [],
      "toc_visible": true
    },
    "kernelspec": {
      "display_name": "Python 3.9.2 64-bit",
      "language": "python",
      "name": "python3"
    },
    "language_info": {
      "codemirror_mode": {
        "name": "ipython",
        "version": 3
      },
      "file_extension": ".py",
      "mimetype": "text/x-python",
      "name": "python",
      "nbconvert_exporter": "python",
      "pygments_lexer": "ipython3",
      "version": "3.8.9"
    },
    "vscode": {
      "interpreter": {
        "hash": "31f2aee4e71d21fbe5cf8b01ff0e069b9275f58929596ceb00d14d90e3e16cd6"
      }
    }
  },
  "nbformat": 4,
  "nbformat_minor": 0
}
