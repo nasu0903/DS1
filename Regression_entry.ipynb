{
  "cells": [
    {
      "cell_type": "markdown",
      "metadata": {
        "id": "7qBT2aICI9TM"
      },
      "source": [
        "# データサイエンス・AI \"Entry\" 実習"
      ]
    },
    {
      "cell_type": "markdown",
      "metadata": {
        "id": "eRTqnB_MPMhx"
      },
      "source": [
        "# はじめに（再掲）\n",
        "\n",
        "昨今の社会では、データサイエンスや人工知能 (AI) の果たす役割が急速に大きくなっている。例えばSiriやAlexaのような音声認識、OCRのような文字認識、あるいはECサイトにおける顧客にパーソナライズされた商品提案などは全て、多量のデータから解析・予測を行うデータサイエンス・AIの技術によって確立されている。\n",
        "\n",
        "一方、データサイエンス・AIの分野はここ20年程度で急速に発展してきたことから、先端技術を駆使し、さらに問題解決のために活用できる、という人材が全くもって不足している、というのが現状である。\n",
        "\n",
        "本実習では、そのような社会背景の中から、**AI・データサイエンスを利活用するスキルを身に付けるための基礎的素養を習得する**ことを目指す。\n",
        "\n"
      ]
    },
    {
      "cell_type": "markdown",
      "metadata": {
        "id": "bYeFqdNBcEFu"
      },
      "source": [
        "#第1, 2回の復習"
      ]
    },
    {
      "cell_type": "markdown",
      "metadata": {
        "id": "ulBMw0eIcwqm"
      },
      "source": [
        "第1, 2回では、「導入：データサイエンス入門」および「相関分析」と題して、データの入手・解析を行った。解析では、主にヒストグラムや散布図の描画、二つの値の関係を表す相関係数の計算を行った。\n",
        "\n",
        "前回の内容とpythonの書き方の復習のため、コードの一部を再度実行してみよう。"
      ]
    },
    {
      "cell_type": "markdown",
      "metadata": {
        "id": "kOn2t2AF1UmY"
      },
      "source": [
        "###前処理"
      ]
    },
    {
      "cell_type": "markdown",
      "metadata": {
        "id": "PRPPvebK3Xdh"
      },
      "source": [
        "前回のデータは、**47都道府県の「人口」と「県民1人当たりの所得」のデータ**だった。\n",
        "\n",
        "政府統計 e-statのデータから、不要な行・列や日本語文字を削除したものが`toukei2017.csv`であった。今回は時間短縮のため、前回作成した`toukei2017.csv`は配布する。\n",
        "\n",
        "表形式のデータを取り扱うにはpandasライブラリが便利であった。また、ファイルをGoogle colabで利用するには、左側のファイルタブからアップロードする必要があったのも思い出そう。\n"
      ]
    },
    {
      "cell_type": "code",
      "execution_count": null,
      "metadata": {
        "id": "5FmzCjy6tKPV"
      },
      "outputs": [],
      "source": [
        "# pandasライブラリを pd という名前で使えるようにする\n",
        "# pd と省略形にするのが通例である\n",
        "import pandas as pd\n",
        "\n",
        "# pd.read_csv(CSVファイル名) とすることでデータを読むことができる\n",
        "data = pd.read_csv(\"toukei2017.csv\")"
      ]
    },
    {
      "cell_type": "code",
      "execution_count": null,
      "metadata": {
        "id": "4g1LlCMY1Kxd"
      },
      "outputs": [],
      "source": [
        "# 文字列を数値に変換する\n",
        "# やっていること：\n",
        "# (1) 1列の各要素について \",\" を \"\" に置き換える \n",
        "#     apply(lambda x: x.replace(\",\", \"\"))\n",
        "# (2) 文字列を整数値に変換（キャスト）する \n",
        "#     astype(int)\n",
        "data[\"A1101\"]   = data[\"A1101\"].apply(lambda x: x.replace(\",\", \"\")).astype(int)\n",
        "data[\"C121101\"] = data[\"C121101\"].apply(lambda x: x.replace(\",\", \"\")).astype(int)\n",
        "\n",
        "# もし元から適切に数値として認識されている場合には上記のコードはエラーが発生する\n",
        "# その場合は、（すでに数値として認識されているので）この先の文章に進んで良い"
      ]
    },
    {
      "cell_type": "code",
      "execution_count": null,
      "metadata": {
        "colab": {
          "base_uri": "https://localhost:8080/",
          "height": 206
        },
        "id": "qlmHdO5r1OVk",
        "outputId": "6ad277bc-723f-4920-836d-c1e6d2967652"
      },
      "outputs": [
        {
          "data": {
            "text/html": [
              "\n",
              "  <div id=\"df-5178d75c-a4c0-4d34-b706-758e24eb7f65\">\n",
              "    <div class=\"colab-df-container\">\n",
              "      <div>\n",
              "<style scoped>\n",
              "    .dataframe tbody tr th:only-of-type {\n",
              "        vertical-align: middle;\n",
              "    }\n",
              "\n",
              "    .dataframe tbody tr th {\n",
              "        vertical-align: top;\n",
              "    }\n",
              "\n",
              "    .dataframe thead th {\n",
              "        text-align: right;\n",
              "    }\n",
              "</style>\n",
              "<table border=\"1\" class=\"dataframe\">\n",
              "  <thead>\n",
              "    <tr style=\"text-align: right;\">\n",
              "      <th></th>\n",
              "      <th>prefecture</th>\n",
              "      <th>A1101</th>\n",
              "      <th>C121101</th>\n",
              "    </tr>\n",
              "  </thead>\n",
              "  <tbody>\n",
              "    <tr>\n",
              "      <th>0</th>\n",
              "      <td>1000</td>\n",
              "      <td>5320000</td>\n",
              "      <td>2682</td>\n",
              "    </tr>\n",
              "    <tr>\n",
              "      <th>1</th>\n",
              "      <td>2000</td>\n",
              "      <td>1278000</td>\n",
              "      <td>2490</td>\n",
              "    </tr>\n",
              "    <tr>\n",
              "      <th>2</th>\n",
              "      <td>3000</td>\n",
              "      <td>1255000</td>\n",
              "      <td>2772</td>\n",
              "    </tr>\n",
              "    <tr>\n",
              "      <th>3</th>\n",
              "      <td>4000</td>\n",
              "      <td>2323000</td>\n",
              "      <td>2944</td>\n",
              "    </tr>\n",
              "    <tr>\n",
              "      <th>4</th>\n",
              "      <td>5000</td>\n",
              "      <td>996000</td>\n",
              "      <td>2699</td>\n",
              "    </tr>\n",
              "  </tbody>\n",
              "</table>\n",
              "</div>\n",
              "      <button class=\"colab-df-convert\" onclick=\"convertToInteractive('df-5178d75c-a4c0-4d34-b706-758e24eb7f65')\"\n",
              "              title=\"Convert this dataframe to an interactive table.\"\n",
              "              style=\"display:none;\">\n",
              "        \n",
              "  <svg xmlns=\"http://www.w3.org/2000/svg\" height=\"24px\"viewBox=\"0 0 24 24\"\n",
              "       width=\"24px\">\n",
              "    <path d=\"M0 0h24v24H0V0z\" fill=\"none\"/>\n",
              "    <path d=\"M18.56 5.44l.94 2.06.94-2.06 2.06-.94-2.06-.94-.94-2.06-.94 2.06-2.06.94zm-11 1L8.5 8.5l.94-2.06 2.06-.94-2.06-.94L8.5 2.5l-.94 2.06-2.06.94zm10 10l.94 2.06.94-2.06 2.06-.94-2.06-.94-.94-2.06-.94 2.06-2.06.94z\"/><path d=\"M17.41 7.96l-1.37-1.37c-.4-.4-.92-.59-1.43-.59-.52 0-1.04.2-1.43.59L10.3 9.45l-7.72 7.72c-.78.78-.78 2.05 0 2.83L4 21.41c.39.39.9.59 1.41.59.51 0 1.02-.2 1.41-.59l7.78-7.78 2.81-2.81c.8-.78.8-2.07 0-2.86zM5.41 20L4 18.59l7.72-7.72 1.47 1.35L5.41 20z\"/>\n",
              "  </svg>\n",
              "      </button>\n",
              "      \n",
              "  <style>\n",
              "    .colab-df-container {\n",
              "      display:flex;\n",
              "      flex-wrap:wrap;\n",
              "      gap: 12px;\n",
              "    }\n",
              "\n",
              "    .colab-df-convert {\n",
              "      background-color: #E8F0FE;\n",
              "      border: none;\n",
              "      border-radius: 50%;\n",
              "      cursor: pointer;\n",
              "      display: none;\n",
              "      fill: #1967D2;\n",
              "      height: 32px;\n",
              "      padding: 0 0 0 0;\n",
              "      width: 32px;\n",
              "    }\n",
              "\n",
              "    .colab-df-convert:hover {\n",
              "      background-color: #E2EBFA;\n",
              "      box-shadow: 0px 1px 2px rgba(60, 64, 67, 0.3), 0px 1px 3px 1px rgba(60, 64, 67, 0.15);\n",
              "      fill: #174EA6;\n",
              "    }\n",
              "\n",
              "    [theme=dark] .colab-df-convert {\n",
              "      background-color: #3B4455;\n",
              "      fill: #D2E3FC;\n",
              "    }\n",
              "\n",
              "    [theme=dark] .colab-df-convert:hover {\n",
              "      background-color: #434B5C;\n",
              "      box-shadow: 0px 1px 3px 1px rgba(0, 0, 0, 0.15);\n",
              "      filter: drop-shadow(0px 1px 2px rgba(0, 0, 0, 0.3));\n",
              "      fill: #FFFFFF;\n",
              "    }\n",
              "  </style>\n",
              "\n",
              "      <script>\n",
              "        const buttonEl =\n",
              "          document.querySelector('#df-5178d75c-a4c0-4d34-b706-758e24eb7f65 button.colab-df-convert');\n",
              "        buttonEl.style.display =\n",
              "          google.colab.kernel.accessAllowed ? 'block' : 'none';\n",
              "\n",
              "        async function convertToInteractive(key) {\n",
              "          const element = document.querySelector('#df-5178d75c-a4c0-4d34-b706-758e24eb7f65');\n",
              "          const dataTable =\n",
              "            await google.colab.kernel.invokeFunction('convertToInteractive',\n",
              "                                                     [key], {});\n",
              "          if (!dataTable) return;\n",
              "\n",
              "          const docLinkHtml = 'Like what you see? Visit the ' +\n",
              "            '<a target=\"_blank\" href=https://colab.research.google.com/notebooks/data_table.ipynb>data table notebook</a>'\n",
              "            + ' to learn more about interactive tables.';\n",
              "          element.innerHTML = '';\n",
              "          dataTable['output_type'] = 'display_data';\n",
              "          await google.colab.output.renderOutput(dataTable, element);\n",
              "          const docLink = document.createElement('div');\n",
              "          docLink.innerHTML = docLinkHtml;\n",
              "          element.appendChild(docLink);\n",
              "        }\n",
              "      </script>\n",
              "    </div>\n",
              "  </div>\n",
              "  "
            ],
            "text/plain": [
              "   prefecture    A1101  C121101\n",
              "0        1000  5320000     2682\n",
              "1        2000  1278000     2490\n",
              "2        3000  1255000     2772\n",
              "3        4000  2323000     2944\n",
              "4        5000   996000     2699"
            ]
          },
          "execution_count": 3,
          "metadata": {},
          "output_type": "execute_result"
        }
      ],
      "source": [
        "data.head() # 冒頭5件だけ閲覧する"
      ]
    },
    {
      "cell_type": "markdown",
      "metadata": {
        "id": "xJ0jpkkL1Ylc"
      },
      "source": [
        "###ヒストグラムの描画"
      ]
    },
    {
      "cell_type": "markdown",
      "metadata": {
        "id": "29m8qRG05hC3"
      },
      "source": [
        "データの分布を見ることができるグラフが**ヒストグラム**である。\n",
        "ヒストグラムは横軸に見たい値、縦軸にその値の頻度（登場回数）をプロットするグラフであり、pythonではmatplotlibのライブラリを使って描画できる。"
      ]
    },
    {
      "cell_type": "code",
      "execution_count": null,
      "metadata": {
        "colab": {
          "base_uri": "https://localhost:8080/",
          "height": 398
        },
        "id": "pTBD3cE91R_o",
        "outputId": "6ff769cb-a82a-4688-c040-55a997b935b1"
      },
      "outputs": [
        {
          "data": {
            "image/png": "[encoded data removed]",
            "text/plain": [
              "<Figure size 576x432 with 1 Axes>"
            ]
          },
          "metadata": {
            "needs_background": "light"
          },
          "output_type": "display_data"
        }
      ],
      "source": [
        "import matplotlib.pyplot as plt\n",
        "\n",
        "# 表示の設定（図の大きさとフォントサイズ）\n",
        "plt.figure(figsize=(8,6))\n",
        "plt.rcParams[\"font.size\"] = 16\n",
        "\n",
        "# 描画（ヒストグラムと縦線）\n",
        "plt.hist(data[\"A1101\"], bins=20)\n",
        "plt.axvline(data[\"A1101\"].mean(), c=\"red\", label=\"average\")\n",
        "plt.axvline(data[\"A1101\"].median(), c=\"black\", label=\"median\")\n",
        "\n",
        "# 軸ラベルや凡例の設定\n",
        "plt.xlabel(\"population\")\n",
        "plt.ylabel(\"count\")\n",
        "plt.legend()\n",
        "\n",
        "# 最終的な描画\n",
        "plt.show()"
      ]
    },
    {
      "cell_type": "markdown",
      "metadata": {
        "id": "9M6gX3LC8fWx"
      },
      "source": [
        "###散布図の描画"
      ]
    },
    {
      "cell_type": "markdown",
      "metadata": {
        "id": "Gr1oZact8vvE"
      },
      "source": [
        "ある二つの変数間の関係を調べるために利用するグラフが**散布図**である。散布図は調べたい二つの変数を縦軸と横軸にし、一つのデータを一点にプロットしていく図である。前回は、人口と県民一人あたりの所得の関係を散布図にした。"
      ]
    },
    {
      "cell_type": "code",
      "execution_count": null,
      "metadata": {
        "colab": {
          "base_uri": "https://localhost:8080/",
          "height": 398
        },
        "id": "s9LsuKaz9MND",
        "outputId": "785e188f-fb80-4bb1-ddf9-ce20ce7e9aba"
      },
      "outputs": [
        {
          "data": {
            "image/png": "[encoded data removed]",
            "text/plain": [
              "<Figure size 576x432 with 1 Axes>"
            ]
          },
          "metadata": {
            "needs_background": "light"
          },
          "output_type": "display_data"
        }
      ],
      "source": [
        "# 表示の設定（図の大きさとフォントサイズ）\n",
        "plt.figure(figsize=(8,6))\n",
        "plt.rcParams[\"font.size\"] = 16\n",
        "\n",
        "# 描画（散布図）\n",
        "plt.scatter(data[\"A1101\"], data[\"C121101\"])\n",
        "\n",
        "# 軸ラベルの設定\n",
        "plt.xlabel(\"population\")\n",
        "plt.ylabel(\"average income (x1000)\")\n",
        "\n",
        "# 最終的な描画\n",
        "plt.show()"
      ]
    },
    {
      "cell_type": "markdown",
      "metadata": {
        "id": "FG4dqpWG9Yak"
      },
      "source": [
        "###相関分析"
      ]
    },
    {
      "cell_type": "markdown",
      "metadata": {
        "id": "3BMCL_4x9Z-Y"
      },
      "source": [
        "二つの変数の間の関係を定量的に表す値の一つが**相関係数**である。\n",
        "\n",
        "相関係数は **$-1$ 以上 $+1$ 以下の値**をとり、**絶対値が大きいほど**（絶対値が $1$ に近いほど）**強く関係しあっていることを意味**する。また、正の場合は「片方が大きくなるともう片方も大きくなる」関係を、負の場合は「片方が大きくなるともう片方は小さくなる」関係を示すのであった。"
      ]
    },
    {
      "cell_type": "code",
      "execution_count": 1,
      "metadata": {
        "colab": {
          "base_uri": "https://localhost:8080/",
          "height": 398
        },
        "id": "kmo5crSP9seG",
        "outputId": "ac1827e0-de43-4f6a-bf10-7013b28044a7"
      },
      "outputs": [
        {
          "ename": "NameError",
          "evalue": "name 'data' is not defined",
          "output_type": "error",
          "traceback": [
            "\u001b[0;31m---------------------------------------------------------------------------\u001b[0m",
            "\u001b[0;31mNameError\u001b[0m                                 Traceback (most recent call last)",
            "\u001b[1;32mセル18 を /Users/watanabeginga/Desktop/dsai_materials-main/practice/linear_regression/Regression_entry.ipynb\u001b[0m in \u001b[0;36m<cell line: 5>\u001b[0;34m()\u001b[0m\n\u001b[1;32m      <a href='vscode-notebook-cell:/Users/watanabeginga/Desktop/dsai_materials-main/practice/linear_regression/Regression_entry.ipynb#X23sZmlsZQ%3D%3D?line=0'>1</a>\u001b[0m \u001b[39mimport\u001b[39;00m \u001b[39mnumpy\u001b[39;00m \u001b[39mas\u001b[39;00m \u001b[39mnp\u001b[39;00m\n\u001b[1;32m      <a href='vscode-notebook-cell:/Users/watanabeginga/Desktop/dsai_materials-main/practice/linear_regression/Regression_entry.ipynb#X23sZmlsZQ%3D%3D?line=1'>2</a>\u001b[0m \u001b[39m# corrcoef関数は行列の形式で相関係数を出力する\u001b[39;00m\n\u001b[1;32m      <a href='vscode-notebook-cell:/Users/watanabeginga/Desktop/dsai_materials-main/practice/linear_regression/Regression_entry.ipynb#X23sZmlsZQ%3D%3D?line=2'>3</a>\u001b[0m \u001b[39m# 1つめの数値群と2つめの数値群との相関係数は\u001b[39;00m\n\u001b[1;32m      <a href='vscode-notebook-cell:/Users/watanabeginga/Desktop/dsai_materials-main/practice/linear_regression/Regression_entry.ipynb#X23sZmlsZQ%3D%3D?line=3'>4</a>\u001b[0m \u001b[39m# 1行2列目 あるいは 2行1列目 にアクセスすることで取得できる\u001b[39;00m\n\u001b[0;32m----> <a href='vscode-notebook-cell:/Users/watanabeginga/Desktop/dsai_materials-main/practice/linear_regression/Regression_entry.ipynb#X23sZmlsZQ%3D%3D?line=4'>5</a>\u001b[0m coef \u001b[39m=\u001b[39m np\u001b[39m.\u001b[39mcorrcoef(data[\u001b[39m\"\u001b[39m\u001b[39mA1101\u001b[39m\u001b[39m\"\u001b[39m], data[\u001b[39m\"\u001b[39m\u001b[39mC121101\u001b[39m\u001b[39m\"\u001b[39m])[\u001b[39m0\u001b[39m, \u001b[39m1\u001b[39m]\n\u001b[1;32m      <a href='vscode-notebook-cell:/Users/watanabeginga/Desktop/dsai_materials-main/practice/linear_regression/Regression_entry.ipynb#X23sZmlsZQ%3D%3D?line=6'>7</a>\u001b[0m \u001b[39m# 表示の設定（図の大きさとフォントサイズ）\u001b[39;00m\n\u001b[1;32m      <a href='vscode-notebook-cell:/Users/watanabeginga/Desktop/dsai_materials-main/practice/linear_regression/Regression_entry.ipynb#X23sZmlsZQ%3D%3D?line=7'>8</a>\u001b[0m plt\u001b[39m.\u001b[39mfigure(figsize\u001b[39m=\u001b[39m(\u001b[39m8\u001b[39m,\u001b[39m6\u001b[39m))\n",
            "\u001b[0;31mNameError\u001b[0m: name 'data' is not defined"
          ]
        }
      ],
      "source": [
        "import numpy as np\n",
        "# corrcoef関数は行列の形式で相関係数を出力する\n",
        "# 1つめの数値群と2つめの数値群との相関係数は\n",
        "# 1行2列目 あるいは 2行1列目 にアクセスすることで取得できる\n",
        "coef = np.corrcoef(data[\"A1101\"], data[\"C121101\"])[0, 1]\n",
        "\n",
        "# 表示の設定（図の大きさとフォントサイズ）\n",
        "plt.figure(figsize=(8,6))\n",
        "plt.rcParams[\"font.size\"] = 16\n",
        "\n",
        "# 描画（散布図）\n",
        "# 引数 s で点の大きさを変えられる\n",
        "plt.scatter(data[\"A1101\"], data[\"C121101\"], label=f\"corrcoef r = {coef:.3f}\", s=100)\n",
        "\n",
        "plt.xlabel(\"population\")\n",
        "plt.ylabel(\"average income (x1000)\")\n",
        "plt.legend()\n",
        "\n",
        "# 最終的な描画\n",
        "plt.show()"
      ]
    },
    {
      "cell_type": "markdown",
      "metadata": {
        "id": "hGmw0I3NoDim"
      },
      "source": [
        "以上がこれまでの内容である。\n",
        "\n",
        "pythonの書き方やGoogle colabの使い方、二つの値の相関を調べる方法について復習したところで、今回の内容を始めよう。"
      ]
    },
    {
      "cell_type": "markdown",
      "metadata": {
        "id": "I6fPqDzpuk2p"
      },
      "source": [
        "---"
      ]
    },
    {
      "cell_type": "markdown",
      "metadata": {
        "id": "yK2PARaOnIxR"
      },
      "source": [
        "# 第3回 - 回帰分析\n",
        "\n"
      ]
    },
    {
      "cell_type": "markdown",
      "metadata": {
        "id": "NUMewn0U9nlg"
      },
      "source": [
        "## 回帰分析とは\n"
      ]
    },
    {
      "cell_type": "markdown",
      "metadata": {
        "id": "_9JQbP41bzvq"
      },
      "source": [
        "![](https://i.imgur.com/Bf0OtmG.png)"
      ]
    },
    {
      "cell_type": "markdown",
      "metadata": {
        "id": "Cx-36SXRpG_1"
      },
      "source": [
        "第3回の演習では**回帰分析**について学ぶ。回帰分析とは興味のある変数 $y$ と他の変数 $x$ の関係を定量的に表す分析であり、特に$y$ が連続な値をとるものである。（注1）\n",
        "\n",
        "例えば、$x$ を企業の業績、 $y$ を株価としたり、 $x$ を広告費、 $y$ を売上とするような分析が考えられるだろう。\n",
        "\n",
        "適切に回帰分析ができれば、$x$と$y$の関係を定量的に把握することができるほか、$x$から$y$を予測することが可能になる。"
      ]
    },
    {
      "cell_type": "markdown",
      "metadata": {
        "id": "hA4qTlZuq_mz"
      },
      "source": [
        "なお、予測したい変数 $y$ のことを**目的変数**や**従属変数**と呼び、予測に使う変数 $x$ のことを**説明変数**や**独立変数**と呼ぶ。本資料では目的変数と説明変数を用いる。"
      ]
    },
    {
      "cell_type": "markdown",
      "metadata": {
        "id": "QNqaKPP59Tw5"
      },
      "source": [
        "## (1) データ分析目的の設定"
      ]
    },
    {
      "cell_type": "markdown",
      "metadata": {
        "id": "OHR9IXEw9Tw6"
      },
      "source": [
        "2022年の夏は猛暑が続き、電力需要の増大が社会問題となっている。\n",
        "電力は需要に合わせて適切な量を供給しなければ周波数が安定せず、停電や接続している機械の故障を招くため、電力会社では常に今後の電力需要を予測し、発電所の出力を調節している。\n",
        "\n",
        "そこで、第3回では**気象情報を基に将来の電力需要を予測する**ことを目的とし、東京における夏の日の気温と消費電力の関係を分析することにする。"
      ]
    },
    {
      "cell_type": "markdown",
      "metadata": {
        "id": "wiA__0NT9Tw7"
      },
      "source": [
        "## (2) データ収集・整理\n",
        "\n",
        "\n"
      ]
    },
    {
      "cell_type": "markdown",
      "metadata": {
        "id": "3tIEUs6t9Tw7"
      },
      "source": [
        "データ分析によって見つけたい事物を決定したら、次にその**目的に適したデータ**を収集する。\n",
        "\n",
        "今回は前回よりもやや実務的なデータ整理についてもpythonで行ってみる。\n",
        "Entry向けとしてはやや難しいが、このような操作がpythonで簡単にできると理解しておけば今のところはよいだろう。"
      ]
    },
    {
      "cell_type": "markdown",
      "metadata": {
        "id": "nd6wrUbprnLb"
      },
      "source": [
        "###気温データ\n",
        "気温のデータは[気象庁のデータベース](https://www.data.jma.go.jp/gmd/risk/obsdl/index.php)からダウンロードできる。\n",
        "ブラウザからこのページにアクセスし、「地点を選ぶ」から東京都→東京、\n",
        "「項目を選ぶ」から「データの種類」を「日別値」に、「項目」を「日最高気温」のみ選択、「期間を選ぶ」から「連続した期間で表示する」、期間を「2020年7月1日から2020年7月31日まで」とする。設定が終わったら右の「CSVファイルをダウンロード」からファイルをダウンロードする。"
      ]
    },
    {
      "cell_type": "markdown",
      "metadata": {
        "id": "Sax7KrHYTtYf"
      },
      "source": [
        "続いて、第1回と同様に、データから不要な部分や日本語の部分を削除しよう。"
      ]
    },
    {
      "cell_type": "markdown",
      "metadata": {
        "id": "atNRlJuUz3ml"
      },
      "source": [
        "<img src=\"https://i.imgur.com/yGaq1fr.png\" alt=\"気温データ\" width=\"400\"/>"
      ]
    },
    {
      "cell_type": "markdown",
      "metadata": {
        "id": "_06DH4gm04Vf"
      },
      "source": [
        "上のようなデータが開けるだろうか。\n",
        "このファイルから最初のヘッダー部分を削除し、「年月日」の列と「最高気温」の列のみを残す。また、列名はそれぞれ「date」と「highest_temp」に変更する。"
      ]
    },
    {
      "cell_type": "markdown",
      "metadata": {
        "id": "3P_mq2O-1mIR"
      },
      "source": [
        "<img src=\"https://i.imgur.com/X6LrKeO.png\" title=\"編集後\">"
      ]
    },
    {
      "cell_type": "markdown",
      "metadata": {
        "id": "WqSnAw_911TB"
      },
      "source": [
        "このファイルを`highest_temp202007.csv`として保存せよ。"
      ]
    },
    {
      "cell_type": "markdown",
      "metadata": {
        "id": "QDcuIa3SzHHX"
      },
      "source": [
        "###電力データ"
      ]
    },
    {
      "cell_type": "markdown",
      "metadata": {
        "id": "yeQ0jqSaPQdm"
      },
      "source": [
        "電力のデータは[東京電力のwebサイト](https://www.tepco.co.jp/forecast/)からダウンロードできる（実際には、東京の消費電力ではなく東京電力管内全体の消費電力のデータである）。 ブラウザからこのページにアクセスし、右にある「データのダウンロード」の「過去の電力使用実績データ」へ進む。「2020年」を右クリックして「リンク先を名前をつけて保存」等からcsvとして保存する。"
      ]
    },
    {
      "cell_type": "markdown",
      "metadata": {
        "id": "ow02PrkF3EDy"
      },
      "source": [
        "<img src=\"https://i.imgur.com/14ljSm5.png\" title=\"電力データ\"/>"
      ]
    },
    {
      "cell_type": "markdown",
      "metadata": {
        "id": "6ozb56334Rj2"
      },
      "source": [
        "このファイルから最初のヘッダー部分を削除する。今回はすべての列を使うので列の削除はせず、列名をそれぞれ「date」「time」「demand」に変更する。\n",
        "\n",
        "その他の前処理はpythonで行うので、この状態で`demand2020.csv`として保存せよ。"
      ]
    },
    {
      "cell_type": "markdown",
      "metadata": {
        "id": "pHsB1mnt5rx6"
      },
      "source": [
        "<img src=\"https://i.imgur.com/KBrNVcF.png\" title=\"編集後\">"
      ]
    },
    {
      "cell_type": "markdown",
      "metadata": {
        "id": "I2xFXR_J5-uC"
      },
      "source": [
        "続いて、このファイルをpythonで読み込みさらに前処理を行う。ファイルをGoogle colabにアップロードし、pandasで読み込む。"
      ]
    },
    {
      "cell_type": "code",
      "execution_count": null,
      "metadata": {
        "id": "fvhWj3jJ6Ka2"
      },
      "outputs": [],
      "source": [
        "# pandasライブラリを pd という名前で使えるようにする\n",
        "# pd と省略形にするのが通例である\n",
        "import pandas as pd\n",
        "\n",
        "# pd.read_csv(CSVファイル名) とすることでデータを読むことができる\n",
        "demand = pd.read_csv(\"demand2020.csv\")"
      ]
    },
    {
      "cell_type": "code",
      "execution_count": null,
      "metadata": {
        "colab": {
          "base_uri": "https://localhost:8080/",
          "height": 206
        },
        "id": "82maoR1M69qu",
        "outputId": "c9b590d6-66f9-42ca-c3f4-812acae69429"
      },
      "outputs": [
        {
          "data": {
            "text/html": [
              "\n",
              "  <div id=\"df-e0784e5d-6d29-4432-aab8-63ff353ec9bb\">\n",
              "    <div class=\"colab-df-container\">\n",
              "      <div>\n",
              "<style scoped>\n",
              "    .dataframe tbody tr th:only-of-type {\n",
              "        vertical-align: middle;\n",
              "    }\n",
              "\n",
              "    .dataframe tbody tr th {\n",
              "        vertical-align: top;\n",
              "    }\n",
              "\n",
              "    .dataframe thead th {\n",
              "        text-align: right;\n",
              "    }\n",
              "</style>\n",
              "<table border=\"1\" class=\"dataframe\">\n",
              "  <thead>\n",
              "    <tr style=\"text-align: right;\">\n",
              "      <th></th>\n",
              "      <th>date</th>\n",
              "      <th>time</th>\n",
              "      <th>demand</th>\n",
              "    </tr>\n",
              "  </thead>\n",
              "  <tbody>\n",
              "    <tr>\n",
              "      <th>0</th>\n",
              "      <td>2020/1/1</td>\n",
              "      <td>0:00</td>\n",
              "      <td>2857</td>\n",
              "    </tr>\n",
              "    <tr>\n",
              "      <th>1</th>\n",
              "      <td>2020/1/1</td>\n",
              "      <td>1:00</td>\n",
              "      <td>2703</td>\n",
              "    </tr>\n",
              "    <tr>\n",
              "      <th>2</th>\n",
              "      <td>2020/1/1</td>\n",
              "      <td>2:00</td>\n",
              "      <td>2602</td>\n",
              "    </tr>\n",
              "    <tr>\n",
              "      <th>3</th>\n",
              "      <td>2020/1/1</td>\n",
              "      <td>3:00</td>\n",
              "      <td>2520</td>\n",
              "    </tr>\n",
              "    <tr>\n",
              "      <th>4</th>\n",
              "      <td>2020/1/1</td>\n",
              "      <td>4:00</td>\n",
              "      <td>2464</td>\n",
              "    </tr>\n",
              "  </tbody>\n",
              "</table>\n",
              "</div>\n",
              "      <button class=\"colab-df-convert\" onclick=\"convertToInteractive('df-e0784e5d-6d29-4432-aab8-63ff353ec9bb')\"\n",
              "              title=\"Convert this dataframe to an interactive table.\"\n",
              "              style=\"display:none;\">\n",
              "        \n",
              "  <svg xmlns=\"http://www.w3.org/2000/svg\" height=\"24px\"viewBox=\"0 0 24 24\"\n",
              "       width=\"24px\">\n",
              "    <path d=\"M0 0h24v24H0V0z\" fill=\"none\"/>\n",
              "    <path d=\"M18.56 5.44l.94 2.06.94-2.06 2.06-.94-2.06-.94-.94-2.06-.94 2.06-2.06.94zm-11 1L8.5 8.5l.94-2.06 2.06-.94-2.06-.94L8.5 2.5l-.94 2.06-2.06.94zm10 10l.94 2.06.94-2.06 2.06-.94-2.06-.94-.94-2.06-.94 2.06-2.06.94z\"/><path d=\"M17.41 7.96l-1.37-1.37c-.4-.4-.92-.59-1.43-.59-.52 0-1.04.2-1.43.59L10.3 9.45l-7.72 7.72c-.78.78-.78 2.05 0 2.83L4 21.41c.39.39.9.59 1.41.59.51 0 1.02-.2 1.41-.59l7.78-7.78 2.81-2.81c.8-.78.8-2.07 0-2.86zM5.41 20L4 18.59l7.72-7.72 1.47 1.35L5.41 20z\"/>\n",
              "  </svg>\n",
              "      </button>\n",
              "      \n",
              "  <style>\n",
              "    .colab-df-container {\n",
              "      display:flex;\n",
              "      flex-wrap:wrap;\n",
              "      gap: 12px;\n",
              "    }\n",
              "\n",
              "    .colab-df-convert {\n",
              "      background-color: #E8F0FE;\n",
              "      border: none;\n",
              "      border-radius: 50%;\n",
              "      cursor: pointer;\n",
              "      display: none;\n",
              "      fill: #1967D2;\n",
              "      height: 32px;\n",
              "      padding: 0 0 0 0;\n",
              "      width: 32px;\n",
              "    }\n",
              "\n",
              "    .colab-df-convert:hover {\n",
              "      background-color: #E2EBFA;\n",
              "      box-shadow: 0px 1px 2px rgba(60, 64, 67, 0.3), 0px 1px 3px 1px rgba(60, 64, 67, 0.15);\n",
              "      fill: #174EA6;\n",
              "    }\n",
              "\n",
              "    [theme=dark] .colab-df-convert {\n",
              "      background-color: #3B4455;\n",
              "      fill: #D2E3FC;\n",
              "    }\n",
              "\n",
              "    [theme=dark] .colab-df-convert:hover {\n",
              "      background-color: #434B5C;\n",
              "      box-shadow: 0px 1px 3px 1px rgba(0, 0, 0, 0.15);\n",
              "      filter: drop-shadow(0px 1px 2px rgba(0, 0, 0, 0.3));\n",
              "      fill: #FFFFFF;\n",
              "    }\n",
              "  </style>\n",
              "\n",
              "      <script>\n",
              "        const buttonEl =\n",
              "          document.querySelector('#df-e0784e5d-6d29-4432-aab8-63ff353ec9bb button.colab-df-convert');\n",
              "        buttonEl.style.display =\n",
              "          google.colab.kernel.accessAllowed ? 'block' : 'none';\n",
              "\n",
              "        async function convertToInteractive(key) {\n",
              "          const element = document.querySelector('#df-e0784e5d-6d29-4432-aab8-63ff353ec9bb');\n",
              "          const dataTable =\n",
              "            await google.colab.kernel.invokeFunction('convertToInteractive',\n",
              "                                                     [key], {});\n",
              "          if (!dataTable) return;\n",
              "\n",
              "          const docLinkHtml = 'Like what you see? Visit the ' +\n",
              "            '<a target=\"_blank\" href=https://colab.research.google.com/notebooks/data_table.ipynb>data table notebook</a>'\n",
              "            + ' to learn more about interactive tables.';\n",
              "          element.innerHTML = '';\n",
              "          dataTable['output_type'] = 'display_data';\n",
              "          await google.colab.output.renderOutput(dataTable, element);\n",
              "          const docLink = document.createElement('div');\n",
              "          docLink.innerHTML = docLinkHtml;\n",
              "          element.appendChild(docLink);\n",
              "        }\n",
              "      </script>\n",
              "    </div>\n",
              "  </div>\n",
              "  "
            ],
            "text/plain": [
              "       date  time  demand\n",
              "0  2020/1/1  0:00    2857\n",
              "1  2020/1/1  1:00    2703\n",
              "2  2020/1/1  2:00    2602\n",
              "3  2020/1/1  3:00    2520\n",
              "4  2020/1/1  4:00    2464"
            ]
          },
          "execution_count": 8,
          "metadata": {},
          "output_type": "execute_result"
        }
      ],
      "source": [
        "# demand の先頭を表示する\n",
        "demand.head()"
      ]
    },
    {
      "cell_type": "markdown",
      "metadata": {
        "id": "FoD4BCYS66OT"
      },
      "source": [
        "さて、データの現状と今回欲しい状態を確認しておこう。\n",
        "\n",
        "* 1月から12月までになっている。今回は7月の区間だけを取り出したい。\n",
        "* 1日あたり（0時から23時までの）24データある。今回は最高気温のときのデータとして、14時のデータだけを取り出したい。\n",
        "\n",
        "上から順に解決していく。"
      ]
    },
    {
      "cell_type": "code",
      "execution_count": null,
      "metadata": {
        "id": "_Gv1jxDY65rG"
      },
      "outputs": [],
      "source": [
        "# 7月のデータだけを取り出す\n",
        "\n",
        "# 各行についてdateの列に\"2020/7/\"を含むかどうかを判定\n",
        "demand_isJuly = demand[\"date\"].str.contains(\"2020/7/\")\n",
        "\n",
        "# 判定した条件をもとにdemandを絞り込み、更新\n",
        "demand = demand[demand_isJuly]"
      ]
    },
    {
      "cell_type": "code",
      "execution_count": null,
      "metadata": {
        "colab": {
          "base_uri": "https://localhost:8080/",
          "height": 206
        },
        "id": "Vtys15FJ97-L",
        "outputId": "68f67c7d-3b6b-47a2-d104-c64f26d73f73"
      },
      "outputs": [
        {
          "data": {
            "text/html": [
              "\n",
              "  <div id=\"df-b0a28203-22a7-4f9e-8563-aa3c345146e3\">\n",
              "    <div class=\"colab-df-container\">\n",
              "      <div>\n",
              "<style scoped>\n",
              "    .dataframe tbody tr th:only-of-type {\n",
              "        vertical-align: middle;\n",
              "    }\n",
              "\n",
              "    .dataframe tbody tr th {\n",
              "        vertical-align: top;\n",
              "    }\n",
              "\n",
              "    .dataframe thead th {\n",
              "        text-align: right;\n",
              "    }\n",
              "</style>\n",
              "<table border=\"1\" class=\"dataframe\">\n",
              "  <thead>\n",
              "    <tr style=\"text-align: right;\">\n",
              "      <th></th>\n",
              "      <th>date</th>\n",
              "      <th>time</th>\n",
              "      <th>demand</th>\n",
              "    </tr>\n",
              "  </thead>\n",
              "  <tbody>\n",
              "    <tr>\n",
              "      <th>4368</th>\n",
              "      <td>2020/7/1</td>\n",
              "      <td>0:00</td>\n",
              "      <td>2701</td>\n",
              "    </tr>\n",
              "    <tr>\n",
              "      <th>4369</th>\n",
              "      <td>2020/7/1</td>\n",
              "      <td>1:00</td>\n",
              "      <td>2530</td>\n",
              "    </tr>\n",
              "    <tr>\n",
              "      <th>4370</th>\n",
              "      <td>2020/7/1</td>\n",
              "      <td>2:00</td>\n",
              "      <td>2463</td>\n",
              "    </tr>\n",
              "    <tr>\n",
              "      <th>4371</th>\n",
              "      <td>2020/7/1</td>\n",
              "      <td>3:00</td>\n",
              "      <td>2470</td>\n",
              "    </tr>\n",
              "    <tr>\n",
              "      <th>4372</th>\n",
              "      <td>2020/7/1</td>\n",
              "      <td>4:00</td>\n",
              "      <td>2482</td>\n",
              "    </tr>\n",
              "  </tbody>\n",
              "</table>\n",
              "</div>\n",
              "      <button class=\"colab-df-convert\" onclick=\"convertToInteractive('df-b0a28203-22a7-4f9e-8563-aa3c345146e3')\"\n",
              "              title=\"Convert this dataframe to an interactive table.\"\n",
              "              style=\"display:none;\">\n",
              "        \n",
              "  <svg xmlns=\"http://www.w3.org/2000/svg\" height=\"24px\"viewBox=\"0 0 24 24\"\n",
              "       width=\"24px\">\n",
              "    <path d=\"M0 0h24v24H0V0z\" fill=\"none\"/>\n",
              "    <path d=\"M18.56 5.44l.94 2.06.94-2.06 2.06-.94-2.06-.94-.94-2.06-.94 2.06-2.06.94zm-11 1L8.5 8.5l.94-2.06 2.06-.94-2.06-.94L8.5 2.5l-.94 2.06-2.06.94zm10 10l.94 2.06.94-2.06 2.06-.94-2.06-.94-.94-2.06-.94 2.06-2.06.94z\"/><path d=\"M17.41 7.96l-1.37-1.37c-.4-.4-.92-.59-1.43-.59-.52 0-1.04.2-1.43.59L10.3 9.45l-7.72 7.72c-.78.78-.78 2.05 0 2.83L4 21.41c.39.39.9.59 1.41.59.51 0 1.02-.2 1.41-.59l7.78-7.78 2.81-2.81c.8-.78.8-2.07 0-2.86zM5.41 20L4 18.59l7.72-7.72 1.47 1.35L5.41 20z\"/>\n",
              "  </svg>\n",
              "      </button>\n",
              "      \n",
              "  <style>\n",
              "    .colab-df-container {\n",
              "      display:flex;\n",
              "      flex-wrap:wrap;\n",
              "      gap: 12px;\n",
              "    }\n",
              "\n",
              "    .colab-df-convert {\n",
              "      background-color: #E8F0FE;\n",
              "      border: none;\n",
              "      border-radius: 50%;\n",
              "      cursor: pointer;\n",
              "      display: none;\n",
              "      fill: #1967D2;\n",
              "      height: 32px;\n",
              "      padding: 0 0 0 0;\n",
              "      width: 32px;\n",
              "    }\n",
              "\n",
              "    .colab-df-convert:hover {\n",
              "      background-color: #E2EBFA;\n",
              "      box-shadow: 0px 1px 2px rgba(60, 64, 67, 0.3), 0px 1px 3px 1px rgba(60, 64, 67, 0.15);\n",
              "      fill: #174EA6;\n",
              "    }\n",
              "\n",
              "    [theme=dark] .colab-df-convert {\n",
              "      background-color: #3B4455;\n",
              "      fill: #D2E3FC;\n",
              "    }\n",
              "\n",
              "    [theme=dark] .colab-df-convert:hover {\n",
              "      background-color: #434B5C;\n",
              "      box-shadow: 0px 1px 3px 1px rgba(0, 0, 0, 0.15);\n",
              "      filter: drop-shadow(0px 1px 2px rgba(0, 0, 0, 0.3));\n",
              "      fill: #FFFFFF;\n",
              "    }\n",
              "  </style>\n",
              "\n",
              "      <script>\n",
              "        const buttonEl =\n",
              "          document.querySelector('#df-b0a28203-22a7-4f9e-8563-aa3c345146e3 button.colab-df-convert');\n",
              "        buttonEl.style.display =\n",
              "          google.colab.kernel.accessAllowed ? 'block' : 'none';\n",
              "\n",
              "        async function convertToInteractive(key) {\n",
              "          const element = document.querySelector('#df-b0a28203-22a7-4f9e-8563-aa3c345146e3');\n",
              "          const dataTable =\n",
              "            await google.colab.kernel.invokeFunction('convertToInteractive',\n",
              "                                                     [key], {});\n",
              "          if (!dataTable) return;\n",
              "\n",
              "          const docLinkHtml = 'Like what you see? Visit the ' +\n",
              "            '<a target=\"_blank\" href=https://colab.research.google.com/notebooks/data_table.ipynb>data table notebook</a>'\n",
              "            + ' to learn more about interactive tables.';\n",
              "          element.innerHTML = '';\n",
              "          dataTable['output_type'] = 'display_data';\n",
              "          await google.colab.output.renderOutput(dataTable, element);\n",
              "          const docLink = document.createElement('div');\n",
              "          docLink.innerHTML = docLinkHtml;\n",
              "          element.appendChild(docLink);\n",
              "        }\n",
              "      </script>\n",
              "    </div>\n",
              "  </div>\n",
              "  "
            ],
            "text/plain": [
              "          date  time  demand\n",
              "4368  2020/7/1  0:00    2701\n",
              "4369  2020/7/1  1:00    2530\n",
              "4370  2020/7/1  2:00    2463\n",
              "4371  2020/7/1  3:00    2470\n",
              "4372  2020/7/1  4:00    2482"
            ]
          },
          "execution_count": 10,
          "metadata": {},
          "output_type": "execute_result"
        }
      ],
      "source": [
        "demand.head() # 先頭のみ表示。7/1～になっているはず"
      ]
    },
    {
      "cell_type": "code",
      "execution_count": null,
      "metadata": {
        "colab": {
          "base_uri": "https://localhost:8080/",
          "height": 206
        },
        "id": "QsxjzBKH96KO",
        "outputId": "b1292779-278e-4f38-b3bf-a1012afcdf6f"
      },
      "outputs": [
        {
          "data": {
            "text/html": [
              "\n",
              "  <div id=\"df-9f20e569-a333-49f2-8480-97cc58bceec1\">\n",
              "    <div class=\"colab-df-container\">\n",
              "      <div>\n",
              "<style scoped>\n",
              "    .dataframe tbody tr th:only-of-type {\n",
              "        vertical-align: middle;\n",
              "    }\n",
              "\n",
              "    .dataframe tbody tr th {\n",
              "        vertical-align: top;\n",
              "    }\n",
              "\n",
              "    .dataframe thead th {\n",
              "        text-align: right;\n",
              "    }\n",
              "</style>\n",
              "<table border=\"1\" class=\"dataframe\">\n",
              "  <thead>\n",
              "    <tr style=\"text-align: right;\">\n",
              "      <th></th>\n",
              "      <th>date</th>\n",
              "      <th>time</th>\n",
              "      <th>demand</th>\n",
              "    </tr>\n",
              "  </thead>\n",
              "  <tbody>\n",
              "    <tr>\n",
              "      <th>5107</th>\n",
              "      <td>2020/7/31</td>\n",
              "      <td>19:00</td>\n",
              "      <td>3735</td>\n",
              "    </tr>\n",
              "    <tr>\n",
              "      <th>5108</th>\n",
              "      <td>2020/7/31</td>\n",
              "      <td>20:00</td>\n",
              "      <td>3525</td>\n",
              "    </tr>\n",
              "    <tr>\n",
              "      <th>5109</th>\n",
              "      <td>2020/7/31</td>\n",
              "      <td>21:00</td>\n",
              "      <td>3303</td>\n",
              "    </tr>\n",
              "    <tr>\n",
              "      <th>5110</th>\n",
              "      <td>2020/7/31</td>\n",
              "      <td>22:00</td>\n",
              "      <td>3148</td>\n",
              "    </tr>\n",
              "    <tr>\n",
              "      <th>5111</th>\n",
              "      <td>2020/7/31</td>\n",
              "      <td>23:00</td>\n",
              "      <td>2957</td>\n",
              "    </tr>\n",
              "  </tbody>\n",
              "</table>\n",
              "</div>\n",
              "      <button class=\"colab-df-convert\" onclick=\"convertToInteractive('df-9f20e569-a333-49f2-8480-97cc58bceec1')\"\n",
              "              title=\"Convert this dataframe to an interactive table.\"\n",
              "              style=\"display:none;\">\n",
              "        \n",
              "  <svg xmlns=\"http://www.w3.org/2000/svg\" height=\"24px\"viewBox=\"0 0 24 24\"\n",
              "       width=\"24px\">\n",
              "    <path d=\"M0 0h24v24H0V0z\" fill=\"none\"/>\n",
              "    <path d=\"M18.56 5.44l.94 2.06.94-2.06 2.06-.94-2.06-.94-.94-2.06-.94 2.06-2.06.94zm-11 1L8.5 8.5l.94-2.06 2.06-.94-2.06-.94L8.5 2.5l-.94 2.06-2.06.94zm10 10l.94 2.06.94-2.06 2.06-.94-2.06-.94-.94-2.06-.94 2.06-2.06.94z\"/><path d=\"M17.41 7.96l-1.37-1.37c-.4-.4-.92-.59-1.43-.59-.52 0-1.04.2-1.43.59L10.3 9.45l-7.72 7.72c-.78.78-.78 2.05 0 2.83L4 21.41c.39.39.9.59 1.41.59.51 0 1.02-.2 1.41-.59l7.78-7.78 2.81-2.81c.8-.78.8-2.07 0-2.86zM5.41 20L4 18.59l7.72-7.72 1.47 1.35L5.41 20z\"/>\n",
              "  </svg>\n",
              "      </button>\n",
              "      \n",
              "  <style>\n",
              "    .colab-df-container {\n",
              "      display:flex;\n",
              "      flex-wrap:wrap;\n",
              "      gap: 12px;\n",
              "    }\n",
              "\n",
              "    .colab-df-convert {\n",
              "      background-color: #E8F0FE;\n",
              "      border: none;\n",
              "      border-radius: 50%;\n",
              "      cursor: pointer;\n",
              "      display: none;\n",
              "      fill: #1967D2;\n",
              "      height: 32px;\n",
              "      padding: 0 0 0 0;\n",
              "      width: 32px;\n",
              "    }\n",
              "\n",
              "    .colab-df-convert:hover {\n",
              "      background-color: #E2EBFA;\n",
              "      box-shadow: 0px 1px 2px rgba(60, 64, 67, 0.3), 0px 1px 3px 1px rgba(60, 64, 67, 0.15);\n",
              "      fill: #174EA6;\n",
              "    }\n",
              "\n",
              "    [theme=dark] .colab-df-convert {\n",
              "      background-color: #3B4455;\n",
              "      fill: #D2E3FC;\n",
              "    }\n",
              "\n",
              "    [theme=dark] .colab-df-convert:hover {\n",
              "      background-color: #434B5C;\n",
              "      box-shadow: 0px 1px 3px 1px rgba(0, 0, 0, 0.15);\n",
              "      filter: drop-shadow(0px 1px 2px rgba(0, 0, 0, 0.3));\n",
              "      fill: #FFFFFF;\n",
              "    }\n",
              "  </style>\n",
              "\n",
              "      <script>\n",
              "        const buttonEl =\n",
              "          document.querySelector('#df-9f20e569-a333-49f2-8480-97cc58bceec1 button.colab-df-convert');\n",
              "        buttonEl.style.display =\n",
              "          google.colab.kernel.accessAllowed ? 'block' : 'none';\n",
              "\n",
              "        async function convertToInteractive(key) {\n",
              "          const element = document.querySelector('#df-9f20e569-a333-49f2-8480-97cc58bceec1');\n",
              "          const dataTable =\n",
              "            await google.colab.kernel.invokeFunction('convertToInteractive',\n",
              "                                                     [key], {});\n",
              "          if (!dataTable) return;\n",
              "\n",
              "          const docLinkHtml = 'Like what you see? Visit the ' +\n",
              "            '<a target=\"_blank\" href=https://colab.research.google.com/notebooks/data_table.ipynb>data table notebook</a>'\n",
              "            + ' to learn more about interactive tables.';\n",
              "          element.innerHTML = '';\n",
              "          dataTable['output_type'] = 'display_data';\n",
              "          await google.colab.output.renderOutput(dataTable, element);\n",
              "          const docLink = document.createElement('div');\n",
              "          docLink.innerHTML = docLinkHtml;\n",
              "          element.appendChild(docLink);\n",
              "        }\n",
              "      </script>\n",
              "    </div>\n",
              "  </div>\n",
              "  "
            ],
            "text/plain": [
              "           date   time  demand\n",
              "5107  2020/7/31  19:00    3735\n",
              "5108  2020/7/31  20:00    3525\n",
              "5109  2020/7/31  21:00    3303\n",
              "5110  2020/7/31  22:00    3148\n",
              "5111  2020/7/31  23:00    2957"
            ]
          },
          "execution_count": 11,
          "metadata": {},
          "output_type": "execute_result"
        }
      ],
      "source": [
        "demand.tail() # 末尾のみ表示。～7/31になっているはず"
      ]
    },
    {
      "cell_type": "code",
      "execution_count": null,
      "metadata": {
        "id": "H1OF_N6e-LMc"
      },
      "outputs": [],
      "source": [
        "# 14:00のデータだけ取り出す\n",
        "\n",
        "# 完全一致の場合 == で判定できる\n",
        "demand_is14oclock = (demand[\"time\"] == \"14:00\")\n",
        "\n",
        "# 判定した条件をもとにdemandを絞り込み、更新\n",
        "demand = demand[demand_is14oclock]"
      ]
    },
    {
      "cell_type": "code",
      "execution_count": null,
      "metadata": {
        "colab": {
          "base_uri": "https://localhost:8080/",
          "height": 206
        },
        "id": "sflKWf3yLpQM",
        "outputId": "2d123497-e896-4d61-da86-b1d73651a033"
      },
      "outputs": [
        {
          "data": {
            "text/html": [
              "\n",
              "  <div id=\"df-30d874ea-af1c-47b9-a650-3b1e76d6ad54\">\n",
              "    <div class=\"colab-df-container\">\n",
              "      <div>\n",
              "<style scoped>\n",
              "    .dataframe tbody tr th:only-of-type {\n",
              "        vertical-align: middle;\n",
              "    }\n",
              "\n",
              "    .dataframe tbody tr th {\n",
              "        vertical-align: top;\n",
              "    }\n",
              "\n",
              "    .dataframe thead th {\n",
              "        text-align: right;\n",
              "    }\n",
              "</style>\n",
              "<table border=\"1\" class=\"dataframe\">\n",
              "  <thead>\n",
              "    <tr style=\"text-align: right;\">\n",
              "      <th></th>\n",
              "      <th>date</th>\n",
              "      <th>time</th>\n",
              "      <th>demand</th>\n",
              "    </tr>\n",
              "  </thead>\n",
              "  <tbody>\n",
              "    <tr>\n",
              "      <th>4382</th>\n",
              "      <td>2020/7/1</td>\n",
              "      <td>14:00</td>\n",
              "      <td>3909</td>\n",
              "    </tr>\n",
              "    <tr>\n",
              "      <th>4406</th>\n",
              "      <td>2020/7/2</td>\n",
              "      <td>14:00</td>\n",
              "      <td>4194</td>\n",
              "    </tr>\n",
              "    <tr>\n",
              "      <th>4430</th>\n",
              "      <td>2020/7/3</td>\n",
              "      <td>14:00</td>\n",
              "      <td>3777</td>\n",
              "    </tr>\n",
              "    <tr>\n",
              "      <th>4454</th>\n",
              "      <td>2020/7/4</td>\n",
              "      <td>14:00</td>\n",
              "      <td>3106</td>\n",
              "    </tr>\n",
              "    <tr>\n",
              "      <th>4478</th>\n",
              "      <td>2020/7/5</td>\n",
              "      <td>14:00</td>\n",
              "      <td>2978</td>\n",
              "    </tr>\n",
              "  </tbody>\n",
              "</table>\n",
              "</div>\n",
              "      <button class=\"colab-df-convert\" onclick=\"convertToInteractive('df-30d874ea-af1c-47b9-a650-3b1e76d6ad54')\"\n",
              "              title=\"Convert this dataframe to an interactive table.\"\n",
              "              style=\"display:none;\">\n",
              "        \n",
              "  <svg xmlns=\"http://www.w3.org/2000/svg\" height=\"24px\"viewBox=\"0 0 24 24\"\n",
              "       width=\"24px\">\n",
              "    <path d=\"M0 0h24v24H0V0z\" fill=\"none\"/>\n",
              "    <path d=\"M18.56 5.44l.94 2.06.94-2.06 2.06-.94-2.06-.94-.94-2.06-.94 2.06-2.06.94zm-11 1L8.5 8.5l.94-2.06 2.06-.94-2.06-.94L8.5 2.5l-.94 2.06-2.06.94zm10 10l.94 2.06.94-2.06 2.06-.94-2.06-.94-.94-2.06-.94 2.06-2.06.94z\"/><path d=\"M17.41 7.96l-1.37-1.37c-.4-.4-.92-.59-1.43-.59-.52 0-1.04.2-1.43.59L10.3 9.45l-7.72 7.72c-.78.78-.78 2.05 0 2.83L4 21.41c.39.39.9.59 1.41.59.51 0 1.02-.2 1.41-.59l7.78-7.78 2.81-2.81c.8-.78.8-2.07 0-2.86zM5.41 20L4 18.59l7.72-7.72 1.47 1.35L5.41 20z\"/>\n",
              "  </svg>\n",
              "      </button>\n",
              "      \n",
              "  <style>\n",
              "    .colab-df-container {\n",
              "      display:flex;\n",
              "      flex-wrap:wrap;\n",
              "      gap: 12px;\n",
              "    }\n",
              "\n",
              "    .colab-df-convert {\n",
              "      background-color: #E8F0FE;\n",
              "      border: none;\n",
              "      border-radius: 50%;\n",
              "      cursor: pointer;\n",
              "      display: none;\n",
              "      fill: #1967D2;\n",
              "      height: 32px;\n",
              "      padding: 0 0 0 0;\n",
              "      width: 32px;\n",
              "    }\n",
              "\n",
              "    .colab-df-convert:hover {\n",
              "      background-color: #E2EBFA;\n",
              "      box-shadow: 0px 1px 2px rgba(60, 64, 67, 0.3), 0px 1px 3px 1px rgba(60, 64, 67, 0.15);\n",
              "      fill: #174EA6;\n",
              "    }\n",
              "\n",
              "    [theme=dark] .colab-df-convert {\n",
              "      background-color: #3B4455;\n",
              "      fill: #D2E3FC;\n",
              "    }\n",
              "\n",
              "    [theme=dark] .colab-df-convert:hover {\n",
              "      background-color: #434B5C;\n",
              "      box-shadow: 0px 1px 3px 1px rgba(0, 0, 0, 0.15);\n",
              "      filter: drop-shadow(0px 1px 2px rgba(0, 0, 0, 0.3));\n",
              "      fill: #FFFFFF;\n",
              "    }\n",
              "  </style>\n",
              "\n",
              "      <script>\n",
              "        const buttonEl =\n",
              "          document.querySelector('#df-30d874ea-af1c-47b9-a650-3b1e76d6ad54 button.colab-df-convert');\n",
              "        buttonEl.style.display =\n",
              "          google.colab.kernel.accessAllowed ? 'block' : 'none';\n",
              "\n",
              "        async function convertToInteractive(key) {\n",
              "          const element = document.querySelector('#df-30d874ea-af1c-47b9-a650-3b1e76d6ad54');\n",
              "          const dataTable =\n",
              "            await google.colab.kernel.invokeFunction('convertToInteractive',\n",
              "                                                     [key], {});\n",
              "          if (!dataTable) return;\n",
              "\n",
              "          const docLinkHtml = 'Like what you see? Visit the ' +\n",
              "            '<a target=\"_blank\" href=https://colab.research.google.com/notebooks/data_table.ipynb>data table notebook</a>'\n",
              "            + ' to learn more about interactive tables.';\n",
              "          element.innerHTML = '';\n",
              "          dataTable['output_type'] = 'display_data';\n",
              "          await google.colab.output.renderOutput(dataTable, element);\n",
              "          const docLink = document.createElement('div');\n",
              "          docLink.innerHTML = docLinkHtml;\n",
              "          element.appendChild(docLink);\n",
              "        }\n",
              "      </script>\n",
              "    </div>\n",
              "  </div>\n",
              "  "
            ],
            "text/plain": [
              "          date   time  demand\n",
              "4382  2020/7/1  14:00    3909\n",
              "4406  2020/7/2  14:00    4194\n",
              "4430  2020/7/3  14:00    3777\n",
              "4454  2020/7/4  14:00    3106\n",
              "4478  2020/7/5  14:00    2978"
            ]
          },
          "execution_count": 13,
          "metadata": {},
          "output_type": "execute_result"
        }
      ],
      "source": [
        "demand.head()"
      ]
    },
    {
      "cell_type": "code",
      "execution_count": null,
      "metadata": {
        "colab": {
          "base_uri": "https://localhost:8080/",
          "height": 206
        },
        "id": "0px4P2oeM-k4",
        "outputId": "2224a9c4-cbaa-4c0e-c898-0ab129287b2b"
      },
      "outputs": [
        {
          "data": {
            "text/html": [
              "\n",
              "  <div id=\"df-ee3979d6-7a20-45d8-befd-970d7d161e7f\">\n",
              "    <div class=\"colab-df-container\">\n",
              "      <div>\n",
              "<style scoped>\n",
              "    .dataframe tbody tr th:only-of-type {\n",
              "        vertical-align: middle;\n",
              "    }\n",
              "\n",
              "    .dataframe tbody tr th {\n",
              "        vertical-align: top;\n",
              "    }\n",
              "\n",
              "    .dataframe thead th {\n",
              "        text-align: right;\n",
              "    }\n",
              "</style>\n",
              "<table border=\"1\" class=\"dataframe\">\n",
              "  <thead>\n",
              "    <tr style=\"text-align: right;\">\n",
              "      <th></th>\n",
              "      <th>date</th>\n",
              "      <th>demand</th>\n",
              "    </tr>\n",
              "  </thead>\n",
              "  <tbody>\n",
              "    <tr>\n",
              "      <th>0</th>\n",
              "      <td>2020/7/1</td>\n",
              "      <td>3909</td>\n",
              "    </tr>\n",
              "    <tr>\n",
              "      <th>1</th>\n",
              "      <td>2020/7/2</td>\n",
              "      <td>4194</td>\n",
              "    </tr>\n",
              "    <tr>\n",
              "      <th>2</th>\n",
              "      <td>2020/7/3</td>\n",
              "      <td>3777</td>\n",
              "    </tr>\n",
              "    <tr>\n",
              "      <th>3</th>\n",
              "      <td>2020/7/4</td>\n",
              "      <td>3106</td>\n",
              "    </tr>\n",
              "    <tr>\n",
              "      <th>4</th>\n",
              "      <td>2020/7/5</td>\n",
              "      <td>2978</td>\n",
              "    </tr>\n",
              "  </tbody>\n",
              "</table>\n",
              "</div>\n",
              "      <button class=\"colab-df-convert\" onclick=\"convertToInteractive('df-ee3979d6-7a20-45d8-befd-970d7d161e7f')\"\n",
              "              title=\"Convert this dataframe to an interactive table.\"\n",
              "              style=\"display:none;\">\n",
              "        \n",
              "  <svg xmlns=\"http://www.w3.org/2000/svg\" height=\"24px\"viewBox=\"0 0 24 24\"\n",
              "       width=\"24px\">\n",
              "    <path d=\"M0 0h24v24H0V0z\" fill=\"none\"/>\n",
              "    <path d=\"M18.56 5.44l.94 2.06.94-2.06 2.06-.94-2.06-.94-.94-2.06-.94 2.06-2.06.94zm-11 1L8.5 8.5l.94-2.06 2.06-.94-2.06-.94L8.5 2.5l-.94 2.06-2.06.94zm10 10l.94 2.06.94-2.06 2.06-.94-2.06-.94-.94-2.06-.94 2.06-2.06.94z\"/><path d=\"M17.41 7.96l-1.37-1.37c-.4-.4-.92-.59-1.43-.59-.52 0-1.04.2-1.43.59L10.3 9.45l-7.72 7.72c-.78.78-.78 2.05 0 2.83L4 21.41c.39.39.9.59 1.41.59.51 0 1.02-.2 1.41-.59l7.78-7.78 2.81-2.81c.8-.78.8-2.07 0-2.86zM5.41 20L4 18.59l7.72-7.72 1.47 1.35L5.41 20z\"/>\n",
              "  </svg>\n",
              "      </button>\n",
              "      \n",
              "  <style>\n",
              "    .colab-df-container {\n",
              "      display:flex;\n",
              "      flex-wrap:wrap;\n",
              "      gap: 12px;\n",
              "    }\n",
              "\n",
              "    .colab-df-convert {\n",
              "      background-color: #E8F0FE;\n",
              "      border: none;\n",
              "      border-radius: 50%;\n",
              "      cursor: pointer;\n",
              "      display: none;\n",
              "      fill: #1967D2;\n",
              "      height: 32px;\n",
              "      padding: 0 0 0 0;\n",
              "      width: 32px;\n",
              "    }\n",
              "\n",
              "    .colab-df-convert:hover {\n",
              "      background-color: #E2EBFA;\n",
              "      box-shadow: 0px 1px 2px rgba(60, 64, 67, 0.3), 0px 1px 3px 1px rgba(60, 64, 67, 0.15);\n",
              "      fill: #174EA6;\n",
              "    }\n",
              "\n",
              "    [theme=dark] .colab-df-convert {\n",
              "      background-color: #3B4455;\n",
              "      fill: #D2E3FC;\n",
              "    }\n",
              "\n",
              "    [theme=dark] .colab-df-convert:hover {\n",
              "      background-color: #434B5C;\n",
              "      box-shadow: 0px 1px 3px 1px rgba(0, 0, 0, 0.15);\n",
              "      filter: drop-shadow(0px 1px 2px rgba(0, 0, 0, 0.3));\n",
              "      fill: #FFFFFF;\n",
              "    }\n",
              "  </style>\n",
              "\n",
              "      <script>\n",
              "        const buttonEl =\n",
              "          document.querySelector('#df-ee3979d6-7a20-45d8-befd-970d7d161e7f button.colab-df-convert');\n",
              "        buttonEl.style.display =\n",
              "          google.colab.kernel.accessAllowed ? 'block' : 'none';\n",
              "\n",
              "        async function convertToInteractive(key) {\n",
              "          const element = document.querySelector('#df-ee3979d6-7a20-45d8-befd-970d7d161e7f');\n",
              "          const dataTable =\n",
              "            await google.colab.kernel.invokeFunction('convertToInteractive',\n",
              "                                                     [key], {});\n",
              "          if (!dataTable) return;\n",
              "\n",
              "          const docLinkHtml = 'Like what you see? Visit the ' +\n",
              "            '<a target=\"_blank\" href=https://colab.research.google.com/notebooks/data_table.ipynb>data table notebook</a>'\n",
              "            + ' to learn more about interactive tables.';\n",
              "          element.innerHTML = '';\n",
              "          dataTable['output_type'] = 'display_data';\n",
              "          await google.colab.output.renderOutput(dataTable, element);\n",
              "          const docLink = document.createElement('div');\n",
              "          docLink.innerHTML = docLinkHtml;\n",
              "          element.appendChild(docLink);\n",
              "        }\n",
              "      </script>\n",
              "    </div>\n",
              "  </div>\n",
              "  "
            ],
            "text/plain": [
              "       date  demand\n",
              "0  2020/7/1    3909\n",
              "1  2020/7/2    4194\n",
              "2  2020/7/3    3777\n",
              "3  2020/7/4    3106\n",
              "4  2020/7/5    2978"
            ]
          },
          "execution_count": 14,
          "metadata": {},
          "output_type": "execute_result"
        }
      ],
      "source": [
        "# timeの列はいらないので削除\n",
        "demand = demand.drop(\"time\", axis=1)\n",
        "\n",
        "# indexを振りなおす\n",
        "demand = demand.reset_index(drop=True)\n",
        "demand.head()"
      ]
    },
    {
      "cell_type": "markdown",
      "metadata": {
        "id": "QCkha2ze_cOP"
      },
      "source": [
        "この操作によって、7月だけ、かつ各日の14時の気温だけを取り出すことができた。\n"
      ]
    },
    {
      "cell_type": "markdown",
      "metadata": {
        "id": "KcJGULtDAPpZ"
      },
      "source": [
        "### データの結合"
      ]
    },
    {
      "cell_type": "markdown",
      "metadata": {
        "id": "fNwgt_DlASSL"
      },
      "source": [
        "さて、二つのデータが用意できたので、この二つを結合して回帰分析に使うデータを完成させたい。この操作もpythonで行うことができる。\n",
        "\n",
        "まず、`highest_temp202007.csv`をアップロードし、読み込んでおく。"
      ]
    },
    {
      "cell_type": "code",
      "execution_count": null,
      "metadata": {
        "colab": {
          "base_uri": "https://localhost:8080/",
          "height": 206
        },
        "id": "l1FxdygbBx5S",
        "outputId": "ec66ffec-0885-4d06-bd70-928c4b0479ec"
      },
      "outputs": [
        {
          "data": {
            "text/html": [
              "\n",
              "  <div id=\"df-8a85bfc2-1a17-487e-b8da-aa05ad60e75a\">\n",
              "    <div class=\"colab-df-container\">\n",
              "      <div>\n",
              "<style scoped>\n",
              "    .dataframe tbody tr th:only-of-type {\n",
              "        vertical-align: middle;\n",
              "    }\n",
              "\n",
              "    .dataframe tbody tr th {\n",
              "        vertical-align: top;\n",
              "    }\n",
              "\n",
              "    .dataframe thead th {\n",
              "        text-align: right;\n",
              "    }\n",
              "</style>\n",
              "<table border=\"1\" class=\"dataframe\">\n",
              "  <thead>\n",
              "    <tr style=\"text-align: right;\">\n",
              "      <th></th>\n",
              "      <th>date</th>\n",
              "      <th>highest_temp</th>\n",
              "    </tr>\n",
              "  </thead>\n",
              "  <tbody>\n",
              "    <tr>\n",
              "      <th>0</th>\n",
              "      <td>2020/7/1</td>\n",
              "      <td>26.7</td>\n",
              "    </tr>\n",
              "    <tr>\n",
              "      <th>1</th>\n",
              "      <td>2020/7/2</td>\n",
              "      <td>30.8</td>\n",
              "    </tr>\n",
              "    <tr>\n",
              "      <th>2</th>\n",
              "      <td>2020/7/3</td>\n",
              "      <td>28.7</td>\n",
              "    </tr>\n",
              "    <tr>\n",
              "      <th>3</th>\n",
              "      <td>2020/7/4</td>\n",
              "      <td>27.7</td>\n",
              "    </tr>\n",
              "    <tr>\n",
              "      <th>4</th>\n",
              "      <td>2020/7/5</td>\n",
              "      <td>28.1</td>\n",
              "    </tr>\n",
              "  </tbody>\n",
              "</table>\n",
              "</div>\n",
              "      <button class=\"colab-df-convert\" onclick=\"convertToInteractive('df-8a85bfc2-1a17-487e-b8da-aa05ad60e75a')\"\n",
              "              title=\"Convert this dataframe to an interactive table.\"\n",
              "              style=\"display:none;\">\n",
              "        \n",
              "  <svg xmlns=\"http://www.w3.org/2000/svg\" height=\"24px\"viewBox=\"0 0 24 24\"\n",
              "       width=\"24px\">\n",
              "    <path d=\"M0 0h24v24H0V0z\" fill=\"none\"/>\n",
              "    <path d=\"M18.56 5.44l.94 2.06.94-2.06 2.06-.94-2.06-.94-.94-2.06-.94 2.06-2.06.94zm-11 1L8.5 8.5l.94-2.06 2.06-.94-2.06-.94L8.5 2.5l-.94 2.06-2.06.94zm10 10l.94 2.06.94-2.06 2.06-.94-2.06-.94-.94-2.06-.94 2.06-2.06.94z\"/><path d=\"M17.41 7.96l-1.37-1.37c-.4-.4-.92-.59-1.43-.59-.52 0-1.04.2-1.43.59L10.3 9.45l-7.72 7.72c-.78.78-.78 2.05 0 2.83L4 21.41c.39.39.9.59 1.41.59.51 0 1.02-.2 1.41-.59l7.78-7.78 2.81-2.81c.8-.78.8-2.07 0-2.86zM5.41 20L4 18.59l7.72-7.72 1.47 1.35L5.41 20z\"/>\n",
              "  </svg>\n",
              "      </button>\n",
              "      \n",
              "  <style>\n",
              "    .colab-df-container {\n",
              "      display:flex;\n",
              "      flex-wrap:wrap;\n",
              "      gap: 12px;\n",
              "    }\n",
              "\n",
              "    .colab-df-convert {\n",
              "      background-color: #E8F0FE;\n",
              "      border: none;\n",
              "      border-radius: 50%;\n",
              "      cursor: pointer;\n",
              "      display: none;\n",
              "      fill: #1967D2;\n",
              "      height: 32px;\n",
              "      padding: 0 0 0 0;\n",
              "      width: 32px;\n",
              "    }\n",
              "\n",
              "    .colab-df-convert:hover {\n",
              "      background-color: #E2EBFA;\n",
              "      box-shadow: 0px 1px 2px rgba(60, 64, 67, 0.3), 0px 1px 3px 1px rgba(60, 64, 67, 0.15);\n",
              "      fill: #174EA6;\n",
              "    }\n",
              "\n",
              "    [theme=dark] .colab-df-convert {\n",
              "      background-color: #3B4455;\n",
              "      fill: #D2E3FC;\n",
              "    }\n",
              "\n",
              "    [theme=dark] .colab-df-convert:hover {\n",
              "      background-color: #434B5C;\n",
              "      box-shadow: 0px 1px 3px 1px rgba(0, 0, 0, 0.15);\n",
              "      filter: drop-shadow(0px 1px 2px rgba(0, 0, 0, 0.3));\n",
              "      fill: #FFFFFF;\n",
              "    }\n",
              "  </style>\n",
              "\n",
              "      <script>\n",
              "        const buttonEl =\n",
              "          document.querySelector('#df-8a85bfc2-1a17-487e-b8da-aa05ad60e75a button.colab-df-convert');\n",
              "        buttonEl.style.display =\n",
              "          google.colab.kernel.accessAllowed ? 'block' : 'none';\n",
              "\n",
              "        async function convertToInteractive(key) {\n",
              "          const element = document.querySelector('#df-8a85bfc2-1a17-487e-b8da-aa05ad60e75a');\n",
              "          const dataTable =\n",
              "            await google.colab.kernel.invokeFunction('convertToInteractive',\n",
              "                                                     [key], {});\n",
              "          if (!dataTable) return;\n",
              "\n",
              "          const docLinkHtml = 'Like what you see? Visit the ' +\n",
              "            '<a target=\"_blank\" href=https://colab.research.google.com/notebooks/data_table.ipynb>data table notebook</a>'\n",
              "            + ' to learn more about interactive tables.';\n",
              "          element.innerHTML = '';\n",
              "          dataTable['output_type'] = 'display_data';\n",
              "          await google.colab.output.renderOutput(dataTable, element);\n",
              "          const docLink = document.createElement('div');\n",
              "          docLink.innerHTML = docLinkHtml;\n",
              "          element.appendChild(docLink);\n",
              "        }\n",
              "      </script>\n",
              "    </div>\n",
              "  </div>\n",
              "  "
            ],
            "text/plain": [
              "       date  highest_temp\n",
              "0  2020/7/1          26.7\n",
              "1  2020/7/2          30.8\n",
              "2  2020/7/3          28.7\n",
              "3  2020/7/4          27.7\n",
              "4  2020/7/5          28.1"
            ]
          },
          "execution_count": 15,
          "metadata": {},
          "output_type": "execute_result"
        }
      ],
      "source": [
        "# 読み込んで先頭を表示\n",
        "temperature = pd.read_csv(\"highest_temp202007.csv\")\n",
        "temperature.head()"
      ]
    },
    {
      "cell_type": "markdown",
      "metadata": {
        "id": "A-SCeL47CQr8"
      },
      "source": [
        "続いて二つの表を結合する。どちらも日付が同じ順に並んでいるので、単純に列を結合すればよい（注２）。\n",
        "\n",
        "表の結合は`pd.concat()`を用いる。（concat: concatenate 連結する）"
      ]
    },
    {
      "cell_type": "code",
      "execution_count": null,
      "metadata": {
        "colab": {
          "base_uri": "https://localhost:8080/",
          "height": 206
        },
        "id": "UzHtNPGFDXIM",
        "outputId": "9ad61afb-5efb-4bf8-c0e8-0fbb2ef02d34"
      },
      "outputs": [
        {
          "data": {
            "text/html": [
              "\n",
              "  <div id=\"df-ba3800c2-ffcd-4669-8b77-8b882c60b97f\">\n",
              "    <div class=\"colab-df-container\">\n",
              "      <div>\n",
              "<style scoped>\n",
              "    .dataframe tbody tr th:only-of-type {\n",
              "        vertical-align: middle;\n",
              "    }\n",
              "\n",
              "    .dataframe tbody tr th {\n",
              "        vertical-align: top;\n",
              "    }\n",
              "\n",
              "    .dataframe thead th {\n",
              "        text-align: right;\n",
              "    }\n",
              "</style>\n",
              "<table border=\"1\" class=\"dataframe\">\n",
              "  <thead>\n",
              "    <tr style=\"text-align: right;\">\n",
              "      <th></th>\n",
              "      <th>date</th>\n",
              "      <th>highest_temp</th>\n",
              "      <th>demand</th>\n",
              "    </tr>\n",
              "  </thead>\n",
              "  <tbody>\n",
              "    <tr>\n",
              "      <th>0</th>\n",
              "      <td>2020/7/1</td>\n",
              "      <td>26.7</td>\n",
              "      <td>3909</td>\n",
              "    </tr>\n",
              "    <tr>\n",
              "      <th>1</th>\n",
              "      <td>2020/7/2</td>\n",
              "      <td>30.8</td>\n",
              "      <td>4194</td>\n",
              "    </tr>\n",
              "    <tr>\n",
              "      <th>2</th>\n",
              "      <td>2020/7/3</td>\n",
              "      <td>28.7</td>\n",
              "      <td>3777</td>\n",
              "    </tr>\n",
              "    <tr>\n",
              "      <th>3</th>\n",
              "      <td>2020/7/4</td>\n",
              "      <td>27.7</td>\n",
              "      <td>3106</td>\n",
              "    </tr>\n",
              "    <tr>\n",
              "      <th>4</th>\n",
              "      <td>2020/7/5</td>\n",
              "      <td>28.1</td>\n",
              "      <td>2978</td>\n",
              "    </tr>\n",
              "  </tbody>\n",
              "</table>\n",
              "</div>\n",
              "      <button class=\"colab-df-convert\" onclick=\"convertToInteractive('df-ba3800c2-ffcd-4669-8b77-8b882c60b97f')\"\n",
              "              title=\"Convert this dataframe to an interactive table.\"\n",
              "              style=\"display:none;\">\n",
              "        \n",
              "  <svg xmlns=\"http://www.w3.org/2000/svg\" height=\"24px\"viewBox=\"0 0 24 24\"\n",
              "       width=\"24px\">\n",
              "    <path d=\"M0 0h24v24H0V0z\" fill=\"none\"/>\n",
              "    <path d=\"M18.56 5.44l.94 2.06.94-2.06 2.06-.94-2.06-.94-.94-2.06-.94 2.06-2.06.94zm-11 1L8.5 8.5l.94-2.06 2.06-.94-2.06-.94L8.5 2.5l-.94 2.06-2.06.94zm10 10l.94 2.06.94-2.06 2.06-.94-2.06-.94-.94-2.06-.94 2.06-2.06.94z\"/><path d=\"M17.41 7.96l-1.37-1.37c-.4-.4-.92-.59-1.43-.59-.52 0-1.04.2-1.43.59L10.3 9.45l-7.72 7.72c-.78.78-.78 2.05 0 2.83L4 21.41c.39.39.9.59 1.41.59.51 0 1.02-.2 1.41-.59l7.78-7.78 2.81-2.81c.8-.78.8-2.07 0-2.86zM5.41 20L4 18.59l7.72-7.72 1.47 1.35L5.41 20z\"/>\n",
              "  </svg>\n",
              "      </button>\n",
              "      \n",
              "  <style>\n",
              "    .colab-df-container {\n",
              "      display:flex;\n",
              "      flex-wrap:wrap;\n",
              "      gap: 12px;\n",
              "    }\n",
              "\n",
              "    .colab-df-convert {\n",
              "      background-color: #E8F0FE;\n",
              "      border: none;\n",
              "      border-radius: 50%;\n",
              "      cursor: pointer;\n",
              "      display: none;\n",
              "      fill: #1967D2;\n",
              "      height: 32px;\n",
              "      padding: 0 0 0 0;\n",
              "      width: 32px;\n",
              "    }\n",
              "\n",
              "    .colab-df-convert:hover {\n",
              "      background-color: #E2EBFA;\n",
              "      box-shadow: 0px 1px 2px rgba(60, 64, 67, 0.3), 0px 1px 3px 1px rgba(60, 64, 67, 0.15);\n",
              "      fill: #174EA6;\n",
              "    }\n",
              "\n",
              "    [theme=dark] .colab-df-convert {\n",
              "      background-color: #3B4455;\n",
              "      fill: #D2E3FC;\n",
              "    }\n",
              "\n",
              "    [theme=dark] .colab-df-convert:hover {\n",
              "      background-color: #434B5C;\n",
              "      box-shadow: 0px 1px 3px 1px rgba(0, 0, 0, 0.15);\n",
              "      filter: drop-shadow(0px 1px 2px rgba(0, 0, 0, 0.3));\n",
              "      fill: #FFFFFF;\n",
              "    }\n",
              "  </style>\n",
              "\n",
              "      <script>\n",
              "        const buttonEl =\n",
              "          document.querySelector('#df-ba3800c2-ffcd-4669-8b77-8b882c60b97f button.colab-df-convert');\n",
              "        buttonEl.style.display =\n",
              "          google.colab.kernel.accessAllowed ? 'block' : 'none';\n",
              "\n",
              "        async function convertToInteractive(key) {\n",
              "          const element = document.querySelector('#df-ba3800c2-ffcd-4669-8b77-8b882c60b97f');\n",
              "          const dataTable =\n",
              "            await google.colab.kernel.invokeFunction('convertToInteractive',\n",
              "                                                     [key], {});\n",
              "          if (!dataTable) return;\n",
              "\n",
              "          const docLinkHtml = 'Like what you see? Visit the ' +\n",
              "            '<a target=\"_blank\" href=https://colab.research.google.com/notebooks/data_table.ipynb>data table notebook</a>'\n",
              "            + ' to learn more about interactive tables.';\n",
              "          element.innerHTML = '';\n",
              "          dataTable['output_type'] = 'display_data';\n",
              "          await google.colab.output.renderOutput(dataTable, element);\n",
              "          const docLink = document.createElement('div');\n",
              "          docLink.innerHTML = docLinkHtml;\n",
              "          element.appendChild(docLink);\n",
              "        }\n",
              "      </script>\n",
              "    </div>\n",
              "  </div>\n",
              "  "
            ],
            "text/plain": [
              "       date  highest_temp  demand\n",
              "0  2020/7/1          26.7    3909\n",
              "1  2020/7/2          30.8    4194\n",
              "2  2020/7/3          28.7    3777\n",
              "3  2020/7/4          27.7    3106\n",
              "4  2020/7/5          28.1    2978"
            ]
          },
          "execution_count": 16,
          "metadata": {},
          "output_type": "execute_result"
        }
      ],
      "source": [
        "# 二つの表を結合する。\n",
        "data = pd.concat([temperature, demand[\"demand\"]], axis=1) # axis=1: 列方向に結合\n",
        "data.head()"
      ]
    },
    {
      "cell_type": "markdown",
      "metadata": {
        "id": "gUn6zrVfE7G0"
      },
      "source": [
        "これで表を結合することができた。この結果を`data`としておき、以降の回帰分析で利用する。\n",
        "\n",
        "また、この表をcsvとして保存してダウンロードすることもできる。"
      ]
    },
    {
      "cell_type": "code",
      "execution_count": null,
      "metadata": {
        "id": "ct7Pzue1SPaJ"
      },
      "outputs": [],
      "source": [
        "data.to_csv(\"temp_demand202007.csv\", index=None)"
      ]
    },
    {
      "cell_type": "markdown",
      "metadata": {
        "id": "vv23yXoDSgvs"
      },
      "source": [
        "上のセルを実行することで左のファイルタブに`temp_demand202007.csv`が現れ、右クリックすることでブラウザからダウンロードすることができる。"
      ]
    },
    {
      "cell_type": "markdown",
      "metadata": {
        "id": "HvsK-Sqw91iS"
      },
      "source": [
        "## (3) 分析・解析\n"
      ]
    },
    {
      "cell_type": "markdown",
      "metadata": {
        "id": "PDyOI1XGFRGs"
      },
      "source": [
        "さて、ようやくデータの準備が完了した。ここからはデータの分析・解析ということで、データの可視化を行った後に回帰分析を行う。"
      ]
    },
    {
      "cell_type": "markdown",
      "metadata": {
        "id": "3Fy5PIXcFfu7"
      },
      "source": [
        "### データの可視化"
      ]
    },
    {
      "cell_type": "markdown",
      "metadata": {
        "id": "3uFcrs2iFhiD"
      },
      "source": [
        "回帰分析を行う前に、本当にこの二つの変数に関連があるのかを確認してみよう。二つの変数の関連は前回学習した散布図と相関係数で見てみるのが簡単である。"
      ]
    },
    {
      "cell_type": "code",
      "execution_count": null,
      "metadata": {
        "colab": {
          "base_uri": "https://localhost:8080/",
          "height": 398
        },
        "id": "wE_BkJazFQie",
        "outputId": "72a0cdac-1f54-4119-ef92-accce5993ca8"
      },
      "outputs": [
        {
          "data": {
            "image/png": "[encoded data removed]",
            "text/plain": [
              "<Figure size 576x432 with 1 Axes>"
            ]
          },
          "metadata": {
            "needs_background": "light"
          },
          "output_type": "display_data"
        }
      ],
      "source": [
        "import matplotlib.pyplot as plt\n",
        "import numpy as np\n",
        "\n",
        "\n",
        "# 表示の設定（図の大きさとフォントサイズ）\n",
        "plt.figure(figsize=(8,6))\n",
        "plt.rcParams[\"font.size\"] = 16\n",
        "\n",
        "# グラフの作成（散布図）\n",
        "plt.scatter(data[\"highest_temp\"], data[\"demand\"], s=100)\n",
        "\n",
        "# 軸ラベルの設定\n",
        "plt.xlabel(\"Highest Temperature at Tokyo (C)\")\n",
        "plt.ylabel(\"Power demand at 2PM (x10000kW)\")\n",
        "\n",
        "# 最終的な描画\n",
        "plt.show()"
      ]
    },
    {
      "cell_type": "markdown",
      "metadata": {
        "id": "rbSK4ijJ98Ac"
      },
      "source": [
        "### 単回帰"
      ]
    },
    {
      "cell_type": "markdown",
      "metadata": {
        "id": "KLKZbK_SPWlt"
      },
      "source": [
        "さて、ようやく今回のメインである回帰分析を行っていこう。今回行うのは回帰分析の中でももっとも簡単な手法である**単回帰**である。\n",
        "\n",
        "単回帰は一つの目的変数$y$を一つの説明変数$x$で表す手法で、この関係を$y＝ax＋b$という一次方程式の形で表現する（下図）。\n",
        "\n",
        "単回帰は機械学習ライブラリ`scikit-learn`（略称`sklearn`）の`LinearRegression`で行うことができる。"
      ]
    },
    {
      "cell_type": "markdown",
      "metadata": {
        "id": "iJiICfbLcFC1"
      },
      "source": [
        "![](https://i.imgur.com/Bf0OtmG.png)\n",
        "\n",
        "データを一次方程式の形で表現する例。\n"
      ]
    },
    {
      "cell_type": "code",
      "execution_count": null,
      "metadata": {
        "id": "tf3hMXg5WR3C"
      },
      "outputs": [],
      "source": [
        "from sklearn.linear_model import LinearRegression\n",
        "model = LinearRegression()"
      ]
    },
    {
      "cell_type": "markdown",
      "metadata": {
        "id": "ZnN_3nEUX7A3"
      },
      "source": [
        "この状態ではまだモデルにデータを渡していないので推定はされていない。\n",
        "\n",
        "scikit-learnでのモデルの学習（単回帰においては、傾き$a$と切片$b$をデータから決定する操作）は`.fit()`で行うことができる。"
      ]
    },
    {
      "cell_type": "code",
      "execution_count": null,
      "metadata": {
        "colab": {
          "base_uri": "https://localhost:8080/"
        },
        "id": "WIqy83KZYLXY",
        "outputId": "d6d1445a-e44d-4adb-bcf5-92cf44e4b3bb"
      },
      "outputs": [
        {
          "data": {
            "text/plain": [
              "LinearRegression()"
            ]
          },
          "execution_count": 20,
          "metadata": {},
          "output_type": "execute_result"
        }
      ],
      "source": [
        "# モデルの学習（一次方程式の傾きと切片を決める）\n",
        "x = data[\"highest_temp\"].to_numpy().reshape(-1, 1)\n",
        "y = data[\"demand\"]\n",
        "model.fit(x, y)"
      ]
    },
    {
      "cell_type": "code",
      "execution_count": null,
      "metadata": {
        "colab": {
          "base_uri": "https://localhost:8080/"
        },
        "id": "ZRu_4wMmJtuT",
        "outputId": "0444214d-71bf-43d7-e756-749da1ee44af"
      },
      "outputs": [
        {
          "name": "stdout",
          "output_type": "stream",
          "text": [
            "63.14351722471949 1954.4794264900218\n"
          ]
        }
      ],
      "source": [
        "# 学習済みモデルから傾きaと切片bを取り出す\n",
        "a = model.coef_[0] # coef: coefficient 係数\n",
        "b = model.intercept_ # intercept: 切片\n",
        "\n",
        "print(a, b)"
      ]
    },
    {
      "cell_type": "markdown",
      "metadata": {
        "id": "3vshkpRCcVYc"
      },
      "source": [
        "$a,\\ b$はそれぞれ約$63.1, 1954$程度であった。つまり、$y＝63.1x＋1954$\n",
        "の関係が推定されたことになる。"
      ]
    },
    {
      "cell_type": "markdown",
      "metadata": {
        "id": "_LpwTYX1iEPQ"
      },
      "source": [
        "続いて、今回のデータにあった各日の気温に対して、今回のモデルの予測値がいくらになるかを計算してみる。それぞれのデータに対して上の練習のように$y=63.1x+1954$を計算することもできるが、scikit-learnでは予測を行うための便利な関数`predict()`を利用することでより簡便に予測値を計算できる。"
      ]
    },
    {
      "cell_type": "code",
      "execution_count": null,
      "metadata": {
        "colab": {
          "base_uri": "https://localhost:8080/"
        },
        "id": "OevP6RjFmTJ-",
        "outputId": "ec7cf070-b9e7-4fb2-87ba-e4aeb39611d8"
      },
      "outputs": [
        {
          "data": {
            "text/plain": [
              "array([3640.41133639, 3899.29975701, 3766.69837084, 3703.55485361,\n",
              "       3728.8122605 , 3653.04003983, 3804.58448117, 3754.06966739,\n",
              "       3602.52522606, 3728.8122605 , 3924.5571639 , 4006.64373629,\n",
              "       3545.69606055, 3450.98078472, 3343.63680543, 3507.80995022,\n",
              "       3255.23588132, 3343.63680543, 3804.58448117, 3968.75762596,\n",
              "       3785.64142601, 3842.47059151, 3596.21087433, 3671.983095  ,\n",
              "       3684.61179845, 3924.5571639 , 3892.98540529, 3911.92846046,\n",
              "       3570.95346744, 3627.78263295, 3823.52753634])"
            ]
          },
          "execution_count": 22,
          "metadata": {},
          "output_type": "execute_result"
        }
      ],
      "source": [
        "# predict()関数で予測値を計算。\n",
        "highest_temp = data[\"highest_temp\"].to_numpy().reshape(-1, 1) # 予測できる形式に変形\n",
        "y_pred = model.predict(highest_temp) # 予測\n",
        "y_pred"
      ]
    },
    {
      "cell_type": "markdown",
      "metadata": {
        "id": "1BeN02ipnFDL"
      },
      "source": [
        "この結果を実際の値と並べて表にしてみよう。"
      ]
    },
    {
      "cell_type": "code",
      "execution_count": null,
      "metadata": {
        "colab": {
          "base_uri": "https://localhost:8080/",
          "height": 1000
        },
        "id": "yzmBgKPWnNLy",
        "outputId": "d46cac17-f58c-43f0-d8a7-ee33caf9e2df"
      },
      "outputs": [
        {
          "data": {
            "text/html": [
              "\n",
              "  <div id=\"df-55c784d9-0131-4b10-bbde-93875e3f83e2\">\n",
              "    <div class=\"colab-df-container\">\n",
              "      <div>\n",
              "<style scoped>\n",
              "    .dataframe tbody tr th:only-of-type {\n",
              "        vertical-align: middle;\n",
              "    }\n",
              "\n",
              "    .dataframe tbody tr th {\n",
              "        vertical-align: top;\n",
              "    }\n",
              "\n",
              "    .dataframe thead th {\n",
              "        text-align: right;\n",
              "    }\n",
              "</style>\n",
              "<table border=\"1\" class=\"dataframe\">\n",
              "  <thead>\n",
              "    <tr style=\"text-align: right;\">\n",
              "      <th></th>\n",
              "      <th>date</th>\n",
              "      <th>real</th>\n",
              "      <th>predicted</th>\n",
              "    </tr>\n",
              "  </thead>\n",
              "  <tbody>\n",
              "    <tr>\n",
              "      <th>0</th>\n",
              "      <td>2020/7/1</td>\n",
              "      <td>3909</td>\n",
              "      <td>3640.411336</td>\n",
              "    </tr>\n",
              "    <tr>\n",
              "      <th>1</th>\n",
              "      <td>2020/7/2</td>\n",
              "      <td>4194</td>\n",
              "      <td>3899.299757</td>\n",
              "    </tr>\n",
              "    <tr>\n",
              "      <th>2</th>\n",
              "      <td>2020/7/3</td>\n",
              "      <td>3777</td>\n",
              "      <td>3766.698371</td>\n",
              "    </tr>\n",
              "    <tr>\n",
              "      <th>3</th>\n",
              "      <td>2020/7/4</td>\n",
              "      <td>3106</td>\n",
              "      <td>3703.554854</td>\n",
              "    </tr>\n",
              "    <tr>\n",
              "      <th>4</th>\n",
              "      <td>2020/7/5</td>\n",
              "      <td>2978</td>\n",
              "      <td>3728.812261</td>\n",
              "    </tr>\n",
              "    <tr>\n",
              "      <th>5</th>\n",
              "      <td>2020/7/6</td>\n",
              "      <td>3899</td>\n",
              "      <td>3653.040040</td>\n",
              "    </tr>\n",
              "    <tr>\n",
              "      <th>6</th>\n",
              "      <td>2020/7/7</td>\n",
              "      <td>4223</td>\n",
              "      <td>3804.584481</td>\n",
              "    </tr>\n",
              "    <tr>\n",
              "      <th>7</th>\n",
              "      <td>2020/7/8</td>\n",
              "      <td>3894</td>\n",
              "      <td>3754.069667</td>\n",
              "    </tr>\n",
              "    <tr>\n",
              "      <th>8</th>\n",
              "      <td>2020/7/9</td>\n",
              "      <td>3856</td>\n",
              "      <td>3602.525226</td>\n",
              "    </tr>\n",
              "    <tr>\n",
              "      <th>9</th>\n",
              "      <td>2020/7/10</td>\n",
              "      <td>3970</td>\n",
              "      <td>3728.812261</td>\n",
              "    </tr>\n",
              "    <tr>\n",
              "      <th>10</th>\n",
              "      <td>2020/7/11</td>\n",
              "      <td>3492</td>\n",
              "      <td>3924.557164</td>\n",
              "    </tr>\n",
              "    <tr>\n",
              "      <th>11</th>\n",
              "      <td>2020/7/12</td>\n",
              "      <td>3575</td>\n",
              "      <td>4006.643736</td>\n",
              "    </tr>\n",
              "    <tr>\n",
              "      <th>12</th>\n",
              "      <td>2020/7/13</td>\n",
              "      <td>3592</td>\n",
              "      <td>3545.696061</td>\n",
              "    </tr>\n",
              "    <tr>\n",
              "      <th>13</th>\n",
              "      <td>2020/7/14</td>\n",
              "      <td>3648</td>\n",
              "      <td>3450.980785</td>\n",
              "    </tr>\n",
              "    <tr>\n",
              "      <th>14</th>\n",
              "      <td>2020/7/15</td>\n",
              "      <td>3586</td>\n",
              "      <td>3343.636805</td>\n",
              "    </tr>\n",
              "    <tr>\n",
              "      <th>15</th>\n",
              "      <td>2020/7/16</td>\n",
              "      <td>3520</td>\n",
              "      <td>3507.809950</td>\n",
              "    </tr>\n",
              "    <tr>\n",
              "      <th>16</th>\n",
              "      <td>2020/7/17</td>\n",
              "      <td>3368</td>\n",
              "      <td>3255.235881</td>\n",
              "    </tr>\n",
              "    <tr>\n",
              "      <th>17</th>\n",
              "      <td>2020/7/18</td>\n",
              "      <td>2908</td>\n",
              "      <td>3343.636805</td>\n",
              "    </tr>\n",
              "    <tr>\n",
              "      <th>18</th>\n",
              "      <td>2020/7/19</td>\n",
              "      <td>3115</td>\n",
              "      <td>3804.584481</td>\n",
              "    </tr>\n",
              "    <tr>\n",
              "      <th>19</th>\n",
              "      <td>2020/7/20</td>\n",
              "      <td>4497</td>\n",
              "      <td>3968.757626</td>\n",
              "    </tr>\n",
              "    <tr>\n",
              "      <th>20</th>\n",
              "      <td>2020/7/21</td>\n",
              "      <td>4138</td>\n",
              "      <td>3785.641426</td>\n",
              "    </tr>\n",
              "    <tr>\n",
              "      <th>21</th>\n",
              "      <td>2020/7/22</td>\n",
              "      <td>4439</td>\n",
              "      <td>3842.470592</td>\n",
              "    </tr>\n",
              "    <tr>\n",
              "      <th>22</th>\n",
              "      <td>2020/7/23</td>\n",
              "      <td>3302</td>\n",
              "      <td>3596.210874</td>\n",
              "    </tr>\n",
              "    <tr>\n",
              "      <th>23</th>\n",
              "      <td>2020/7/24</td>\n",
              "      <td>3252</td>\n",
              "      <td>3671.983095</td>\n",
              "    </tr>\n",
              "    <tr>\n",
              "      <th>24</th>\n",
              "      <td>2020/7/25</td>\n",
              "      <td>3350</td>\n",
              "      <td>3684.611798</td>\n",
              "    </tr>\n",
              "    <tr>\n",
              "      <th>25</th>\n",
              "      <td>2020/7/26</td>\n",
              "      <td>3329</td>\n",
              "      <td>3924.557164</td>\n",
              "    </tr>\n",
              "    <tr>\n",
              "      <th>26</th>\n",
              "      <td>2020/7/27</td>\n",
              "      <td>4149</td>\n",
              "      <td>3892.985405</td>\n",
              "    </tr>\n",
              "    <tr>\n",
              "      <th>27</th>\n",
              "      <td>2020/7/28</td>\n",
              "      <td>4313</td>\n",
              "      <td>3911.928460</td>\n",
              "    </tr>\n",
              "    <tr>\n",
              "      <th>28</th>\n",
              "      <td>2020/7/29</td>\n",
              "      <td>3712</td>\n",
              "      <td>3570.953467</td>\n",
              "    </tr>\n",
              "    <tr>\n",
              "      <th>29</th>\n",
              "      <td>2020/7/30</td>\n",
              "      <td>3704</td>\n",
              "      <td>3627.782633</td>\n",
              "    </tr>\n",
              "    <tr>\n",
              "      <th>30</th>\n",
              "      <td>2020/7/31</td>\n",
              "      <td>3971</td>\n",
              "      <td>3823.527536</td>\n",
              "    </tr>\n",
              "  </tbody>\n",
              "</table>\n",
              "</div>\n",
              "      <button class=\"colab-df-convert\" onclick=\"convertToInteractive('df-55c784d9-0131-4b10-bbde-93875e3f83e2')\"\n",
              "              title=\"Convert this dataframe to an interactive table.\"\n",
              "              style=\"display:none;\">\n",
              "        \n",
              "  <svg xmlns=\"http://www.w3.org/2000/svg\" height=\"24px\"viewBox=\"0 0 24 24\"\n",
              "       width=\"24px\">\n",
              "    <path d=\"M0 0h24v24H0V0z\" fill=\"none\"/>\n",
              "    <path d=\"M18.56 5.44l.94 2.06.94-2.06 2.06-.94-2.06-.94-.94-2.06-.94 2.06-2.06.94zm-11 1L8.5 8.5l.94-2.06 2.06-.94-2.06-.94L8.5 2.5l-.94 2.06-2.06.94zm10 10l.94 2.06.94-2.06 2.06-.94-2.06-.94-.94-2.06-.94 2.06-2.06.94z\"/><path d=\"M17.41 7.96l-1.37-1.37c-.4-.4-.92-.59-1.43-.59-.52 0-1.04.2-1.43.59L10.3 9.45l-7.72 7.72c-.78.78-.78 2.05 0 2.83L4 21.41c.39.39.9.59 1.41.59.51 0 1.02-.2 1.41-.59l7.78-7.78 2.81-2.81c.8-.78.8-2.07 0-2.86zM5.41 20L4 18.59l7.72-7.72 1.47 1.35L5.41 20z\"/>\n",
              "  </svg>\n",
              "      </button>\n",
              "      \n",
              "  <style>\n",
              "    .colab-df-container {\n",
              "      display:flex;\n",
              "      flex-wrap:wrap;\n",
              "      gap: 12px;\n",
              "    }\n",
              "\n",
              "    .colab-df-convert {\n",
              "      background-color: #E8F0FE;\n",
              "      border: none;\n",
              "      border-radius: 50%;\n",
              "      cursor: pointer;\n",
              "      display: none;\n",
              "      fill: #1967D2;\n",
              "      height: 32px;\n",
              "      padding: 0 0 0 0;\n",
              "      width: 32px;\n",
              "    }\n",
              "\n",
              "    .colab-df-convert:hover {\n",
              "      background-color: #E2EBFA;\n",
              "      box-shadow: 0px 1px 2px rgba(60, 64, 67, 0.3), 0px 1px 3px 1px rgba(60, 64, 67, 0.15);\n",
              "      fill: #174EA6;\n",
              "    }\n",
              "\n",
              "    [theme=dark] .colab-df-convert {\n",
              "      background-color: #3B4455;\n",
              "      fill: #D2E3FC;\n",
              "    }\n",
              "\n",
              "    [theme=dark] .colab-df-convert:hover {\n",
              "      background-color: #434B5C;\n",
              "      box-shadow: 0px 1px 3px 1px rgba(0, 0, 0, 0.15);\n",
              "      filter: drop-shadow(0px 1px 2px rgba(0, 0, 0, 0.3));\n",
              "      fill: #FFFFFF;\n",
              "    }\n",
              "  </style>\n",
              "\n",
              "      <script>\n",
              "        const buttonEl =\n",
              "          document.querySelector('#df-55c784d9-0131-4b10-bbde-93875e3f83e2 button.colab-df-convert');\n",
              "        buttonEl.style.display =\n",
              "          google.colab.kernel.accessAllowed ? 'block' : 'none';\n",
              "\n",
              "        async function convertToInteractive(key) {\n",
              "          const element = document.querySelector('#df-55c784d9-0131-4b10-bbde-93875e3f83e2');\n",
              "          const dataTable =\n",
              "            await google.colab.kernel.invokeFunction('convertToInteractive',\n",
              "                                                     [key], {});\n",
              "          if (!dataTable) return;\n",
              "\n",
              "          const docLinkHtml = 'Like what you see? Visit the ' +\n",
              "            '<a target=\"_blank\" href=https://colab.research.google.com/notebooks/data_table.ipynb>data table notebook</a>'\n",
              "            + ' to learn more about interactive tables.';\n",
              "          element.innerHTML = '';\n",
              "          dataTable['output_type'] = 'display_data';\n",
              "          await google.colab.output.renderOutput(dataTable, element);\n",
              "          const docLink = document.createElement('div');\n",
              "          docLink.innerHTML = docLinkHtml;\n",
              "          element.appendChild(docLink);\n",
              "        }\n",
              "      </script>\n",
              "    </div>\n",
              "  </div>\n",
              "  "
            ],
            "text/plain": [
              "         date  real    predicted\n",
              "0    2020/7/1  3909  3640.411336\n",
              "1    2020/7/2  4194  3899.299757\n",
              "2    2020/7/3  3777  3766.698371\n",
              "3    2020/7/4  3106  3703.554854\n",
              "4    2020/7/5  2978  3728.812261\n",
              "5    2020/7/6  3899  3653.040040\n",
              "6    2020/7/7  4223  3804.584481\n",
              "7    2020/7/8  3894  3754.069667\n",
              "8    2020/7/9  3856  3602.525226\n",
              "9   2020/7/10  3970  3728.812261\n",
              "10  2020/7/11  3492  3924.557164\n",
              "11  2020/7/12  3575  4006.643736\n",
              "12  2020/7/13  3592  3545.696061\n",
              "13  2020/7/14  3648  3450.980785\n",
              "14  2020/7/15  3586  3343.636805\n",
              "15  2020/7/16  3520  3507.809950\n",
              "16  2020/7/17  3368  3255.235881\n",
              "17  2020/7/18  2908  3343.636805\n",
              "18  2020/7/19  3115  3804.584481\n",
              "19  2020/7/20  4497  3968.757626\n",
              "20  2020/7/21  4138  3785.641426\n",
              "21  2020/7/22  4439  3842.470592\n",
              "22  2020/7/23  3302  3596.210874\n",
              "23  2020/7/24  3252  3671.983095\n",
              "24  2020/7/25  3350  3684.611798\n",
              "25  2020/7/26  3329  3924.557164\n",
              "26  2020/7/27  4149  3892.985405\n",
              "27  2020/7/28  4313  3911.928460\n",
              "28  2020/7/29  3712  3570.953467\n",
              "29  2020/7/30  3704  3627.782633\n",
              "30  2020/7/31  3971  3823.527536"
            ]
          },
          "execution_count": 23,
          "metadata": {},
          "output_type": "execute_result"
        }
      ],
      "source": [
        "result = pd.DataFrame({\"date\": data[\"date\"], \"real\": data[\"demand\"], \"predicted\": y_pred})\n",
        "result"
      ]
    },
    {
      "cell_type": "markdown",
      "metadata": {
        "id": "yWIopfEC9-_J"
      },
      "source": [
        "###回帰結果の可視化"
      ]
    },
    {
      "cell_type": "markdown",
      "metadata": {
        "id": "I6GPr7jxJiqz"
      },
      "source": [
        "上の表を見て、どのような評価ができるだろうか。ほとんど差がない日もあるし、数百ほどずれている日もあるようだが、この表を見て全体がどうなっているか把握するのは難しい。\n",
        "\n",
        "そこで、推定された関係$y=63.1x+1954$を散布図に重ね書きして、どのようなモデルが学習されたのか確認してみよう。"
      ]
    },
    {
      "cell_type": "code",
      "execution_count": null,
      "metadata": {
        "colab": {
          "base_uri": "https://localhost:8080/",
          "height": 398
        },
        "id": "9HpEv66MKk1E",
        "outputId": "4e105f68-5ab1-407d-8161-b74c25498582"
      },
      "outputs": [
        {
          "data": {
            "image/png": "[encoded data removed]",
            "text/plain": [
              "<Figure size 576x432 with 1 Axes>"
            ]
          },
          "metadata": {
            "needs_background": "light"
          },
          "output_type": "display_data"
        }
      ],
      "source": [
        "# 表示の設定（図の大きさとフォントサイズ）\n",
        "plt.figure(figsize=(8,6))\n",
        "plt.rcParams[\"font.size\"] = 16\n",
        "\n",
        "# グラフの作成（散布図）\n",
        "plt.scatter(data[\"highest_temp\"], data[\"demand\"], \n",
        "            label=f\"training data\", s=100)\n",
        "\n",
        "# ---ここを追加---\n",
        "# 回帰結果の直線を描画\n",
        "a = 63.1\n",
        "b = 1954\n",
        "xg = np.arange(20, 33) # xのリストを用意\n",
        "yg = a * xg + b # y = a * x + b でyを計算\n",
        "plt.plot(xg, yg, color=\"red\", label=f\"predicted\") # 直線をプロット\n",
        "# ---ここまで---\n",
        "\n",
        "# 軸ラベルの設定\n",
        "plt.xlabel(\"Highest Temperature at Tokyo (C)\")\n",
        "plt.ylabel(\"Power demand at 2PM (x10000kW)\")\n",
        "plt.legend()\n",
        "\n",
        "# 最終的な描画\n",
        "plt.show()"
      ]
    },
    {
      "cell_type": "markdown",
      "metadata": {
        "id": "dVaiqBj7NbWc"
      },
      "source": [
        "ここまでの内容で、データを表現する数式を推定することができた。\n",
        "\n",
        "しかし、今回の分析の目標は**気象情報を基に将来の電力需要を予測する**ことであるから、この式を使って実際に電力需要を予測してみたい。今日や明日の天気予報を用いて予測することももちろん可能だが、今回は正解と予測値を比較したいので昨日の値を用いよう。"
      ]
    },
    {
      "cell_type": "code",
      "execution_count": null,
      "metadata": {},
      "outputs": [],
      "source": []
    },
    {
      "cell_type": "markdown",
      "metadata": {
        "id": "zyC_ZG0wVF8V"
      },
      "source": [
        "----\n",
        "\n",
        "#### <font color=blue>【練習】得られた式から予測を行う</font> \n",
        "\n",
        "昨日の東京の最高気温の値を調べ、昨日14時の消費電力の値を予測せよ。（33.6℃: 2022/7/27）\n",
        "\n",
        "なお、もし夏以外にこの演習を行う場合は7月のモデルでは予測できないため、直近の7月1日の気温と消費電力を用いて行うこと。\n",
        "\n",
        "\n",
        "1. 予測の式 $y=63.1x+1954$ を用いて、電卓やExcelなどによって計算する。\n",
        "\n",
        "2. scikit-learnの`predict()`を用いて計算する。（二つの値はおおよそ同じになっているはずである）\n",
        "\n",
        "3. 実際の昨日14時の消費電力の値を[東京電力のwebサイト](https://www.tepco.co.jp/forecast/)から調べ、予測値と比較せよ。もし予測が大きく（目安で20%以上）外れた場合、なぜ予測が外れたか考察せよ。\n",
        "\n",
        "\n",
        "----"
      ]
    },
    {
      "cell_type": "code",
      "execution_count": 7,
      "metadata": {
        "colab": {
          "base_uri": "https://localhost:8080/"
        },
        "id": "L0ubWSsySw56",
        "outputId": "8924fb8f-a5c3-4973-9463-f757396a557e"
      },
      "outputs": [
        {
          "name": "stdout",
          "output_type": "stream",
          "text": [
            "4074.1600000000003\n"
          ]
        }
      ],
      "source": [
        "x_yesterday = 33.6\n",
        "y_yesterday = 63.1 * x_yesterday + 1954\n",
        "print(y_yesterday)"
      ]
    },
    {
      "cell_type": "code",
      "execution_count": 8,
      "metadata": {
        "colab": {
          "base_uri": "https://localhost:8080/"
        },
        "id": "UnHUXeuCQ2Px",
        "outputId": "16f87c53-3652-4698-8d63-48354cf2449c"
      },
      "outputs": [
        {
          "ename": "NameError",
          "evalue": "name 'model' is not defined",
          "output_type": "error",
          "traceback": [
            "\u001b[0;31m---------------------------------------------------------------------------\u001b[0m",
            "\u001b[0;31mNameError\u001b[0m                                 Traceback (most recent call last)",
            "\u001b[1;32mセル83 を /Users/watanabeginga/Desktop/dsai_materials-main/practice/linear_regression/Regression_entry.ipynb\u001b[0m in \u001b[0;36m<cell line: 2>\u001b[0;34m()\u001b[0m\n\u001b[1;32m      <a href='vscode-notebook-cell:/Users/watanabeginga/Desktop/dsai_materials-main/practice/linear_regression/Regression_entry.ipynb#Y145sZmlsZQ%3D%3D?line=0'>1</a>\u001b[0m x_yesterday \u001b[39m=\u001b[39m \u001b[39m33.6\u001b[39m\n\u001b[0;32m----> <a href='vscode-notebook-cell:/Users/watanabeginga/Desktop/dsai_materials-main/practice/linear_regression/Regression_entry.ipynb#Y145sZmlsZQ%3D%3D?line=1'>2</a>\u001b[0m y_yesterday \u001b[39m=\u001b[39m model\u001b[39m.\u001b[39mpredict([[x_yesterday]])\n\u001b[1;32m      <a href='vscode-notebook-cell:/Users/watanabeginga/Desktop/dsai_materials-main/practice/linear_regression/Regression_entry.ipynb#Y145sZmlsZQ%3D%3D?line=2'>3</a>\u001b[0m \u001b[39mprint\u001b[39m(y_yesterday)\n",
            "\u001b[0;31mNameError\u001b[0m: name 'model' is not defined"
          ]
        }
      ],
      "source": [
        "x_yesterday = 33.6\n",
        "y_yesterday = model.predict([[x_yesterday]])\n",
        "print(y_yesterday)"
      ]
    },
    {
      "cell_type": "markdown",
      "metadata": {
        "id": "zSQNwiDqTREy"
      },
      "source": [
        "実測値: 5217"
      ]
    },
    {
      "cell_type": "markdown",
      "metadata": {
        "id": "Gi4qgtLJ-Daq"
      },
      "source": [
        "###予測の良さの評価\n"
      ]
    },
    {
      "cell_type": "markdown",
      "metadata": {
        "id": "amv5PXHtznFQ"
      },
      "source": [
        "上の散布図を見ることで予測の良さを定性的に評価することができた。方法を二つ紹介する。\n",
        "一つ目は**予測結果がどの程度正解のデータを説明できるか**の指標である**決定係数\n",
        "$R^2$**がある。決定係数は予測精度が高いほど大きい値となり、完璧な場合$1$となる。\n",
        "\n",
        "決定係数は、`sklearn.metrics.r2_score`で計算できる。"
      ]
    },
    {
      "cell_type": "markdown",
      "metadata": {
        "id": "1lSiUc3NPMPx"
      },
      "source": [
        "$R^2$は相関係数の二乗と関連のある値なので（注3）、\n",
        "\n",
        "* 0.7以上：非常によい予測精度（相関係数で0.85相当）\n",
        "* 0.5以上：よい予測精度（相関係数で0.7相当）\n",
        "* 0.25以上：中程度の予測精度（相関係数で0.5相当）\n",
        "* 0.1以上：弱い予測精度（相関係数で0.3相当）\n",
        "\n",
        "という目安が知られている。\n"
      ]
    },
    {
      "cell_type": "markdown",
      "metadata": {
        "id": "pXU2pP39_8E0"
      },
      "source": [
        "二つ目の方法は、予測結果が正しい値からどれだけ外れているかを表す**予測誤差**である。\n",
        "誤差の定義は複数あるが、今回はその中でも簡単な**平均絶対誤差(Mean Absolute Error: MAE)** を紹介する。\n",
        "\n",
        "MAEは正しい値から外れている量の絶対値（絶対誤差）の、すべてのデータに対する平均である。例えば3つのデータがあり、それぞれ真の値が$1, 2, 3$で、予測結果が$0, 5, 1$のとき、絶対誤差はそれぞれ$1, 3, 2$で、その平均であるMAEは$2$となる。\n",
        "\n",
        "MAEは予測の誤っている量であるから小さいほどよく、完璧な予測の場合MAEは$0$となる。\n",
        "\n",
        "scikit-learnでは`sklearn.metrics.mean_absolute_error`で計算できる。"
      ]
    },
    {
      "cell_type": "markdown",
      "metadata": {
        "id": "g342Y7xnD_l0"
      },
      "source": [
        "\n",
        "今回の予測の$R^2$を計算する前に、仮想的なデータを用いて散布図の見た目と決定係数の関係を視覚的に理解しよう。\n",
        "\n",
        "なお、ここで描く散布図は、上の結果の散布図と異なり、$x$と$y$の値ではなく、**真の$y$の値と予測した$y$の値**であることに注意せよ。"
      ]
    },
    {
      "cell_type": "code",
      "execution_count": null,
      "metadata": {
        "id": "-SxlAsHzh6Yx"
      },
      "outputs": [],
      "source": [
        "from sklearn.metrics import r2_score\n",
        "from sklearn.metrics import mean_absolute_error\n",
        "import numpy as np"
      ]
    },
    {
      "cell_type": "code",
      "execution_count": null,
      "metadata": {
        "id": "a1JmAVz7nOAx"
      },
      "outputs": [],
      "source": [
        "# 以下、適宜コメントアウトをしながら描画を繰り返す\n",
        "# y_true: 正解の値, y_pred: 予測結果\n",
        "\n",
        "y_true_sample = [1, 2, 3.5, 5, 7, 9]\n",
        "\n",
        "# case 1. R^2 ~ 1.0\n",
        "y_pred_sample = [1.2, 1.9, 3.3, 5.2, 7.1, 8.7]\n",
        "\n",
        "# case 2. R^2 ~ 0.7\n",
        "#y_pred_sample = [0, 3, 2, 6, 5, 7]\n",
        "\n",
        "# case 3. R^2 ~ 0.5\n",
        "#y_pred_sample = [2, 0.5, 6.2, 7.5, 8.5, 7]\n",
        "\n",
        "# case 5. R^2 ~ 0.25\n",
        "#y_pred_sample = [0.2, -1.5, 6, 8, 8, 6.7]\n",
        "\n",
        "# case 5. R^2 < 0 （まったく予測できていない）\n",
        "#y_pred_sample = [2, 4, 2, 1, 4, 3]"
      ]
    },
    {
      "cell_type": "code",
      "execution_count": null,
      "metadata": {
        "colab": {
          "base_uri": "https://localhost:8080/",
          "height": 398
        },
        "id": "uuK3KfvKnQM0",
        "outputId": "1117f210-e93d-4950-844c-10c3136ed7d2"
      },
      "outputs": [
        {
          "data": {
            "image/png": "[encoded data removed]",
            "text/plain": [
              "<Figure size 432x432 with 1 Axes>"
            ]
          },
          "metadata": {
            "needs_background": "light"
          },
          "output_type": "display_data"
        }
      ],
      "source": [
        "y_pred_sample = [1.2, 1.9, 3.3, 5.2, 7.1, 8.7]\n",
        "\n",
        "# r2_score(正解, 予測) でR^2を計算する\n",
        "MAE = mean_absolute_error(y_true_sample, y_pred_sample)\n",
        "\n",
        "\n",
        "# 表示の設定（図の大きさとフォントサイズ）\n",
        "plt.figure(figsize=(6,6))\n",
        "plt.rcParams[\"font.size\"] = 16\n",
        "\n",
        "# 描画（散布図）\n",
        "plt.plot([1, 9], [1, 9], \"--\", color=\"black\")\n",
        "plt.scatter(y_true_sample, y_pred_sample, \n",
        "            label=f\"MAE = {MAE:.3f}\", s=100)\n",
        "plt.xlabel(\"True value\")\n",
        "plt.ylabel(\"Predicted\")\n",
        "plt.legend()\n",
        "\n",
        "# 最終的な描画\n",
        "plt.show()"
      ]
    },
    {
      "cell_type": "code",
      "execution_count": null,
      "metadata": {
        "colab": {
          "base_uri": "https://localhost:8080/",
          "height": 398
        },
        "id": "5Uo60myDV2kN",
        "outputId": "589ecd2f-36d5-43ed-9b23-ae956c27c3ee"
      },
      "outputs": [
        {
          "data": {
            "image/png": "[encoded data removed]",
            "text/plain": [
              "<Figure size 432x432 with 1 Axes>"
            ]
          },
          "metadata": {
            "needs_background": "light"
          },
          "output_type": "display_data"
        }
      ],
      "source": [
        "y_pred_sample = [2, 0.5, 6.2, 7.5, 8.5, 7]\n",
        "\n",
        "# r2_score(正解, 予測) でR^2を計算する\n",
        "MAE = mean_absolute_error(y_true_sample, y_pred_sample)\n",
        "\n",
        "\n",
        "# 表示の設定（図の大きさとフォントサイズ）\n",
        "plt.figure(figsize=(6,6))\n",
        "plt.rcParams[\"font.size\"] = 16\n",
        "\n",
        "# 描画（散布図）\n",
        "plt.plot([1, 9], [1, 9], \"--\", color=\"black\")\n",
        "plt.scatter(y_true_sample, y_pred_sample, \n",
        "            label=f\"MAE = {MAE:.3f}\", s=100)\n",
        "plt.xlabel(\"True value\")\n",
        "plt.ylabel(\"Predicted\")\n",
        "plt.legend()\n",
        "\n",
        "# 最終的な描画\n",
        "plt.show()"
      ]
    },
    {
      "cell_type": "code",
      "execution_count": null,
      "metadata": {
        "colab": {
          "base_uri": "https://localhost:8080/",
          "height": 398
        },
        "id": "i-7ptv-lV__V",
        "outputId": "2514c197-8f1e-4f20-ba7c-70d3a0bd3f99"
      },
      "outputs": [
        {
          "data": {
            "image/png": "[encoded data removed]",
            "text/plain": [
              "<Figure size 432x432 with 1 Axes>"
            ]
          },
          "metadata": {
            "needs_background": "light"
          },
          "output_type": "display_data"
        }
      ],
      "source": [
        "y_pred_sample = [2, 4, 2, 1, 4, 3]\n",
        "\n",
        "# r2_score(正解, 予測) でR^2を計算する\n",
        "MAE = mean_absolute_error(y_true_sample, y_pred_sample)\n",
        "\n",
        "\n",
        "# 表示の設定（図の大きさとフォントサイズ）\n",
        "plt.figure(figsize=(6,6))\n",
        "plt.rcParams[\"font.size\"] = 16\n",
        "\n",
        "# 描画（散布図）\n",
        "plt.plot([1, 9], [1, 9], \"--\", color=\"black\")\n",
        "plt.scatter(y_true_sample, y_pred_sample, \n",
        "            label=f\"MAE = {MAE:.3f}\", s=100)\n",
        "plt.xlabel(\"True value\")\n",
        "plt.ylabel(\"Predicted\")\n",
        "plt.legend()\n",
        "\n",
        "# 最終的な描画\n",
        "plt.show()"
      ]
    },
    {
      "cell_type": "markdown",
      "metadata": {
        "id": "_qGpdcLNF8p2"
      },
      "source": [
        "---\n",
        "\n",
        "#### <font color=blue>【練習】 MAEの計算と描画</font> \n",
        "\n",
        "上のコードを参考に、同じデータについてMAEを計算・グラフに記入せよ。\n",
        "MAEは`r2_score`と同様に`mean_absolute_error(正解, 予測)`で計算できる。\n",
        "\n",
        "また、予測精度が悪くなり、$R^2$が減少するにしたがってMAEが増加することを確認せよ。\n",
        "\n",
        "---"
      ]
    },
    {
      "cell_type": "markdown",
      "metadata": {
        "id": "AW3Lhze7Exsb"
      },
      "source": [
        "最後に、今回の消費電力の予測結果について$R^2$とMAEを計算してみよう。"
      ]
    },
    {
      "cell_type": "code",
      "execution_count": null,
      "metadata": {
        "colab": {
          "base_uri": "https://localhost:8080/"
        },
        "id": "17HJ4Y2unIVi",
        "outputId": "f9d021c6-749d-4549-9ebe-30c3f637d023"
      },
      "outputs": [
        {
          "data": {
            "text/plain": [
              "0.19902263869472225"
            ]
          },
          "execution_count": 49,
          "metadata": {},
          "output_type": "execute_result"
        }
      ],
      "source": [
        "r2_score(data[\"demand\"], y_pred)"
      ]
    },
    {
      "cell_type": "code",
      "execution_count": null,
      "metadata": {
        "colab": {
          "base_uri": "https://localhost:8080/"
        },
        "id": "0zS2TbaXE62z",
        "outputId": "f617b7c4-edbe-48b3-8628-6a1049b89ec5"
      },
      "outputs": [
        {
          "data": {
            "text/plain": [
              "321.429176297158"
            ]
          },
          "execution_count": 50,
          "metadata": {},
          "output_type": "execute_result"
        }
      ],
      "source": [
        "mean_absolute_error(data[\"demand\"], y_pred)"
      ]
    },
    {
      "cell_type": "markdown",
      "metadata": {
        "id": "YsgkGr8mqxsu"
      },
      "source": [
        "今回計算した結果の$R^2$は0.2程度なので、あまり予測精度は良くないと言えるだろう。\n",
        "また、MAEは321程度だった。3000～4000程度の値を予測して平均300ほど誤っているので、平均して1割ほど間違っていると言える。"
      ]
    },
    {
      "cell_type": "markdown",
      "metadata": {
        "id": "bm7tpt1tad0u"
      },
      "source": [
        "----\n",
        "\n",
        "## 発展：データを見て工夫する\n"
      ]
    },
    {
      "cell_type": "markdown",
      "metadata": {
        "id": "IpqN2azsIGG7"
      },
      "source": [
        "今回のデータ（下図）を見て、何か気付くことはないだろうか？"
      ]
    },
    {
      "cell_type": "markdown",
      "metadata": {
        "id": "tNaeuWCVHgdk"
      },
      "source": [
        "\n",
        "![](https://i.imgur.com/zAwLu1B.png)\n"
      ]
    },
    {
      "cell_type": "markdown",
      "metadata": {
        "id": "y0jf5Y6MIZZ9"
      },
      "source": [
        "今回のデータはよく見ると消費電力の多いグループと少ないグループの2グループあるように見える。\n",
        "\n",
        "消費電力の多いグループと少ないグループが何によって分けられているかを考えてみよう。"
      ]
    },
    {
      "cell_type": "markdown",
      "metadata": {
        "id": "w06o1X7HHfLo"
      },
      "source": [
        "---\n",
        "#### <font color=blue>【発展練習】 消費電力の周期性</font> \n",
        "\n",
        "1. 今回利用したデータ**`data`**のうち、日付(**`data[\"date\"]`**)を横軸、消費電力(**`data[\"demand\"]`**)を縦軸にした棒グラフをプロットせよ。棒グラフは`plt.bar()`で描くことができる。\n",
        "\n",
        "2. 1.の結果から、消費電力には日付に対して（ある程度の）周期性があることがわかる。この周期性が何に起因しているか考察せよ。\n",
        "\n",
        "<details>\n",
        "  <summary>ヒント （クリックで開く）</summary>\n",
        "  2020/7/23, 2020/7/24はこの周期性の外れ値である。\n",
        "  \n",
        "</details>\n",
        "\n",
        "---"
      ]
    },
    {
      "cell_type": "code",
      "execution_count": null,
      "metadata": {
        "colab": {
          "base_uri": "https://localhost:8080/",
          "height": 379
        },
        "id": "lQqHnA81XaRt",
        "outputId": "86bd23f8-8459-4418-ba21-8c77b0bc62c7"
      },
      "outputs": [
        {
          "data": {
            "image/png": "[encoded data removed]",
            "text/plain": [
              "<Figure size 432x432 with 1 Axes>"
            ]
          },
          "metadata": {
            "needs_background": "light"
          },
          "output_type": "display_data"
        }
      ],
      "source": [
        "plt.figure(figsize=(6,6))\n",
        "\n",
        "plt.bar(data[\"date\"], data[\"demand\"])\n",
        "plt.show()"
      ]
    },
    {
      "cell_type": "markdown",
      "metadata": {
        "id": "GU216cZaJG8E"
      },
      "source": [
        "さて、この周期性を考慮して、電力の多いグループだけについて予測を行ってみよう。\n",
        "\n",
        "なお、第1, 2回でも触れられているように、データを分析から除外する場合は、**外れ値である理由が説明できるもののみ除外する**のが原則である。今回は上の練習の解答の通り、理由が明確であるため電力の多いグループに絞って解析を進めてみる。\n",
        "\n",
        "<details>\n",
        "  <summary>理由 （クリックで開く）</summary>\n",
        "  \n",
        "電力が少ないグループは休日（土日祝）である。休日は一部オフィス等が動いていないため電力消費が少ない。\n",
        "\n",
        "7/23, 7/24は海の日・スポーツの日で、東京五輪開会式前日・当日に変更になったためこの日になっていた（五輪自体は延期になってしまったが）。\n",
        "  \n",
        "</details>"
      ]
    },
    {
      "cell_type": "code",
      "execution_count": null,
      "metadata": {
        "id": "go-LsCYKJZ9Y"
      },
      "outputs": [],
      "source": [
        "# 電力の少ないグループの日付（外れ値を含む）\n",
        "less_group_days = [\n",
        "    \"2020/7/4\",\n",
        "    \"2020/7/5\",\n",
        "    \"2020/7/11\",\n",
        "    \"2020/7/12\",\n",
        "    \"2020/7/18\",\n",
        "    \"2020/7/19\",\n",
        "    \"2020/7/23\",\n",
        "    \"2020/7/24\",\n",
        "    \"2020/7/25\",\n",
        "    \"2020/7/26\",\n",
        "]"
      ]
    },
    {
      "cell_type": "code",
      "execution_count": null,
      "metadata": {
        "colab": {
          "base_uri": "https://localhost:8080/",
          "height": 206
        },
        "id": "eULAnNe4JyMx",
        "outputId": "2880506d-aeeb-4724-9642-47831747c900"
      },
      "outputs": [
        {
          "data": {
            "text/html": [
              "\n",
              "  <div id=\"df-afb9ee22-1906-4f13-a6a4-ab0374e5a9c9\">\n",
              "    <div class=\"colab-df-container\">\n",
              "      <div>\n",
              "<style scoped>\n",
              "    .dataframe tbody tr th:only-of-type {\n",
              "        vertical-align: middle;\n",
              "    }\n",
              "\n",
              "    .dataframe tbody tr th {\n",
              "        vertical-align: top;\n",
              "    }\n",
              "\n",
              "    .dataframe thead th {\n",
              "        text-align: right;\n",
              "    }\n",
              "</style>\n",
              "<table border=\"1\" class=\"dataframe\">\n",
              "  <thead>\n",
              "    <tr style=\"text-align: right;\">\n",
              "      <th></th>\n",
              "      <th>date</th>\n",
              "      <th>highest_temp</th>\n",
              "      <th>demand</th>\n",
              "    </tr>\n",
              "  </thead>\n",
              "  <tbody>\n",
              "    <tr>\n",
              "      <th>0</th>\n",
              "      <td>2020/7/1</td>\n",
              "      <td>26.7</td>\n",
              "      <td>3909</td>\n",
              "    </tr>\n",
              "    <tr>\n",
              "      <th>1</th>\n",
              "      <td>2020/7/2</td>\n",
              "      <td>30.8</td>\n",
              "      <td>4194</td>\n",
              "    </tr>\n",
              "    <tr>\n",
              "      <th>2</th>\n",
              "      <td>2020/7/3</td>\n",
              "      <td>28.7</td>\n",
              "      <td>3777</td>\n",
              "    </tr>\n",
              "    <tr>\n",
              "      <th>5</th>\n",
              "      <td>2020/7/6</td>\n",
              "      <td>26.9</td>\n",
              "      <td>3899</td>\n",
              "    </tr>\n",
              "    <tr>\n",
              "      <th>6</th>\n",
              "      <td>2020/7/7</td>\n",
              "      <td>29.3</td>\n",
              "      <td>4223</td>\n",
              "    </tr>\n",
              "  </tbody>\n",
              "</table>\n",
              "</div>\n",
              "      <button class=\"colab-df-convert\" onclick=\"convertToInteractive('df-afb9ee22-1906-4f13-a6a4-ab0374e5a9c9')\"\n",
              "              title=\"Convert this dataframe to an interactive table.\"\n",
              "              style=\"display:none;\">\n",
              "        \n",
              "  <svg xmlns=\"http://www.w3.org/2000/svg\" height=\"24px\"viewBox=\"0 0 24 24\"\n",
              "       width=\"24px\">\n",
              "    <path d=\"M0 0h24v24H0V0z\" fill=\"none\"/>\n",
              "    <path d=\"M18.56 5.44l.94 2.06.94-2.06 2.06-.94-2.06-.94-.94-2.06-.94 2.06-2.06.94zm-11 1L8.5 8.5l.94-2.06 2.06-.94-2.06-.94L8.5 2.5l-.94 2.06-2.06.94zm10 10l.94 2.06.94-2.06 2.06-.94-2.06-.94-.94-2.06-.94 2.06-2.06.94z\"/><path d=\"M17.41 7.96l-1.37-1.37c-.4-.4-.92-.59-1.43-.59-.52 0-1.04.2-1.43.59L10.3 9.45l-7.72 7.72c-.78.78-.78 2.05 0 2.83L4 21.41c.39.39.9.59 1.41.59.51 0 1.02-.2 1.41-.59l7.78-7.78 2.81-2.81c.8-.78.8-2.07 0-2.86zM5.41 20L4 18.59l7.72-7.72 1.47 1.35L5.41 20z\"/>\n",
              "  </svg>\n",
              "      </button>\n",
              "      \n",
              "  <style>\n",
              "    .colab-df-container {\n",
              "      display:flex;\n",
              "      flex-wrap:wrap;\n",
              "      gap: 12px;\n",
              "    }\n",
              "\n",
              "    .colab-df-convert {\n",
              "      background-color: #E8F0FE;\n",
              "      border: none;\n",
              "      border-radius: 50%;\n",
              "      cursor: pointer;\n",
              "      display: none;\n",
              "      fill: #1967D2;\n",
              "      height: 32px;\n",
              "      padding: 0 0 0 0;\n",
              "      width: 32px;\n",
              "    }\n",
              "\n",
              "    .colab-df-convert:hover {\n",
              "      background-color: #E2EBFA;\n",
              "      box-shadow: 0px 1px 2px rgba(60, 64, 67, 0.3), 0px 1px 3px 1px rgba(60, 64, 67, 0.15);\n",
              "      fill: #174EA6;\n",
              "    }\n",
              "\n",
              "    [theme=dark] .colab-df-convert {\n",
              "      background-color: #3B4455;\n",
              "      fill: #D2E3FC;\n",
              "    }\n",
              "\n",
              "    [theme=dark] .colab-df-convert:hover {\n",
              "      background-color: #434B5C;\n",
              "      box-shadow: 0px 1px 3px 1px rgba(0, 0, 0, 0.15);\n",
              "      filter: drop-shadow(0px 1px 2px rgba(0, 0, 0, 0.3));\n",
              "      fill: #FFFFFF;\n",
              "    }\n",
              "  </style>\n",
              "\n",
              "      <script>\n",
              "        const buttonEl =\n",
              "          document.querySelector('#df-afb9ee22-1906-4f13-a6a4-ab0374e5a9c9 button.colab-df-convert');\n",
              "        buttonEl.style.display =\n",
              "          google.colab.kernel.accessAllowed ? 'block' : 'none';\n",
              "\n",
              "        async function convertToInteractive(key) {\n",
              "          const element = document.querySelector('#df-afb9ee22-1906-4f13-a6a4-ab0374e5a9c9');\n",
              "          const dataTable =\n",
              "            await google.colab.kernel.invokeFunction('convertToInteractive',\n",
              "                                                     [key], {});\n",
              "          if (!dataTable) return;\n",
              "\n",
              "          const docLinkHtml = 'Like what you see? Visit the ' +\n",
              "            '<a target=\"_blank\" href=https://colab.research.google.com/notebooks/data_table.ipynb>data table notebook</a>'\n",
              "            + ' to learn more about interactive tables.';\n",
              "          element.innerHTML = '';\n",
              "          dataTable['output_type'] = 'display_data';\n",
              "          await google.colab.output.renderOutput(dataTable, element);\n",
              "          const docLink = document.createElement('div');\n",
              "          docLink.innerHTML = docLinkHtml;\n",
              "          element.appendChild(docLink);\n",
              "        }\n",
              "      </script>\n",
              "    </div>\n",
              "  </div>\n",
              "  "
            ],
            "text/plain": [
              "       date  highest_temp  demand\n",
              "0  2020/7/1          26.7    3909\n",
              "1  2020/7/2          30.8    4194\n",
              "2  2020/7/3          28.7    3777\n",
              "5  2020/7/6          26.9    3899\n",
              "6  2020/7/7          29.3    4223"
            ]
          },
          "execution_count": 53,
          "metadata": {},
          "output_type": "execute_result"
        }
      ],
      "source": [
        "# 条件に一致しないデータだけを取得\n",
        "# data[~条件]でマッチしない要素だけを取得できる\n",
        "\n",
        "data_high_demand = data[~data[\"date\"].isin(less_group_days)]\n",
        "data_high_demand.head()"
      ]
    },
    {
      "cell_type": "code",
      "execution_count": null,
      "metadata": {
        "id": "46xYKU-DKsyz"
      },
      "outputs": [],
      "source": [
        "from sklearn.linear_model import LinearRegression\n",
        "model = LinearRegression()"
      ]
    },
    {
      "cell_type": "code",
      "execution_count": null,
      "metadata": {
        "colab": {
          "base_uri": "https://localhost:8080/"
        },
        "id": "joIdkrA7K95E",
        "outputId": "2d186d72-fbcd-4950-f8f5-ac4e56c59ac9"
      },
      "outputs": [
        {
          "data": {
            "text/plain": [
              "LinearRegression()"
            ]
          },
          "execution_count": 55,
          "metadata": {},
          "output_type": "execute_result"
        }
      ],
      "source": [
        "# モデルの学習（一次方程式の傾きと切片を決める）\n",
        "x = data_high_demand[\"highest_temp\"].to_numpy().reshape(-1, 1)\n",
        "y = data_high_demand[\"demand\"]\n",
        "model.fit(x, y)"
      ]
    },
    {
      "cell_type": "code",
      "execution_count": null,
      "metadata": {
        "colab": {
          "base_uri": "https://localhost:8080/"
        },
        "id": "iDpHJp-7K1bX",
        "outputId": "b593e68f-4036-4179-c824-9b71cc7ffa18"
      },
      "outputs": [
        {
          "data": {
            "text/plain": [
              "array([3857.64989318, 4233.72092699, 4041.09917797, 3875.99482166,\n",
              "       4096.1339634 , 4022.75424949, 3802.61510775, 3986.06439253,\n",
              "       3720.06292959, 3582.475966  , 3426.54407394, 3665.02814416,\n",
              "       3298.12957459, 4334.61803362, 4068.61657069, 4151.16874884,\n",
              "       4224.54846275, 4252.06585547, 3756.75278655, 3839.3049647 ,\n",
              "       4123.65135612])"
            ]
          },
          "execution_count": 56,
          "metadata": {},
          "output_type": "execute_result"
        }
      ],
      "source": [
        "# predict()関数で予測値を計算。\n",
        "highest_temp = data_high_demand[\"highest_temp\"].to_numpy().reshape(-1, 1) # 予測できる形式に変形\n",
        "y_pred = model.predict(highest_temp) # 予測\n",
        "y_pred"
      ]
    },
    {
      "cell_type": "markdown",
      "metadata": {
        "id": "Szup0UKSLnbv"
      },
      "source": [
        "続いて、上と同様に$R^2$とMAEを計算してみる。"
      ]
    },
    {
      "cell_type": "code",
      "execution_count": null,
      "metadata": {
        "colab": {
          "base_uri": "https://localhost:8080/"
        },
        "id": "pt-nDWiaLeyE",
        "outputId": "76548e61-a2e2-43f8-b136-c0a56c5edc0b"
      },
      "outputs": [
        {
          "data": {
            "text/plain": [
              "0.8163289540035338"
            ]
          },
          "execution_count": 57,
          "metadata": {},
          "output_type": "execute_result"
        }
      ],
      "source": [
        "r2_score(data_high_demand[\"demand\"], y_pred)"
      ]
    },
    {
      "cell_type": "code",
      "execution_count": null,
      "metadata": {
        "colab": {
          "base_uri": "https://localhost:8080/"
        },
        "id": "veKqyWf3LeyF",
        "outputId": "e83edcea-9578-4114-c28c-a0907d9bef49"
      },
      "outputs": [
        {
          "data": {
            "text/plain": [
              "107.61784674858245"
            ]
          },
          "execution_count": 58,
          "metadata": {},
          "output_type": "execute_result"
        }
      ],
      "source": [
        "mean_absolute_error(data_high_demand[\"demand\"], y_pred)"
      ]
    },
    {
      "cell_type": "markdown",
      "metadata": {
        "id": "GS_kq54qL8PO"
      },
      "source": [
        "精度が大きく改善していることがわかるだろう。\n",
        "\n",
        "散布図でも確認してみよう。"
      ]
    },
    {
      "cell_type": "code",
      "execution_count": null,
      "metadata": {
        "colab": {
          "base_uri": "https://localhost:8080/",
          "height": 398
        },
        "id": "qecE0XEnYZFQ",
        "outputId": "1af4e49a-405b-40e9-badb-38c0bf63c21e"
      },
      "outputs": [
        {
          "data": {
            "image/png": "[encoded data removed]",
            "text/plain": [
              "<Figure size 576x432 with 1 Axes>"
            ]
          },
          "metadata": {
            "needs_background": "light"
          },
          "output_type": "display_data"
        }
      ],
      "source": [
        "# 表示の設定（図の大きさとフォントサイズ）\n",
        "plt.figure(figsize=(8,6))\n",
        "plt.rcParams[\"font.size\"] = 16\n",
        "\n",
        "# グラフの作成（散布図）\n",
        "plt.scatter(data_high_demand[\"highest_temp\"], data_high_demand[\"demand\"], \n",
        "            label=f\"training data\", s=100)\n",
        "\n",
        "# ---ここを追加---\n",
        "# 回帰結果の直線を描画\n",
        "a = model.coef_[0]\n",
        "b = model.intercept_\n",
        "xg = np.arange(20, 33) # xのリストを用意\n",
        "yg = a * xg + b # y = a * x + b でyを計算\n",
        "plt.plot(xg, yg, color=\"red\", label=f\"predicted\") # 直線をプロット\n",
        "# ---ここまで---\n",
        "\n",
        "# 軸ラベルの設定\n",
        "plt.xlabel(\"Highest Temperature at Tokyo (C)\")\n",
        "plt.ylabel(\"Power demand at 2PM (x10000kW)\")\n",
        "plt.legend()\n",
        "\n",
        "# 最終的な描画\n",
        "plt.show()"
      ]
    },
    {
      "cell_type": "code",
      "execution_count": null,
      "metadata": {
        "colab": {
          "base_uri": "https://localhost:8080/",
          "height": 398
        },
        "id": "G-Sao_X7MCCC",
        "outputId": "0467271c-613b-449e-f9ea-07825718d6d0"
      },
      "outputs": [
        {
          "data": {
            "image/png": "[encoded data removed]",
            "text/plain": [
              "<Figure size 432x432 with 1 Axes>"
            ]
          },
          "metadata": {
            "needs_background": "light"
          },
          "output_type": "display_data"
        }
      ],
      "source": [
        "# r2_score(正解, 予測) でR^2を計算する\n",
        "r2 = r2_score(data_high_demand[\"demand\"], y_pred)\n",
        "mae = mean_absolute_error(data_high_demand[\"demand\"], y_pred)\n",
        "\n",
        "# 表示の設定（図の大きさとフォントサイズ）\n",
        "plt.figure(figsize=(6,6))\n",
        "plt.rcParams[\"font.size\"] = 16\n",
        "\n",
        "# 描画（散布図）\n",
        "plt.plot([3400, 4400], [3400, 4400], \"--\", color=\"black\")\n",
        "plt.scatter(data_high_demand[\"demand\"], y_pred, \n",
        "            label=f\"R^2 = {r2:.3f}\\nMAE = {mae:.0f}\", s=100)\n",
        "plt.xlabel(\"True value\")\n",
        "plt.ylabel(\"Predicted\")\n",
        "plt.legend()\n",
        "\n",
        "# 最終的な描画\n",
        "plt.show()"
      ]
    },
    {
      "cell_type": "markdown",
      "metadata": {
        "id": "89uMa7dRNiAQ"
      },
      "source": [
        "このように、手法が単純であっても、データの性質を知り、それに合った工夫をすることで分析の精度を大きく改善することができることは知っておくべきだろう。"
      ]
    },
    {
      "cell_type": "markdown",
      "metadata": {
        "id": "TCxxI4d5PcCU"
      },
      "source": [
        "---\n",
        "#### <font color=blue>【練習】 低消費電力グループでの分析</font> \n",
        "\n",
        "上と同じ内容を消費電力の少ない方のグループに対しても行い、同様にデータを分ける前よりも予測精度が高くなることを確認せよ。\n",
        "\n",
        "---"
      ]
    },
    {
      "cell_type": "markdown",
      "metadata": {
        "id": "Giuy4LgKV5VG"
      },
      "source": [
        "# 第4回 - 重回帰分析\n"
      ]
    },
    {
      "cell_type": "markdown",
      "metadata": {
        "id": "PbOsDDnzP39Y"
      },
      "source": [
        "第3回では**単回帰分析**を行い、一つの変数と一つの変数の関係を定量的に表す方法について学んだ。\n",
        "\n",
        "第4回では**重回帰分析**を行う。この分析では一つの変数と複数の変数の関係を定量的に表すことができる。"
      ]
    },
    {
      "cell_type": "markdown",
      "metadata": {
        "id": "Y0TwksFwQdhf"
      },
      "source": [
        "## (1) データ分析目的の設定\n",
        "\n",
        "これまでと同様に、(1) データ分析目的の設定、(2) データ収集・整理、(3) 分析・解析 の手順で演習を構築する。\n",
        "\n",
        "第4回は引き続き、\n",
        "**気象情報を基に将来の電力需要を予測する**ことを目的とし、東京における夏の日の気象情報と消費電力の関係を分析することにする。前回は気温のみから予測を行ったが、同じ気温25度であっても、晴れている日と雨の日では消費電力は異なってくるだろう（雨の日は蒸し暑いし暗い）。そこで、降水量の情報を加えてさらに分析を行うことにする。"
      ]
    },
    {
      "cell_type": "markdown",
      "metadata": {
        "id": "seOiROF5clbe"
      },
      "source": [
        "## (2) データ収集・整理"
      ]
    },
    {
      "cell_type": "markdown",
      "metadata": {
        "id": "mELw2IhKcpI_"
      },
      "source": [
        "第3回の演習で用いたデータを引き続き利用する。手元にデータが残っていない場合には、第3回の資料を参照しながら再度データを準備せよ。\n",
        "\n",
        "さらに、降水量のデータを追加で[気象庁のデータベース](https://www.data.jma.go.jp/gmd/risk/obsdl/index.php)からダウンロードする。14時の降水量のデータはないようなので、その日の降水量で代用しよう。\n",
        "\n",
        "ブラウザからこのページにアクセスし、「地点を選ぶ」から東京都→東京、\n",
        "「項目を選ぶ」から「データの種類」を「日別値」に、「項目」を「**降水量の日合計**」のみ選択、「期間を選ぶ」から「連続した期間で表示する」、期間を「2020年7月1日から2020年7月31日まで」とする。設定が終わったら右の「CSVファイルをダウンロード」からファイルをダウンロードする。"
      ]
    },
    {
      "cell_type": "markdown",
      "metadata": {
        "id": "6iEemb3nXf7v"
      },
      "source": [
        "![](https://i.imgur.com/r4gBzDi.png)"
      ]
    },
    {
      "cell_type": "markdown",
      "metadata": {
        "id": "lgo6Pl1KXvAl"
      },
      "source": [
        "続いて、不要な行と列を削除する。今回はヘッダー部分を削除する。\n",
        "\n",
        "その後、「年月日」と「降水量の合計(mm)」の列のみ残し、それぞれ\"date\", \"precipitation\"と名前をつけておく。\n",
        "\n",
        "完成したら、`precipitation202007.csv`として保存し、Google colabにアップロードする。"
      ]
    },
    {
      "cell_type": "markdown",
      "metadata": {
        "id": "lpkq2uKfYTAJ"
      },
      "source": [
        "![](https://i.imgur.com/YWmBOxW.png)"
      ]
    },
    {
      "cell_type": "markdown",
      "metadata": {
        "id": "QwdLAAGqYuo9"
      },
      "source": [
        "アップロードできたら、第3回で作成した`temp_demand202007.csv`に`precipitation`の列を追加しよう。"
      ]
    },
    {
      "cell_type": "code",
      "execution_count": null,
      "metadata": {
        "id": "87d7Rl06SWYd"
      },
      "outputs": [],
      "source": [
        "# pandasライブラリを pd という名前で使えるようにする\n",
        "# pd と省略形にするのが通例である\n",
        "import pandas as pd\n",
        "\n",
        "# pd.read_csv(CSVファイル名) とすることでデータを読むことができる\n",
        "data_temp_demand = pd.read_csv(\"temp_demand202007.csv\")\n",
        "data_precipitation = pd.read_csv(\"precipitation202007.csv\")"
      ]
    },
    {
      "cell_type": "code",
      "execution_count": null,
      "metadata": {
        "id": "zZNsJJdUZEo3"
      },
      "outputs": [],
      "source": [
        "# 二つの表を結合する\n",
        "data = pd.concat([data_temp_demand, data_precipitation[\"precipitation\"]], axis=1) # axis=1: 列方向に結合"
      ]
    },
    {
      "cell_type": "markdown",
      "metadata": {
        "id": "OATksKCTXKS9"
      },
      "source": [
        "なお、今回は第3回の発展部分で行ったデータの2グループの分割も先に行っておく。"
      ]
    },
    {
      "cell_type": "code",
      "execution_count": null,
      "metadata": {
        "colab": {
          "base_uri": "https://localhost:8080/",
          "height": 206
        },
        "id": "23vTNNe5StKP",
        "outputId": "601f5fcd-06ea-4a21-bc6a-8cbfd45ee29b"
      },
      "outputs": [
        {
          "data": {
            "text/html": [
              "\n",
              "  <div id=\"df-393bca81-1b22-4948-bd0e-8ffd2ec846be\">\n",
              "    <div class=\"colab-df-container\">\n",
              "      <div>\n",
              "<style scoped>\n",
              "    .dataframe tbody tr th:only-of-type {\n",
              "        vertical-align: middle;\n",
              "    }\n",
              "\n",
              "    .dataframe tbody tr th {\n",
              "        vertical-align: top;\n",
              "    }\n",
              "\n",
              "    .dataframe thead th {\n",
              "        text-align: right;\n",
              "    }\n",
              "</style>\n",
              "<table border=\"1\" class=\"dataframe\">\n",
              "  <thead>\n",
              "    <tr style=\"text-align: right;\">\n",
              "      <th></th>\n",
              "      <th>date</th>\n",
              "      <th>highest_temp</th>\n",
              "      <th>demand</th>\n",
              "      <th>precipitation</th>\n",
              "    </tr>\n",
              "  </thead>\n",
              "  <tbody>\n",
              "    <tr>\n",
              "      <th>0</th>\n",
              "      <td>2020/7/1</td>\n",
              "      <td>26.7</td>\n",
              "      <td>3909</td>\n",
              "      <td>21.0</td>\n",
              "    </tr>\n",
              "    <tr>\n",
              "      <th>1</th>\n",
              "      <td>2020/7/2</td>\n",
              "      <td>30.8</td>\n",
              "      <td>4194</td>\n",
              "      <td>0.5</td>\n",
              "    </tr>\n",
              "    <tr>\n",
              "      <th>2</th>\n",
              "      <td>2020/7/3</td>\n",
              "      <td>28.7</td>\n",
              "      <td>3777</td>\n",
              "      <td>6.0</td>\n",
              "    </tr>\n",
              "    <tr>\n",
              "      <th>5</th>\n",
              "      <td>2020/7/6</td>\n",
              "      <td>26.9</td>\n",
              "      <td>3899</td>\n",
              "      <td>40.5</td>\n",
              "    </tr>\n",
              "    <tr>\n",
              "      <th>6</th>\n",
              "      <td>2020/7/7</td>\n",
              "      <td>29.3</td>\n",
              "      <td>4223</td>\n",
              "      <td>0.5</td>\n",
              "    </tr>\n",
              "  </tbody>\n",
              "</table>\n",
              "</div>\n",
              "      <button class=\"colab-df-convert\" onclick=\"convertToInteractive('df-393bca81-1b22-4948-bd0e-8ffd2ec846be')\"\n",
              "              title=\"Convert this dataframe to an interactive table.\"\n",
              "              style=\"display:none;\">\n",
              "        \n",
              "  <svg xmlns=\"http://www.w3.org/2000/svg\" height=\"24px\"viewBox=\"0 0 24 24\"\n",
              "       width=\"24px\">\n",
              "    <path d=\"M0 0h24v24H0V0z\" fill=\"none\"/>\n",
              "    <path d=\"M18.56 5.44l.94 2.06.94-2.06 2.06-.94-2.06-.94-.94-2.06-.94 2.06-2.06.94zm-11 1L8.5 8.5l.94-2.06 2.06-.94-2.06-.94L8.5 2.5l-.94 2.06-2.06.94zm10 10l.94 2.06.94-2.06 2.06-.94-2.06-.94-.94-2.06-.94 2.06-2.06.94z\"/><path d=\"M17.41 7.96l-1.37-1.37c-.4-.4-.92-.59-1.43-.59-.52 0-1.04.2-1.43.59L10.3 9.45l-7.72 7.72c-.78.78-.78 2.05 0 2.83L4 21.41c.39.39.9.59 1.41.59.51 0 1.02-.2 1.41-.59l7.78-7.78 2.81-2.81c.8-.78.8-2.07 0-2.86zM5.41 20L4 18.59l7.72-7.72 1.47 1.35L5.41 20z\"/>\n",
              "  </svg>\n",
              "      </button>\n",
              "      \n",
              "  <style>\n",
              "    .colab-df-container {\n",
              "      display:flex;\n",
              "      flex-wrap:wrap;\n",
              "      gap: 12px;\n",
              "    }\n",
              "\n",
              "    .colab-df-convert {\n",
              "      background-color: #E8F0FE;\n",
              "      border: none;\n",
              "      border-radius: 50%;\n",
              "      cursor: pointer;\n",
              "      display: none;\n",
              "      fill: #1967D2;\n",
              "      height: 32px;\n",
              "      padding: 0 0 0 0;\n",
              "      width: 32px;\n",
              "    }\n",
              "\n",
              "    .colab-df-convert:hover {\n",
              "      background-color: #E2EBFA;\n",
              "      box-shadow: 0px 1px 2px rgba(60, 64, 67, 0.3), 0px 1px 3px 1px rgba(60, 64, 67, 0.15);\n",
              "      fill: #174EA6;\n",
              "    }\n",
              "\n",
              "    [theme=dark] .colab-df-convert {\n",
              "      background-color: #3B4455;\n",
              "      fill: #D2E3FC;\n",
              "    }\n",
              "\n",
              "    [theme=dark] .colab-df-convert:hover {\n",
              "      background-color: #434B5C;\n",
              "      box-shadow: 0px 1px 3px 1px rgba(0, 0, 0, 0.15);\n",
              "      filter: drop-shadow(0px 1px 2px rgba(0, 0, 0, 0.3));\n",
              "      fill: #FFFFFF;\n",
              "    }\n",
              "  </style>\n",
              "\n",
              "      <script>\n",
              "        const buttonEl =\n",
              "          document.querySelector('#df-393bca81-1b22-4948-bd0e-8ffd2ec846be button.colab-df-convert');\n",
              "        buttonEl.style.display =\n",
              "          google.colab.kernel.accessAllowed ? 'block' : 'none';\n",
              "\n",
              "        async function convertToInteractive(key) {\n",
              "          const element = document.querySelector('#df-393bca81-1b22-4948-bd0e-8ffd2ec846be');\n",
              "          const dataTable =\n",
              "            await google.colab.kernel.invokeFunction('convertToInteractive',\n",
              "                                                     [key], {});\n",
              "          if (!dataTable) return;\n",
              "\n",
              "          const docLinkHtml = 'Like what you see? Visit the ' +\n",
              "            '<a target=\"_blank\" href=https://colab.research.google.com/notebooks/data_table.ipynb>data table notebook</a>'\n",
              "            + ' to learn more about interactive tables.';\n",
              "          element.innerHTML = '';\n",
              "          dataTable['output_type'] = 'display_data';\n",
              "          await google.colab.output.renderOutput(dataTable, element);\n",
              "          const docLink = document.createElement('div');\n",
              "          docLink.innerHTML = docLinkHtml;\n",
              "          element.appendChild(docLink);\n",
              "        }\n",
              "      </script>\n",
              "    </div>\n",
              "  </div>\n",
              "  "
            ],
            "text/plain": [
              "       date  highest_temp  demand  precipitation\n",
              "0  2020/7/1          26.7    3909           21.0\n",
              "1  2020/7/2          30.8    4194            0.5\n",
              "2  2020/7/3          28.7    3777            6.0\n",
              "5  2020/7/6          26.9    3899           40.5\n",
              "6  2020/7/7          29.3    4223            0.5"
            ]
          },
          "execution_count": 63,
          "metadata": {},
          "output_type": "execute_result"
        }
      ],
      "source": [
        "# 電力の少ないグループの日付（外れ値を含む）\n",
        "less_group_days = [\n",
        "    \"2020/7/4\",\n",
        "    \"2020/7/5\",\n",
        "    \"2020/7/11\",\n",
        "    \"2020/7/12\",\n",
        "    \"2020/7/18\",\n",
        "    \"2020/7/19\",\n",
        "    \"2020/7/23\",\n",
        "    \"2020/7/24\",\n",
        "    \"2020/7/25\",\n",
        "    \"2020/7/26\",\n",
        "]\n",
        "# 条件に一致しないデータだけを取得\n",
        "# data[~条件]でマッチしない要素だけを取得できる\n",
        "\n",
        "data = data[~data[\"date\"].isin(less_group_days)]\n",
        "data.head()"
      ]
    },
    {
      "cell_type": "markdown",
      "metadata": {
        "id": "ysEYjrQCczlc"
      },
      "source": [
        "## (3) 分析・解析"
      ]
    },
    {
      "cell_type": "markdown",
      "metadata": {
        "id": "K36_8fmwVb9u"
      },
      "source": [
        "### 単回帰の復習"
      ]
    },
    {
      "cell_type": "markdown",
      "metadata": {
        "id": "dMCJAxEpTWnb"
      },
      "source": [
        "まず、重回帰と比較するために単回帰の結果を確認しておこう。"
      ]
    },
    {
      "cell_type": "markdown",
      "metadata": {
        "id": "XsY4GL2tTqFe"
      },
      "source": [
        "---\n",
        "\n",
        "#### <font color=blue>【練習】単回帰分析</font> \n",
        "\n",
        "第3回の資料を参考に以下を行え。\n",
        "\n",
        "1. 回帰分析において、予測したい変数と、予測に使用する変数をそれぞれ何と呼ぶか答えよ。\n",
        "2. 単回帰分析を行うための関数を答えよ。\n",
        "3. 2020年7月の平日について、最高気温を$x$, 消費電力を$y$とした単回帰を行え。\n",
        "4. 3.の単回帰について、決定係数$R^2$と平均絶対誤差MAEを求めよ。\n",
        "\n",
        "\n",
        "---"
      ]
    },
    {
      "cell_type": "code",
      "execution_count": null,
      "metadata": {
        "colab": {
          "base_uri": "https://localhost:8080/"
        },
        "id": "7kZAGZn2g7QO",
        "outputId": "e9f87166-990f-4c8b-e656-ccf287ca71f6"
      },
      "outputs": [
        {
          "data": {
            "text/plain": [
              "LinearRegression()"
            ]
          },
          "execution_count": 64,
          "metadata": {},
          "output_type": "execute_result"
        }
      ],
      "source": [
        "from sklearn.linear_model import LinearRegression\n",
        "model = LinearRegression()\n",
        "\n",
        "# モデルの学習（一次方程式の傾きと切片を決める）\n",
        "x = data[\"highest_temp\"].to_numpy().reshape(-1, 1)\n",
        "y = data[\"demand\"]\n",
        "model.fit(x, y)"
      ]
    },
    {
      "cell_type": "code",
      "execution_count": null,
      "metadata": {
        "colab": {
          "base_uri": "https://localhost:8080/"
        },
        "id": "w9nx5Nb5hPrv",
        "outputId": "5d6285f6-1201-4be7-ae87-534381c617f3"
      },
      "outputs": [
        {
          "data": {
            "text/plain": [
              "array([3857.64989318, 4233.72092699, 4041.09917797, 3875.99482166,\n",
              "       4096.1339634 , 4022.75424949, 3802.61510775, 3986.06439253,\n",
              "       3720.06292959, 3582.475966  , 3426.54407394, 3665.02814416,\n",
              "       3298.12957459, 4334.61803362, 4068.61657069, 4151.16874884,\n",
              "       4224.54846275, 4252.06585547, 3756.75278655, 3839.3049647 ,\n",
              "       4123.65135612])"
            ]
          },
          "execution_count": 66,
          "metadata": {},
          "output_type": "execute_result"
        }
      ],
      "source": [
        "# predict()関数で予測値を計算。\n",
        "highest_temp = data[\"highest_temp\"].to_numpy().reshape(-1, 1) # 予測できる形式に変形\n",
        "y_pred = model.predict(highest_temp) # 予測\n",
        "y_pred"
      ]
    },
    {
      "cell_type": "code",
      "execution_count": null,
      "metadata": {
        "colab": {
          "base_uri": "https://localhost:8080/"
        },
        "id": "GJCXPU3mhWqp",
        "outputId": "f26adccb-f94c-4547-964e-865d12c9ed71"
      },
      "outputs": [
        {
          "data": {
            "text/plain": [
              "0.8163289540035338"
            ]
          },
          "execution_count": 67,
          "metadata": {},
          "output_type": "execute_result"
        }
      ],
      "source": [
        "r2_score(data[\"demand\"], y_pred)"
      ]
    },
    {
      "cell_type": "code",
      "execution_count": null,
      "metadata": {
        "colab": {
          "base_uri": "https://localhost:8080/"
        },
        "id": "aN_I5yjshX2s",
        "outputId": "1a65d0a9-ff2a-4724-c58f-2e9910818667"
      },
      "outputs": [
        {
          "data": {
            "text/plain": [
              "107.61784674858245"
            ]
          },
          "execution_count": 68,
          "metadata": {},
          "output_type": "execute_result"
        }
      ],
      "source": [
        "mean_absolute_error(data[\"demand\"], y_pred)"
      ]
    },
    {
      "cell_type": "markdown",
      "metadata": {
        "id": "1SMvzLIxEAVj"
      },
      "source": [
        "###重回帰分析"
      ]
    },
    {
      "cell_type": "markdown",
      "metadata": {
        "id": "J6O9xffbVSrw"
      },
      "source": [
        "さて、今回の内容に入ろう。**重回帰分析**は複数の変数を利用する以外は単回帰とほぼ同じで、目的変数$y$を一次方程式で表す。説明変数が二つの場合、二つを$x_1,\\ x_2$とすると\n",
        "\n",
        "$$y = ax_1+bx_2+c$$\n",
        "のようになる。\n",
        "\n",
        "重回帰も機械学習ライブラリ`scikit-learn`（略称`sklearn`）の`LinearRegression`で行うことができ、単に入力を（データ数）行2列の表の状態で渡せばよい。"
      ]
    },
    {
      "cell_type": "code",
      "execution_count": null,
      "metadata": {
        "id": "a_9gybDkZ96c"
      },
      "outputs": [],
      "source": [
        "from sklearn.linear_model import LinearRegression\n",
        "model = LinearRegression()"
      ]
    },
    {
      "cell_type": "markdown",
      "metadata": {
        "id": "eAYJ4yTsZ96c"
      },
      "source": [
        "scikit-learnでのモデルの学習は`.fit()`で行うことができるのであった。"
      ]
    },
    {
      "cell_type": "code",
      "execution_count": null,
      "metadata": {
        "colab": {
          "base_uri": "https://localhost:8080/"
        },
        "id": "msLdR5lNZ96d",
        "outputId": "3407e339-c8f8-48df-f522-77935d87cd0f"
      },
      "outputs": [
        {
          "data": {
            "text/plain": [
              "LinearRegression()"
            ]
          },
          "execution_count": 70,
          "metadata": {},
          "output_type": "execute_result"
        }
      ],
      "source": [
        "# モデルの学習（一次方程式の傾きと切片を決める）\n",
        "x = data[[\"highest_temp\", \"precipitation\"]] # 2列だけ抜き出す\n",
        "y = data[\"demand\"]\n",
        "model.fit(x, y)"
      ]
    },
    {
      "cell_type": "code",
      "execution_count": null,
      "metadata": {
        "colab": {
          "base_uri": "https://localhost:8080/"
        },
        "id": "68Gcpc1vZ96d",
        "outputId": "f57a7f08-f99f-4875-9a4a-93c3672c4973"
      },
      "outputs": [
        {
          "name": "stdout",
          "output_type": "stream",
          "text": [
            "94.94435177917224 1.8119517132612744 1307.8276672373704\n"
          ]
        }
      ],
      "source": [
        "# 学習済みモデルから傾きa, bと切片cを取り出す\n",
        "a = model.coef_[0] # coef: coefficient 係数\n",
        "b = model.coef_[1]\n",
        "c = model.intercept_ # intercept: 切片\n",
        "\n",
        "print(a, b, c)"
      ]
    },
    {
      "cell_type": "markdown",
      "metadata": {
        "id": "Lj0KmCNHZ96e"
      },
      "source": [
        "$y = ax_1+bx_2+c$ の $a,\\ b,\\ c$はそれぞれ約$94.9, 1.81, 1307$程度であった。つまり、$y＝94.9x_1+1.81x_2+1307$\n",
        "の関係が推定されたことになる。"
      ]
    },
    {
      "cell_type": "markdown",
      "metadata": {
        "id": "dnOrAaShZ96e"
      },
      "source": [
        "続いて、単回帰のときと同様に今回のデータにあった各日の気温に対して、今回のモデルの予測値がいくらになるかを計算してみる。単回帰と同様、scikit-learnでは`predict()`で予測を行うことができる。"
      ]
    },
    {
      "cell_type": "code",
      "execution_count": null,
      "metadata": {
        "colab": {
          "base_uri": "https://localhost:8080/"
        },
        "id": "9ir67UgPbexk",
        "outputId": "ae09f578-b1ec-4bad-ef7e-0cfc1758a79b"
      },
      "outputs": [
        {
          "data": {
            "text/plain": [
              "array([3880.89284572, 4233.01967789, 4043.60227358, 3935.21477448,\n",
              "       4090.60315022, 4019.17754808, 3811.24257266, 3976.66992809,\n",
              "       3711.29704235, 3568.88051468, 3408.38109252, 3644.36469686,\n",
              "       3326.193648  , 4336.55248899, 4063.02582055, 4146.66378543,\n",
              "       4226.24317028, 4254.72647582, 3738.40307278, 3823.85298939,\n",
              "       4119.99243161])"
            ]
          },
          "execution_count": 72,
          "metadata": {},
          "output_type": "execute_result"
        }
      ],
      "source": [
        "y_pred = model.predict(x)\n",
        "y_pred"
      ]
    },
    {
      "cell_type": "markdown",
      "metadata": {
        "id": "0PdIIW2FcQqD"
      },
      "source": [
        "さらに、重回帰の予測結果に対して$R^2$, MAEも計算してみる。"
      ]
    },
    {
      "cell_type": "code",
      "execution_count": null,
      "metadata": {
        "id": "_LqiFgpccV31"
      },
      "outputs": [],
      "source": [
        "from sklearn.metrics import r2_score, mean_absolute_error"
      ]
    },
    {
      "cell_type": "code",
      "execution_count": null,
      "metadata": {
        "colab": {
          "base_uri": "https://localhost:8080/"
        },
        "id": "bCl2H3xici1X",
        "outputId": "71710231-4ddb-452f-ce2e-00fbf6e2c3c5"
      },
      "outputs": [
        {
          "data": {
            "text/plain": [
              "0.8198619668995407"
            ]
          },
          "execution_count": 74,
          "metadata": {},
          "output_type": "execute_result"
        }
      ],
      "source": [
        "r2 = r2_score(y, y_pred)\n",
        "r2"
      ]
    },
    {
      "cell_type": "code",
      "execution_count": null,
      "metadata": {
        "colab": {
          "base_uri": "https://localhost:8080/"
        },
        "id": "OG7JDLhVcnO8",
        "outputId": "b44dd1cf-7d49-4e4a-cda2-8a20a277c95a"
      },
      "outputs": [
        {
          "data": {
            "text/plain": [
              "103.7940576581065"
            ]
          },
          "execution_count": 75,
          "metadata": {},
          "output_type": "execute_result"
        }
      ],
      "source": [
        "mae = mean_absolute_error(y, y_pred)\n",
        "mae"
      ]
    },
    {
      "cell_type": "markdown",
      "metadata": {
        "id": "0V-AQvGWb4iW"
      },
      "source": [
        "単回帰での$R^2$, MAEはそれぞれ$0.816, 108$程度であった。\n",
        "\n",
        "重回帰にすると$R^2$, MAEはそれぞれ$0.820, 104$程度になったので、少し予測精度が向上したと言えるだろう。\n",
        "\n",
        "（$R^2$は大きい方がよく、MAEは小さい方がよい）"
      ]
    },
    {
      "cell_type": "markdown",
      "metadata": {
        "id": "5CcOlO5FuvdE"
      },
      "source": [
        "### 回帰結果の可視化"
      ]
    },
    {
      "cell_type": "markdown",
      "metadata": {
        "id": "qgt0DeI8uyji"
      },
      "source": [
        "重回帰分析は説明変数が複数になっているので、説明変数と目的変数の間の関係は2次元で表すことができない。今回は説明変数が二つなので、予測結果は3次元空間上の（平）面になる。\n",
        "\n",
        "ここでは3次元のプロットを実際に行い、説明変数と目的変数の間の関係を見てみることにする。3次元のプロットは`matplotlib`でも行うことができるが、`plotly`を使うとマウス操作で動かすことのできるグラフが作れるため、こちらを使ってみよう。"
      ]
    },
    {
      "cell_type": "code",
      "execution_count": null,
      "metadata": {
        "colab": {
          "base_uri": "https://localhost:8080/"
        },
        "id": "acwq43WKvYgS",
        "outputId": "cd35c5c6-fd7e-4c2c-9985-7e925eccce22"
      },
      "outputs": [
        {
          "name": "stderr",
          "output_type": "stream",
          "text": [
            "/usr/local/lib/python3.7/dist-packages/sklearn/base.py:451: UserWarning: X does not have valid feature names, but LinearRegression was fitted with feature names\n",
            "  \"X does not have valid feature names, but\"\n"
          ]
        }
      ],
      "source": [
        "# 平面グリッドの生成\n",
        "x1 = np.arange(20, 35, 3)\n",
        "x2 = np.arange(0, 45, 3)\n",
        "X, Y = np.meshgrid(x1, x2)\n",
        "\n",
        "# 平面の各点に対する予測\n",
        "Z = model.predict(np.c_[X.ravel(), Y.ravel()])\n",
        "Z = Z.reshape(X.shape)"
      ]
    },
    {
      "cell_type": "code",
      "execution_count": null,
      "metadata": {
        "colab": {
          "base_uri": "https://localhost:8080/",
          "height": 542
        },
        "id": "zMytKJ7uw36o",
        "outputId": "2a941b76-f140-43cf-aa49-51df3b74ee3e"
      },
      "outputs": [
        {
          "data": {
            "text/html": [
              "<html>\n",
              "<head><meta charset=\"utf-8\" /></head>\n",
              "<body>\n",
              "    <div>            <script src=\"https://cdnjs.cloudflare.com/ajax/libs/mathjax/2.7.5/MathJax.js?config=TeX-AMS-MML_SVG\"></script><script type=\"text/javascript\">if (window.MathJax) {MathJax.Hub.Config({SVG: {font: \"STIX-Web\"}});}</script>                <script type=\"text/javascript\">window.PlotlyConfig = {MathJaxConfig: 'local'};</script>\n",
              "        <script src=\"https://cdn.plot.ly/plotly-2.8.3.min.js\"></script>                <div id=\"65eb9c23-3af2-4bff-bdb7-225d078bddc2\" class=\"plotly-graph-div\" style=\"height:525px; width:100%;\"></div>            <script type=\"text/javascript\">                                    window.PLOTLYENV=window.PLOTLYENV || {};                                    if (document.getElementById(\"65eb9c23-3af2-4bff-bdb7-225d078bddc2\")) {                    Plotly.newPlot(                        \"65eb9c23-3af2-4bff-bdb7-225d078bddc2\",                        [{\"hovertemplate\":\"highest_temp=%{x}<br>precipitation=%{y}<br>demand=%{z}<extra></extra>\",\"legendgroup\":\"\",\"marker\":{\"color\":\"#636efa\",\"symbol\":\"circle\",\"size\":3},\"mode\":\"markers\",\"name\":\"\",\"scene\":\"scene\",\"showlegend\":false,\"x\":[26.7,30.8,28.7,26.9,29.3,28.5,26.1,28.1,25.2,23.7,22.0,24.6,20.6,31.9,29.0,29.9,30.7,31.0,25.6,26.5,29.6],\"y\":[21.0,0.5,6.0,40.5,0.5,3.0,14.0,0.5,6.0,6.0,6.5,0.5,34.5,0.0,1.0,0.0,2.0,2.0,0.0,0.0,1.0],\"z\":[3909,4194,3777,3899,4223,3894,3856,3970,3592,3648,3586,3520,3368,4497,4138,4439,4149,4313,3712,3704,3971],\"type\":\"scatter3d\"},{\"colorscale\":[[0.0,\"rgb(247,251,255)\"],[0.125,\"rgb(222,235,247)\"],[0.25,\"rgb(198,219,239)\"],[0.375,\"rgb(158,202,225)\"],[0.5,\"rgb(107,174,214)\"],[0.625,\"rgb(66,146,198)\"],[0.75,\"rgb(33,113,181)\"],[0.875,\"rgb(8,81,156)\"],[1.0,\"rgb(8,48,107)\"]],\"x\":[20,23,26,29,32],\"y\":[0,3,6,9,12,15,18,21,24,27,30,33,36,39,42],\"z\":[[3206.714702820815,3491.547758158332,3776.3808134958485,4061.2138688333653,4346.0469241708815],[3212.150557960599,3496.9836132981154,3781.816668635632,4066.649723973149,4351.482779310665],[3217.5864131003827,3502.4194684378995,3787.252523775416,4072.085579112933,4356.91863445045],[3223.0222682401663,3507.855323577683,3792.6883789152,4077.5214342527165,4362.354489590233],[3228.4581233799504,3513.291178717467,3798.124234054984,4082.9572893925006,4367.790344730018],[3233.8939785197344,3518.7270338572507,3803.5600891947674,4088.393144532284,4373.226199869801],[3239.329833659518,3524.1628889970348,3808.9959443345515,4093.828999672068,4378.662055009585],[3244.7656887993016,3529.5987441368184,3814.431799474335,4099.264854811852,4384.0979101493685],[3250.2015439390857,3535.0345992766024,3819.867654614119,4104.700709951636,4389.533765289152],[3255.6373990788697,3540.470454416386,3825.3035097539027,4110.1365650914195,4394.969620428936],[3261.0732542186533,3545.90630955617,3830.739364893687,4115.572420231203,4400.40547556872],[3266.509109358437,3551.3421646959537,3836.1752200334704,4121.008275370987,4405.841330708504],[3271.944964498221,3556.7780198357377,3841.6110751732544,4126.444130510771,4411.277185848288],[3277.380819638005,3562.2138749755213,3847.046930313038,4131.879985650555,4416.713040988072],[3282.8166747777886,3567.6497301153054,3852.482785452822,4137.315840790339,4422.148896127856]],\"type\":\"surface\"}],                        {\"template\":{\"data\":{\"bar\":[{\"error_x\":{\"color\":\"#2a3f5f\"},\"error_y\":{\"color\":\"#2a3f5f\"},\"marker\":{\"line\":{\"color\":\"#E5ECF6\",\"width\":0.5},\"pattern\":{\"fillmode\":\"overlay\",\"size\":10,\"solidity\":0.2}},\"type\":\"bar\"}],\"barpolar\":[{\"marker\":{\"line\":{\"color\":\"#E5ECF6\",\"width\":0.5},\"pattern\":{\"fillmode\":\"overlay\",\"size\":10,\"solidity\":0.2}},\"type\":\"barpolar\"}],\"carpet\":[{\"aaxis\":{\"endlinecolor\":\"#2a3f5f\",\"gridcolor\":\"white\",\"linecolor\":\"white\",\"minorgridcolor\":\"white\",\"startlinecolor\":\"#2a3f5f\"},\"baxis\":{\"endlinecolor\":\"#2a3f5f\",\"gridcolor\":\"white\",\"linecolor\":\"white\",\"minorgridcolor\":\"white\",\"startlinecolor\":\"#2a3f5f\"},\"type\":\"carpet\"}],\"choropleth\":[{\"colorbar\":{\"outlinewidth\":0,\"ticks\":\"\"},\"type\":\"choropleth\"}],\"contour\":[{\"colorbar\":{\"outlinewidth\":0,\"ticks\":\"\"},\"colorscale\":[[0.0,\"#0d0887\"],[0.1111111111111111,\"#46039f\"],[0.2222222222222222,\"#7201a8\"],[0.3333333333333333,\"#9c179e\"],[0.4444444444444444,\"#bd3786\"],[0.5555555555555556,\"#d8576b\"],[0.6666666666666666,\"#ed7953\"],[0.7777777777777778,\"#fb9f3a\"],[0.8888888888888888,\"#fdca26\"],[1.0,\"#f0f921\"]],\"type\":\"contour\"}],\"contourcarpet\":[{\"colorbar\":{\"outlinewidth\":0,\"ticks\":\"\"},\"type\":\"contourcarpet\"}],\"heatmap\":[{\"colorbar\":{\"outlinewidth\":0,\"ticks\":\"\"},\"colorscale\":[[0.0,\"#0d0887\"],[0.1111111111111111,\"#46039f\"],[0.2222222222222222,\"#7201a8\"],[0.3333333333333333,\"#9c179e\"],[0.4444444444444444,\"#bd3786\"],[0.5555555555555556,\"#d8576b\"],[0.6666666666666666,\"#ed7953\"],[0.7777777777777778,\"#fb9f3a\"],[0.8888888888888888,\"#fdca26\"],[1.0,\"#f0f921\"]],\"type\":\"heatmap\"}],\"heatmapgl\":[{\"colorbar\":{\"outlinewidth\":0,\"ticks\":\"\"},\"colorscale\":[[0.0,\"#0d0887\"],[0.1111111111111111,\"#46039f\"],[0.2222222222222222,\"#7201a8\"],[0.3333333333333333,\"#9c179e\"],[0.4444444444444444,\"#bd3786\"],[0.5555555555555556,\"#d8576b\"],[0.6666666666666666,\"#ed7953\"],[0.7777777777777778,\"#fb9f3a\"],[0.8888888888888888,\"#fdca26\"],[1.0,\"#f0f921\"]],\"type\":\"heatmapgl\"}],\"histogram\":[{\"marker\":{\"pattern\":{\"fillmode\":\"overlay\",\"size\":10,\"solidity\":0.2}},\"type\":\"histogram\"}],\"histogram2d\":[{\"colorbar\":{\"outlinewidth\":0,\"ticks\":\"\"},\"colorscale\":[[0.0,\"#0d0887\"],[0.1111111111111111,\"#46039f\"],[0.2222222222222222,\"#7201a8\"],[0.3333333333333333,\"#9c179e\"],[0.4444444444444444,\"#bd3786\"],[0.5555555555555556,\"#d8576b\"],[0.6666666666666666,\"#ed7953\"],[0.7777777777777778,\"#fb9f3a\"],[0.8888888888888888,\"#fdca26\"],[1.0,\"#f0f921\"]],\"type\":\"histogram2d\"}],\"histogram2dcontour\":[{\"colorbar\":{\"outlinewidth\":0,\"ticks\":\"\"},\"colorscale\":[[0.0,\"#0d0887\"],[0.1111111111111111,\"#46039f\"],[0.2222222222222222,\"#7201a8\"],[0.3333333333333333,\"#9c179e\"],[0.4444444444444444,\"#bd3786\"],[0.5555555555555556,\"#d8576b\"],[0.6666666666666666,\"#ed7953\"],[0.7777777777777778,\"#fb9f3a\"],[0.8888888888888888,\"#fdca26\"],[1.0,\"#f0f921\"]],\"type\":\"histogram2dcontour\"}],\"mesh3d\":[{\"colorbar\":{\"outlinewidth\":0,\"ticks\":\"\"},\"type\":\"mesh3d\"}],\"parcoords\":[{\"line\":{\"colorbar\":{\"outlinewidth\":0,\"ticks\":\"\"}},\"type\":\"parcoords\"}],\"pie\":[{\"automargin\":true,\"type\":\"pie\"}],\"scatter\":[{\"marker\":{\"colorbar\":{\"outlinewidth\":0,\"ticks\":\"\"}},\"type\":\"scatter\"}],\"scatter3d\":[{\"line\":{\"colorbar\":{\"outlinewidth\":0,\"ticks\":\"\"}},\"marker\":{\"colorbar\":{\"outlinewidth\":0,\"ticks\":\"\"}},\"type\":\"scatter3d\"}],\"scattercarpet\":[{\"marker\":{\"colorbar\":{\"outlinewidth\":0,\"ticks\":\"\"}},\"type\":\"scattercarpet\"}],\"scattergeo\":[{\"marker\":{\"colorbar\":{\"outlinewidth\":0,\"ticks\":\"\"}},\"type\":\"scattergeo\"}],\"scattergl\":[{\"marker\":{\"colorbar\":{\"outlinewidth\":0,\"ticks\":\"\"}},\"type\":\"scattergl\"}],\"scattermapbox\":[{\"marker\":{\"colorbar\":{\"outlinewidth\":0,\"ticks\":\"\"}},\"type\":\"scattermapbox\"}],\"scatterpolar\":[{\"marker\":{\"colorbar\":{\"outlinewidth\":0,\"ticks\":\"\"}},\"type\":\"scatterpolar\"}],\"scatterpolargl\":[{\"marker\":{\"colorbar\":{\"outlinewidth\":0,\"ticks\":\"\"}},\"type\":\"scatterpolargl\"}],\"scatterternary\":[{\"marker\":{\"colorbar\":{\"outlinewidth\":0,\"ticks\":\"\"}},\"type\":\"scatterternary\"}],\"surface\":[{\"colorbar\":{\"outlinewidth\":0,\"ticks\":\"\"},\"colorscale\":[[0.0,\"#0d0887\"],[0.1111111111111111,\"#46039f\"],[0.2222222222222222,\"#7201a8\"],[0.3333333333333333,\"#9c179e\"],[0.4444444444444444,\"#bd3786\"],[0.5555555555555556,\"#d8576b\"],[0.6666666666666666,\"#ed7953\"],[0.7777777777777778,\"#fb9f3a\"],[0.8888888888888888,\"#fdca26\"],[1.0,\"#f0f921\"]],\"type\":\"surface\"}],\"table\":[{\"cells\":{\"fill\":{\"color\":\"#EBF0F8\"},\"line\":{\"color\":\"white\"}},\"header\":{\"fill\":{\"color\":\"#C8D4E3\"},\"line\":{\"color\":\"white\"}},\"type\":\"table\"}]},\"layout\":{\"annotationdefaults\":{\"arrowcolor\":\"#2a3f5f\",\"arrowhead\":0,\"arrowwidth\":1},\"autotypenumbers\":\"strict\",\"coloraxis\":{\"colorbar\":{\"outlinewidth\":0,\"ticks\":\"\"}},\"colorscale\":{\"diverging\":[[0,\"#8e0152\"],[0.1,\"#c51b7d\"],[0.2,\"#de77ae\"],[0.3,\"#f1b6da\"],[0.4,\"#fde0ef\"],[0.5,\"#f7f7f7\"],[0.6,\"#e6f5d0\"],[0.7,\"#b8e186\"],[0.8,\"#7fbc41\"],[0.9,\"#4d9221\"],[1,\"#276419\"]],\"sequential\":[[0.0,\"#0d0887\"],[0.1111111111111111,\"#46039f\"],[0.2222222222222222,\"#7201a8\"],[0.3333333333333333,\"#9c179e\"],[0.4444444444444444,\"#bd3786\"],[0.5555555555555556,\"#d8576b\"],[0.6666666666666666,\"#ed7953\"],[0.7777777777777778,\"#fb9f3a\"],[0.8888888888888888,\"#fdca26\"],[1.0,\"#f0f921\"]],\"sequentialminus\":[[0.0,\"#0d0887\"],[0.1111111111111111,\"#46039f\"],[0.2222222222222222,\"#7201a8\"],[0.3333333333333333,\"#9c179e\"],[0.4444444444444444,\"#bd3786\"],[0.5555555555555556,\"#d8576b\"],[0.6666666666666666,\"#ed7953\"],[0.7777777777777778,\"#fb9f3a\"],[0.8888888888888888,\"#fdca26\"],[1.0,\"#f0f921\"]]},\"colorway\":[\"#636efa\",\"#EF553B\",\"#00cc96\",\"#ab63fa\",\"#FFA15A\",\"#19d3f3\",\"#FF6692\",\"#B6E880\",\"#FF97FF\",\"#FECB52\"],\"font\":{\"color\":\"#2a3f5f\"},\"geo\":{\"bgcolor\":\"white\",\"lakecolor\":\"white\",\"landcolor\":\"#E5ECF6\",\"showlakes\":true,\"showland\":true,\"subunitcolor\":\"white\"},\"hoverlabel\":{\"align\":\"left\"},\"hovermode\":\"closest\",\"mapbox\":{\"style\":\"light\"},\"paper_bgcolor\":\"white\",\"plot_bgcolor\":\"#E5ECF6\",\"polar\":{\"angularaxis\":{\"gridcolor\":\"white\",\"linecolor\":\"white\",\"ticks\":\"\"},\"bgcolor\":\"#E5ECF6\",\"radialaxis\":{\"gridcolor\":\"white\",\"linecolor\":\"white\",\"ticks\":\"\"}},\"scene\":{\"xaxis\":{\"backgroundcolor\":\"#E5ECF6\",\"gridcolor\":\"white\",\"gridwidth\":2,\"linecolor\":\"white\",\"showbackground\":true,\"ticks\":\"\",\"zerolinecolor\":\"white\"},\"yaxis\":{\"backgroundcolor\":\"#E5ECF6\",\"gridcolor\":\"white\",\"gridwidth\":2,\"linecolor\":\"white\",\"showbackground\":true,\"ticks\":\"\",\"zerolinecolor\":\"white\"},\"zaxis\":{\"backgroundcolor\":\"#E5ECF6\",\"gridcolor\":\"white\",\"gridwidth\":2,\"linecolor\":\"white\",\"showbackground\":true,\"ticks\":\"\",\"zerolinecolor\":\"white\"}},\"shapedefaults\":{\"line\":{\"color\":\"#2a3f5f\"}},\"ternary\":{\"aaxis\":{\"gridcolor\":\"white\",\"linecolor\":\"white\",\"ticks\":\"\"},\"baxis\":{\"gridcolor\":\"white\",\"linecolor\":\"white\",\"ticks\":\"\"},\"bgcolor\":\"#E5ECF6\",\"caxis\":{\"gridcolor\":\"white\",\"linecolor\":\"white\",\"ticks\":\"\"}},\"title\":{\"x\":0.05},\"xaxis\":{\"automargin\":true,\"gridcolor\":\"white\",\"linecolor\":\"white\",\"ticks\":\"\",\"title\":{\"standoff\":15},\"zerolinecolor\":\"white\",\"zerolinewidth\":2},\"yaxis\":{\"automargin\":true,\"gridcolor\":\"white\",\"linecolor\":\"white\",\"ticks\":\"\",\"title\":{\"standoff\":15},\"zerolinecolor\":\"white\",\"zerolinewidth\":2}}},\"scene\":{\"domain\":{\"x\":[0.0,1.0],\"y\":[0.0,1.0]},\"xaxis\":{\"title\":{\"text\":\"highest_temp\"}},\"yaxis\":{\"title\":{\"text\":\"precipitation\"}},\"zaxis\":{\"title\":{\"text\":\"demand\"}}},\"legend\":{\"tracegroupgap\":0},\"margin\":{\"t\":60}},                        {\"responsive\": true}                    ).then(function(){\n",
              "                            \n",
              "var gd = document.getElementById('65eb9c23-3af2-4bff-bdb7-225d078bddc2');\n",
              "var x = new MutationObserver(function (mutations, observer) {{\n",
              "        var display = window.getComputedStyle(gd).display;\n",
              "        if (!display || display === 'none') {{\n",
              "            console.log([gd, 'removed!']);\n",
              "            Plotly.purge(gd);\n",
              "            observer.disconnect();\n",
              "        }}\n",
              "}});\n",
              "\n",
              "// Listen for the removal of the full notebook cells\n",
              "var notebookContainer = gd.closest('#notebook-container');\n",
              "if (notebookContainer) {{\n",
              "    x.observe(notebookContainer, {childList: true});\n",
              "}}\n",
              "\n",
              "// Listen for the clearing of the current output cell\n",
              "var outputEl = gd.closest('.output');\n",
              "if (outputEl) {{\n",
              "    x.observe(outputEl, {childList: true});\n",
              "}}\n",
              "\n",
              "                        })                };                            </script>        </div>\n",
              "</body>\n",
              "</html>"
            ]
          },
          "metadata": {},
          "output_type": "display_data"
        }
      ],
      "source": [
        "# plotlyによる3次元プロット\n",
        "import plotly.express as px\n",
        "import plotly.graph_objects as go\n",
        "\n",
        "# データの3次元散布図\n",
        "fig = px.scatter_3d(data, x=\"highest_temp\", y=\"precipitation\", z=\"demand\")\n",
        "fig.update_traces(marker=dict(size=3))\n",
        "\n",
        "# 予測平面の描画\n",
        "fig.add_traces(go.Surface(x=x1, y=x2, z=Z, colorscale='Blues'))"
      ]
    },
    {
      "cell_type": "markdown",
      "metadata": {
        "id": "9777fOG45Fzb"
      },
      "source": [
        "この3次元プロットはマウスの左ボタンで回転、右ボタンで平行移動、ホイールで拡大縮小ができる。\n",
        "\n",
        "実際に予測結果が3次元上の平面になっていることがわかるだろう。"
      ]
    },
    {
      "cell_type": "markdown",
      "metadata": {
        "id": "VYIEjRhfi9mf"
      },
      "source": [
        "### 過学習とテストデータ"
      ]
    },
    {
      "cell_type": "markdown",
      "metadata": {
        "id": "j6AAIgafjfMl"
      },
      "source": [
        "ここまで、$R^2$やMAEを用いて予測結果の良し悪しを判断してきた。しかし、この結果はあくまで**回帰モデルを作るために使ったデータに対する予測**の良し悪しであって、本来行いたかった**未知のデータに対する予測**の良し悪しを表しているわけではない。\n",
        "\n",
        "この二つがどのように異なるか、人工的に作ったデータを用いて複数の予測モデルを比較することで見てみよう。"
      ]
    },
    {
      "cell_type": "markdown",
      "metadata": {
        "id": "FpDlKqm3noF_"
      },
      "source": [
        "今回のデータは$y = \\sin(x)$から作っているが、少しノイズが足されている（縦方向に少しずれている）。"
      ]
    },
    {
      "cell_type": "code",
      "execution_count": null,
      "metadata": {
        "id": "yDlOXtDRlWov"
      },
      "outputs": [],
      "source": [
        "# データセットを用意\n",
        "import numpy as np\n",
        "x_sample = np.array([-2.542, 1.680, -0.370, 1.341, 2.868,\n",
        "                     0.231, 0.007, -2.568, -1.389, -0.001]).reshape(-1, 1)\n",
        "y_sample = np.array([-0.462, 1.054, -0.424, 0.957, 0.321,\n",
        "                     0.203, -0.018, -0.688, -0.928, 0.012]).reshape(-1, 1)"
      ]
    },
    {
      "cell_type": "code",
      "execution_count": null,
      "metadata": {
        "colab": {
          "base_uri": "https://localhost:8080/",
          "height": 398
        },
        "id": "Na6CI7ccm1oX",
        "outputId": "3bdab41b-a768-4cb9-c423-00b527431869"
      },
      "outputs": [
        {
          "data": {
            "image/png": "[encoded data removed]",
            "text/plain": [
              "<Figure size 432x432 with 1 Axes>"
            ]
          },
          "metadata": {
            "needs_background": "light"
          },
          "output_type": "display_data"
        }
      ],
      "source": [
        "# データセットの散布図を描画\n",
        "import matplotlib.pyplot as plt\n",
        "plt.figure(figsize=(6,6))\n",
        "xg = np.arange(-3, 3, 0.01) # xを用意\n",
        "yg = np.sin(xg) # y=sin(x)\n",
        "plt.plot(xg, yg, \"red\", label=\"y = sin(x)\") # 赤線を描画\n",
        "\n",
        "plt.scatter(x_sample, y_sample, label=\"dataset\") # データセットの散布図を描画\n",
        "\n",
        "plt.xlabel(\"x\")\n",
        "plt.ylabel(\"y\")\n",
        "plt.legend()\n",
        "plt.show()"
      ]
    },
    {
      "cell_type": "markdown",
      "metadata": {
        "id": "KQ1ZWAvmoITq"
      },
      "source": [
        "さて、このデータセットを3次関数と6次関数で推定したとき、予測はどうなるだろうか。\n",
        "\n",
        "ここでは説明のため一時的に多項式回帰（目的変数を説明変数の一次関数ではなく二次以上の項も使って予測する）を用いる。重回帰からは少し外れるので、ここのコードはいったん眺めるだけでもよい。"
      ]
    },
    {
      "cell_type": "code",
      "execution_count": null,
      "metadata": {
        "id": "qjVAsxN2rRfh"
      },
      "outputs": [],
      "source": [
        "from sklearn.preprocessing import PolynomialFeatures\n",
        "\n",
        "p = 3 # 3次関数\n",
        "\n",
        "# 3次の項までを計算\n",
        "x_poly = PolynomialFeatures(degree=p, include_bias=False).fit_transform(x_sample)\n",
        "\n",
        "# 3次の項までを使って学習&予測\n",
        "model_3 = LinearRegression()\n",
        "model_3.fit(x_poly, y_sample)\n",
        "y_pred_3 = model_3.predict(x_poly)\n"
      ]
    },
    {
      "cell_type": "code",
      "execution_count": null,
      "metadata": {
        "id": "1i_xh5PWoV2d"
      },
      "outputs": [],
      "source": [
        "p = 6 # 6次関数\n",
        "\n",
        "# 6次の項までを計算\n",
        "x_poly = PolynomialFeatures(degree=p, include_bias=False).fit_transform(x_sample)\n",
        "\n",
        "# 6次の項までを使って学習&予測\n",
        "model_6 = LinearRegression()\n",
        "model_6.fit(x_poly, y_sample)\n",
        "y_pred_6 = model_6.predict(x_poly)\n"
      ]
    },
    {
      "cell_type": "markdown",
      "metadata": {
        "id": "RmnfeYJgsLHG"
      },
      "source": [
        "この二つのモデルに対して、訓練データ（モデルの構築に使ったデータ）に対する$R^2$とMAEを計算してみると、以下のようになる。"
      ]
    },
    {
      "cell_type": "code",
      "execution_count": null,
      "metadata": {
        "colab": {
          "base_uri": "https://localhost:8080/"
        },
        "id": "NggBgiJgskwv",
        "outputId": "0fed227f-9726-490b-d736-ffde9b87e463"
      },
      "outputs": [
        {
          "name": "stdout",
          "output_type": "stream",
          "text": [
            "R^2: 0.989\n",
            "MSE: 0.045\n"
          ]
        }
      ],
      "source": [
        "# 3次関数のモデル\n",
        "r2_3 = r2_score(y_sample, y_pred_3)\n",
        "mse_3 = mean_absolute_error(y_sample, y_pred_3)\n",
        "print(f\"R^2: {r2_3:.3f}\")\n",
        "print(f\"MSE: {mse_3:.3f}\")"
      ]
    },
    {
      "cell_type": "code",
      "execution_count": null,
      "metadata": {
        "colab": {
          "base_uri": "https://localhost:8080/"
        },
        "id": "Yb8mY_29tRek",
        "outputId": "211cdf62-af62-4e92-fd8c-b2c3fdd86715"
      },
      "outputs": [
        {
          "name": "stdout",
          "output_type": "stream",
          "text": [
            "R^2: 0.996\n",
            "MSE: 0.031\n"
          ]
        }
      ],
      "source": [
        "# 6次関数のモデル\n",
        "r2_6 = r2_score(y_sample, y_pred_6)\n",
        "mse_6 = mean_absolute_error(y_sample, y_pred_6)\n",
        "print(f\"R^2: {r2_6:.3f}\")\n",
        "print(f\"MSE: {mse_6:.3f}\")"
      ]
    },
    {
      "cell_type": "markdown",
      "metadata": {
        "id": "oZQFHppUtbum"
      },
      "source": [
        "この結果を見ると、6次関数のモデルの方が優れているように見える。\n",
        "\n",
        "では、実際に予測結果を可視化してみるとどうなるだろうか。"
      ]
    },
    {
      "cell_type": "code",
      "execution_count": null,
      "metadata": {
        "colab": {
          "base_uri": "https://localhost:8080/",
          "height": 270
        },
        "id": "BqYdzk4nrRfj",
        "outputId": "68852c50-e45c-48d1-fe00-fdc9766ba89c"
      },
      "outputs": [
        {
          "data": {
            "image/png": "[encoded data removed]",
            "text/plain": [
              "<Figure size 432x288 with 1 Axes>"
            ]
          },
          "metadata": {
            "needs_background": "light"
          },
          "output_type": "display_data"
        }
      ],
      "source": [
        "# y=sin(x)の線を描画\n",
        "xg = np.arange(-3, 3, 0.01)\n",
        "yg = np.sin(xg)\n",
        "plt.plot(xg, yg, \"red\", label=\"y = sin(x)\")\n",
        "\n",
        "# データセットを描画\n",
        "plt.scatter(x_sample, y_sample, label=\"dataset\")\n",
        "\n",
        "# 用意したxに対してyを予測（三次関数）\n",
        "xg = xg[:, np.newaxis] # Convert it into matrix\n",
        "xg_poly = PolynomialFeatures(degree=3, include_bias=False).fit_transform(xg)\n",
        "y_est = model_3.predict(xg_poly)\n",
        "\n",
        "# 予測した線を描画\n",
        "plt.plot(xg, y_est, \"blue\", label=\"estimation\")\n",
        "\n",
        "plt.legend(loc = \"lower right\") # Display legend\n",
        "plt.show()"
      ]
    },
    {
      "cell_type": "code",
      "execution_count": null,
      "metadata": {
        "colab": {
          "base_uri": "https://localhost:8080/",
          "height": 270
        },
        "id": "s3dmHZXWnY-u",
        "outputId": "1d1a657c-48a2-484c-b5d5-f16bc76d0a3a"
      },
      "outputs": [
        {
          "data": {
            "image/png": "[encoded data removed]",
            "text/plain": [
              "<Figure size 432x288 with 1 Axes>"
            ]
          },
          "metadata": {
            "needs_background": "light"
          },
          "output_type": "display_data"
        }
      ],
      "source": [
        "# y=sin(x)の線を描画\n",
        "xg = np.arange(-3, 3, 0.01)\n",
        "yg = np.sin(xg)\n",
        "plt.plot(xg, yg, \"red\", label=\"y = sin(x)\")\n",
        "\n",
        "# データセットを描画\n",
        "plt.scatter(x_sample, y_sample, label=\"dataset\")\n",
        "\n",
        "# 用意したxに対してyを予測（6次関数）\n",
        "xg = xg[:, np.newaxis] # Convert it into matrix\n",
        "xg_poly = PolynomialFeatures(degree=6, include_bias=False).fit_transform(xg)\n",
        "y_est = model_6.predict(xg_poly)\n",
        "\n",
        "# 予測した線を描画\n",
        "plt.plot(xg, y_est, \"blue\", label=\"estimation\")\n",
        "\n",
        "plt.legend(loc = \"lower right\") # Display legend\n",
        "plt.show()"
      ]
    },
    {
      "cell_type": "markdown",
      "metadata": {
        "id": "Tzj8iUNLrdDo"
      },
      "source": [
        "どうだろうか。3次関数のモデルはおおむね真の関数$y=\\sin(x)$のような形状になっているのに対して、6次関数のモデルは明らかに真の関数からかけ離れていることが見て取れる。\n",
        "\n",
        "6次関数の場合、3次多項式の要素$x^1, x^2, x^3$は全て含まれており、3次多項式と同程度以上の高精度な予測が期待できるはずなのだが、$x^4, x^5, x^6$の情報を使って観測データをより詳細に、**観測誤差までも**予測しようとし、結果として元の関数の形状を推定できなくなっている。これは**過剰適合(overfitting, 過学習ともいう)**と呼ばれる現象であり、**データ数が少なく、説明変数が多い**時に特に発生しやすい。"
      ]
    },
    {
      "cell_type": "markdown",
      "metadata": {
        "id": "oFNANd197K6w"
      },
      "source": [
        "では、予測結果が過剰適合しているかどうかをどのように判断すればよいのだろうか。\n",
        "本来の**未知のデータに対する予測**を行うという目的に立ち返って、**学習に使っていないデータ**（**テストデータ**と呼ぶ）を予測してみればよい。\n",
        "\n",
        "新たにデータを用意して予測させ、$R^2$とMAEを見てみよう。"
      ]
    },
    {
      "cell_type": "code",
      "execution_count": null,
      "metadata": {
        "id": "DxXNwLLe8DMa"
      },
      "outputs": [],
      "source": [
        "# 別に生成したデータ\n",
        "x_sample_test = np.array([2.241, 2.811, 2.215, 0.185, -1.604,\n",
        "                          -2.932, -0.417, -0.586, 0.136, -0.130]).reshape(-1, 1)\n",
        "y_sample_test = np.array([0.957, 0.545, 0.879, 0.282, -1.118,\n",
        "                          -0.017, -0.518, -0.619, 0.098, -0.208]).reshape(-1, 1)"
      ]
    },
    {
      "cell_type": "code",
      "execution_count": null,
      "metadata": {
        "id": "yTaZtrES9NYC"
      },
      "outputs": [],
      "source": [
        "# 3次の項までを計算\n",
        "x_poly_test = PolynomialFeatures(degree=3, include_bias=False).fit_transform(x_sample_test)\n",
        "\n",
        "# 3次の項までを使ってテストデータを予測\n",
        "y_pred_3_test = model_3.predict(x_poly_test)\n",
        "\n",
        "# 6次の項までを計算\n",
        "x_poly_test = PolynomialFeatures(degree=6, include_bias=False).fit_transform(x_sample_test)\n",
        "\n",
        "# 6次の項までを使ってテストデータを予測\n",
        "y_pred_6_test = model_6.predict(x_poly_test)"
      ]
    },
    {
      "cell_type": "code",
      "execution_count": null,
      "metadata": {
        "colab": {
          "base_uri": "https://localhost:8080/"
        },
        "id": "tF9rwwQe9vf8",
        "outputId": "691722cf-86f9-4977-8684-af38a7cbc7b5"
      },
      "outputs": [
        {
          "name": "stdout",
          "output_type": "stream",
          "text": [
            "R^2: 0.977\n",
            "MSE: 0.082\n"
          ]
        }
      ],
      "source": [
        "# 3次関数モデルのテストデータでの精度\n",
        "r2_3 = r2_score(y_sample_test, y_pred_3_test)\n",
        "mse_3 = mean_absolute_error(y_sample_test, y_pred_3_test)\n",
        "print(f\"R^2: {r2_3:.3f}\")\n",
        "print(f\"MSE: {mse_3:.3f}\")"
      ]
    },
    {
      "cell_type": "code",
      "execution_count": null,
      "metadata": {
        "colab": {
          "base_uri": "https://localhost:8080/"
        },
        "id": "kcGF-uNm9vf8",
        "outputId": "4f90b7ab-b6f5-47e3-86a6-4070ce769fd7"
      },
      "outputs": [
        {
          "name": "stdout",
          "output_type": "stream",
          "text": [
            "R^2: -1.855\n",
            "MSE: 0.469\n"
          ]
        }
      ],
      "source": [
        "# 6次関数モデルのテストデータでの精度\n",
        "r2_6 = r2_score(y_sample_test, y_pred_6_test)\n",
        "mse_6 = mean_absolute_error(y_sample_test, y_pred_6_test)\n",
        "print(f\"R^2: {r2_6:.3f}\")\n",
        "print(f\"MSE: {mse_6:.3f}\")"
      ]
    },
    {
      "cell_type": "markdown",
      "metadata": {
        "id": "wkv9_KHl-EkG"
      },
      "source": [
        "結果、訓練データでの精度は6次関数のモデルの方がよかったが、テストデータでの精度は3次関数のモデルの方がよかった。\n",
        "\n",
        "一般に、**回帰モデルの精度の評価はモデルの構築に用いていないテストデータで行う**ことが望ましい。\n",
        "既存のデータをすべてモデルの構築に使うのではなく\n",
        "一部をテストデータに回すことによって、モデルのより正確な評価が可能になる。"
      ]
    },
    {
      "cell_type": "markdown",
      "metadata": {
        "id": "6jC1hwL6_H7O"
      },
      "source": [
        "### 消費電力予測の評価"
      ]
    },
    {
      "cell_type": "markdown",
      "metadata": {
        "id": "ujkghvB9_MS5"
      },
      "source": [
        "さて、話を消費電力予測モデルに戻し、テストデータを用いて予測モデルの精度を評価したい。今回は一ヶ月分しかデータを持っていないので、1/3をテストデータにしよう。\n",
        "\n",
        "このとき、一般的なデータではランダムにデータを分割すればよいが、**時系列データでは必ず時系列で最後の部分をテストデータにする**ことに注意してほしい。これは、より未来の情報を使って過去の情報を予測すると**未知のデータに対する予測として適当でない**ケースがあるからだ。例えば、\n",
        "\n",
        "「今朝8時と10時の気温を聞いて9時の気温を当てる」と、\n",
        "\n",
        "「今朝8時と9時の気温を聞いて10時の気温を当てる」の二つの問題を考える。\n",
        "\n",
        "ほとんどの場合9時の気温は8時の気温と10時の気温の中間くらいであるから、前者は未来の情報を使ったことで問題が簡単になってしまった。このようなケースを防ぐため、**時系列のデータは必ず時系列で分割する**必要があるわけだ。"
      ]
    },
    {
      "cell_type": "markdown",
      "metadata": {
        "id": "6YlJH0pLBbRO"
      },
      "source": [
        "では、今回のデータを時系列で分割してみる。今回のデータは21件あるので、14件を訓練データに、7件をテストデータにする。"
      ]
    },
    {
      "cell_type": "code",
      "execution_count": null,
      "metadata": {
        "id": "LkKw0iHeBplz"
      },
      "outputs": [],
      "source": [
        "# 日付順に並んでいるので、\n",
        "# 最初の14件を訓練データに、残りをテストデータにする\n",
        "data_train = data.iloc[:14, :]\n",
        "data_test = data.iloc[14:, :]"
      ]
    },
    {
      "cell_type": "code",
      "execution_count": null,
      "metadata": {
        "colab": {
          "base_uri": "https://localhost:8080/"
        },
        "id": "n4BS0pBCB5oG",
        "outputId": "1dad157e-d350-4cdc-c9ef-8f62ee3c01ca"
      },
      "outputs": [
        {
          "data": {
            "text/plain": [
              "LinearRegression()"
            ]
          },
          "execution_count": 91,
          "metadata": {},
          "output_type": "execute_result"
        }
      ],
      "source": [
        "# モデルの学習（一次方程式の傾きと切片を決める）\n",
        "x_train = data_train[[\"highest_temp\", \"precipitation\"]] # 2列だけ抜き出す\n",
        "y_train = data_train[\"demand\"]\n",
        "\n",
        "model = LinearRegression()\n",
        "model.fit(x_train, y_train) # fitで学習"
      ]
    },
    {
      "cell_type": "code",
      "execution_count": null,
      "metadata": {
        "id": "kfGStQ_SCPOV"
      },
      "outputs": [],
      "source": [
        "# テストデータに対する予測\n",
        "x_test = data_test[[\"highest_temp\", \"precipitation\"]]\n",
        "y_test = data_test[\"demand\"]\n",
        "\n",
        "y_pred = model.predict(x_test) # predictで予測"
      ]
    },
    {
      "cell_type": "code",
      "execution_count": null,
      "metadata": {
        "colab": {
          "base_uri": "https://localhost:8080/"
        },
        "id": "T4tJ_Jm3CaMk",
        "outputId": "64410434-4c89-427a-e466-a74579a20cda"
      },
      "outputs": [
        {
          "data": {
            "text/plain": [
              "0.6915876249980928"
            ]
          },
          "execution_count": 93,
          "metadata": {},
          "output_type": "execute_result"
        }
      ],
      "source": [
        "# テストデータに対する精度評価\n",
        "r2 = r2_score(y_test, y_pred)\n",
        "r2"
      ]
    },
    {
      "cell_type": "code",
      "execution_count": null,
      "metadata": {
        "colab": {
          "base_uri": "https://localhost:8080/"
        },
        "id": "8AvgCUW4Cr2a",
        "outputId": "6c757185-fe0f-4543-f9f5-be0daa25df3e"
      },
      "outputs": [
        {
          "data": {
            "text/plain": [
              "117.18899141061274"
            ]
          },
          "execution_count": 94,
          "metadata": {},
          "output_type": "execute_result"
        }
      ],
      "source": [
        "mae = mean_absolute_error(y_test, y_pred)\n",
        "mae"
      ]
    },
    {
      "cell_type": "markdown",
      "metadata": {
        "id": "DGKce-DoCy-B"
      },
      "source": [
        "最終的な精度は$R^2$は0.69, MAEは117となった。$R^2$の目安から言えばこの値はかなり良いと言えるので、本来の目的が達成できたと言えるだろう。"
      ]
    },
    {
      "cell_type": "markdown",
      "metadata": {
        "id": "HnenENssQNRJ"
      },
      "source": [
        "---\n",
        "#### <font color=blue>【練習】モデルの比較</font> \n",
        "\n",
        "単回帰分析に対して、同様に訓練データとテストデータに分けて電力予測のモデルを構築し、$R^2$とMAEを計算せよ。\n",
        "\n",
        "また、その結果を重回帰のモデルと比較せよ。\n",
        "\n",
        "（単回帰：最高気温と電力需要のモデルに降水量のデータを加えたとき、未来のデータに対する予測精度は向上したと言えるだろうか？）\n",
        "\n",
        "----"
      ]
    },
    {
      "cell_type": "code",
      "execution_count": null,
      "metadata": {
        "colab": {
          "base_uri": "https://localhost:8080/"
        },
        "id": "3LIGcw_XogRq",
        "outputId": "31d4b7ef-960d-4f71-9fd2-96cdddeaea41"
      },
      "outputs": [
        {
          "data": {
            "text/plain": [
              "LinearRegression()"
            ]
          },
          "execution_count": 100,
          "metadata": {},
          "output_type": "execute_result"
        }
      ],
      "source": [
        "# 日付順に並んでいるので、\n",
        "# 最初の14件を訓練データに、残りをテストデータにする\n",
        "data_train = data.iloc[:14, :]\n",
        "data_test = data.iloc[14:, :]\n",
        "\n",
        "\n",
        "# モデルの学習（一次方程式の傾きと切片を決める）\n",
        "x_train = data_train[[\"highest_temp\"]] # 2列だけ抜き出す\n",
        "y_train = data_train[\"demand\"]\n",
        "\n",
        "model_single = LinearRegression()\n",
        "model_single.fit(x_train, y_train) # fitで学習"
      ]
    },
    {
      "cell_type": "code",
      "execution_count": null,
      "metadata": {
        "id": "TnsdBvoSoxHz"
      },
      "outputs": [],
      "source": [
        "# テストデータに対する予測\n",
        "x_test = data_test[[\"highest_temp\"]]\n",
        "y_test = data_test[\"demand\"]\n",
        "\n",
        "y_pred = model_single.predict(x_test) # predictで予測"
      ]
    },
    {
      "cell_type": "code",
      "execution_count": null,
      "metadata": {
        "colab": {
          "base_uri": "https://localhost:8080/"
        },
        "id": "K3_sjw5Zo0sN",
        "outputId": "acca55fa-f0fa-4902-c1f7-6acb8ed47d31"
      },
      "outputs": [
        {
          "data": {
            "text/plain": [
              "0.6877259505131248"
            ]
          },
          "execution_count": 102,
          "metadata": {},
          "output_type": "execute_result"
        }
      ],
      "source": [
        "# テストデータに対する精度評価\n",
        "r2 = r2_score(y_test, y_pred)\n",
        "r2"
      ]
    },
    {
      "cell_type": "code",
      "execution_count": null,
      "metadata": {
        "colab": {
          "base_uri": "https://localhost:8080/"
        },
        "id": "G0CB73UQo27t",
        "outputId": "868e592b-1d96-4fcd-fd20-b89fc3da5535"
      },
      "outputs": [
        {
          "data": {
            "text/plain": [
              "120.91651734508858"
            ]
          },
          "execution_count": 103,
          "metadata": {},
          "output_type": "execute_result"
        }
      ],
      "source": [
        "mae = mean_absolute_error(y_test, y_pred)\n",
        "mae"
      ]
    },
    {
      "cell_type": "markdown",
      "metadata": {
        "id": "GZfnUWBnDK30"
      },
      "source": [
        "### 回帰の式の解釈"
      ]
    },
    {
      "cell_type": "markdown",
      "metadata": {
        "id": "8o3pgw77DODR"
      },
      "source": [
        "最後に、重回帰で得られた式の解釈を知っておこう。\n",
        "\n",
        "なお、以降の解釈を行うにはまずある程度以上妥当な回帰モデルが得られている必要がある。**ダメなモデルを解釈してもダメな解釈が得られるだけ**である。\n",
        "\n",
        "まず、訓練データとテストデータに分けて構築したモデルで得られた係数から予測の式を得よう。"
      ]
    },
    {
      "cell_type": "markdown",
      "metadata": {
        "id": "hYxRfZX0ELmF"
      },
      "source": [
        "---\n",
        "#### <font color=blue>【練習】 予測の式を取り出す</font> \n",
        "\n",
        "「重回帰分析」の節を参考に、訓練データとテストデータに分けた電力予測のモデルから予測の式を取り出せ。結果は\n",
        "$$y＝ax_1+bx_2+c$$\n",
        "の形にすること。\n",
        "\n",
        "$x_1$: 最高気温\n",
        "\n",
        "$x_2$: 降水量\n",
        "\n",
        "----"
      ]
    },
    {
      "cell_type": "code",
      "execution_count": null,
      "metadata": {
        "colab": {
          "base_uri": "https://localhost:8080/"
        },
        "id": "EyJgYpjzrTrK",
        "outputId": "a441f6ee-1656-4cab-f45c-8cba5286c9f4"
      },
      "outputs": [
        {
          "name": "stdout",
          "output_type": "stream",
          "text": [
            "89.412098817121 1.5027663117221164 1454.550716489065\n"
          ]
        }
      ],
      "source": [
        "# 学習済みモデルから傾きa, bと切片cを取り出す\n",
        "a = model.coef_[0] # coef: coefficient 係数\n",
        "b = model.coef_[1]\n",
        "c = model.intercept_ # intercept: 切片\n",
        "\n",
        "print(a, b, c)"
      ]
    },
    {
      "cell_type": "markdown",
      "metadata": {
        "id": "AmeimZ2erZpv"
      },
      "source": [
        "$$y=89.4x_1 + 1.5x_2 + 1455$$"
      ]
    },
    {
      "cell_type": "markdown",
      "metadata": {
        "id": "1RVYozTJEriM"
      },
      "source": [
        "回帰の式が得られたらその係数、特に$a, b$に着目する（$c$は説明変数$x_1, x_2$に依存しない定数なので、そこまで重要ではない）。\n",
        "\n",
        "まずは、これらの値の符号に着目しよう。例えば$a$が正の値なら、$x_1$が増加すれば$y$が増加し、$x_1$が減少すれば$y$も減少する、つまり$x_1$と$y$には正の相関があると言える。$a$が負の値なら逆に負の相関がある。\n",
        "\n",
        "続いて、これらの値の絶対値の大きさに着目しよう。値が大きいほど説明変数の変化が目的変数に大きく影響するので、絶対値が大きいほどその相関が強いと言える。\n",
        "\n",
        "ただし、データの値の大きさ（スケール、または分散）に差がある場合には注意が必要である。例えば$x_1$の値が$x_2$の100倍あるといったケースでは、同じ係数でも$y$に与える影響は100倍になる。（注４）\n",
        "\n",
        "以上の内容を踏まえて、総合実践で実際に分析を行ってみよう。"
      ]
    },
    {
      "cell_type": "markdown",
      "metadata": {
        "id": "YgWSqxUsNpat"
      },
      "source": [
        "----\n",
        "\n",
        "# <font color=red>【総合実践】 自身のデータに対する分析</font> \n",
        "\n",
        "第3回、第4回を通して学んだ内容について、自らが興味を持っている課題に対して実施してみよ。**回帰を行う際には、訓練データとテストデータを必ず用意し、テストデータに対する精度を計算せよ。**\n",
        "\n",
        "ただし、**非公開データをGoogle Colaboratoryにアップロードしないように注意せよ**（Google社はアップロードされた任意のデータを使う権利を有している）。\n",
        "\n",
        "もしテーマを思いつかない場合には、e-Statの他にも\n",
        "\n",
        "- 気象観測データ https://www.data.jma.go.jp/obd/stats/etrn/\n",
        "- エネルギー関連データ https://www.enecho.meti.go.jp/statistics/analysis/\n",
        "  - 電力調査統計 https://www.enecho.meti.go.jp/statistics/electric_power/ep002/ などが含まれている\n",
        "- 交通関連データ https://www.mlit.go.jp/statistics/details/tetsudo_list.html\n",
        "\n",
        "など、公的機関は多くのデータを公開している（ただし、かなり処理が面倒なデータも多い）。これらの中からテーマを選ぶのも良いだろう。\n",
        "\n",
        "\n",
        "----"
      ]
    },
    {
      "cell_type": "markdown",
      "metadata": {
        "id": "wxGqd4qxf0Je"
      },
      "source": [
        "\n",
        "<details>\n",
        "  <summary>5分くらい経っても何をしようか思いつかない人向け （クリックで開く）</summary>\n",
        "\n",
        "  * 第1, 2回で行ったデータに関連して、県民一人当たりの所得を人口に加えて産業構造などいくつかの変数を追加して予測する\n",
        "  * [糖尿病データセット](https://www.kaggle.com/datasets/mathchi/diabetes-data-set)など、機械学習のサンプルデータセットを探す\n",
        "\n",
        "</details>\n"
      ]
    },
    {
      "cell_type": "markdown",
      "metadata": {
        "id": "QSqGUxSrV7Ih"
      },
      "source": [
        "# おわりに\n",
        "\n",
        "本演習では、実例等を用いてデータサイエンス・AIの諸技術のうち、基礎・基盤となる以下の要素について学んだ。\n",
        "\n",
        "- データ可視化\n",
        "- 統計量の算出（平均値・中央値など）\n",
        "- 相関分析\n",
        "- 回帰分析\n",
        "\n",
        "本演習は「データサイエンス・AIを利活用するスキルを身に付けるための基礎的素養を習得する」ものであるが、**学んだ基礎技術を積極的に活用していくことが、データサイエンス・AIを利活用するスキルを習得する近道**である。実際の活用を試みる中で発生する疑問や興味を書籍で解決することで、さらに深くデータサイエンス・AIを理解し、実践応用できるようになるだろう。"
      ]
    },
    {
      "cell_type": "markdown",
      "metadata": {
        "id": "raz-GOm6sPd5"
      },
      "source": [
        "---"
      ]
    },
    {
      "cell_type": "markdown",
      "metadata": {
        "id": "n_R5xm_-sS9N"
      },
      "source": [
        "# 注釈・補足"
      ]
    },
    {
      "cell_type": "markdown",
      "metadata": {
        "id": "wUkx1EadsNzd"
      },
      "source": [
        "##注１：連続ではない値を予測したい場合は？\n",
        "連続ではない値のことを離散値という。離散値の中にも大小関係があるもの（人数など）と、大小関係のないもの（カテゴリ。曜日、動物の種類など）がある。\n",
        "\n",
        "大小関係がある離散値を予測したい場合は回帰分析でひとまず解析を行い、最も近い値のグループに予測させれば概ね良い。大小関係がないものを予測したい場合は分類問題を解く手法を用いるとよいだろう。"
      ]
    },
    {
      "cell_type": "markdown",
      "metadata": {
        "id": "B29be0vRMLMf"
      },
      "source": [
        "## 注２：順序が異なる状態で表を結合したい場合は？\n",
        "順序が異なる二つの表を、共通の列をもとに結合したい場合は下のように`join`を使う。"
      ]
    },
    {
      "cell_type": "code",
      "execution_count": null,
      "metadata": {
        "id": "KN_dS8EGMRMT"
      },
      "outputs": [],
      "source": [
        "# 表1.join(表2)で二つの表を結合する。\n",
        "# 結合する際には共通の（結合する際に探す）列を指定する\n",
        "# 表1はonパラメータに指定、表2はset_indexに指定\n",
        "# data = temperature.join(demand.set_index(\"date\"), on=\"date\")"
      ]
    },
    {
      "cell_type": "markdown",
      "metadata": {
        "id": "Y4u7lkPiRts6"
      },
      "source": [
        "##注３：決定係数$R^2$は相関係数$R$の二乗なのか？\n",
        "決定係数は相関係数の二乗であるとよく紹介されるが、相関係数rの二乗そのものではない。例えば決定係数に下限はなく負の値をとることもあるが、相関係数の二乗は0以上の値しかとらない。"
      ]
    },
    {
      "cell_type": "markdown",
      "metadata": {
        "id": "aL_JAYcoRdlD"
      },
      "source": [
        "##注４：データの大きさをそろえるには"
      ]
    },
    {
      "cell_type": "markdown",
      "metadata": {
        "id": "-phS1WxZRjIn"
      },
      "source": [
        "データ分析の前処理としてデータの大きさを揃える方がよいことがよくある。\n",
        "\n",
        "この場合、それぞれの変数を標準化（平均0・分散1にする操作）を行うことでデータの大きさを揃えることができる。\n",
        "\n",
        "標準化はscikit-learnでは`sklearn.preprocessing.StandardScaler`で使うことができる。"
      ]
    }
  ],
  "metadata": {
    "colab": {
      "collapsed_sections": [],
      "name": "第3,4回_データサイエンス入門・回帰分析.ipynb",
      "provenance": [],
      "toc_visible": true
    },
    "kernelspec": {
      "display_name": "Python 3.9.12 64-bit",
      "language": "python",
      "name": "python3"
    },
    "language_info": {
      "name": "python",
      "version": "3.9.12"
    },
    "vscode": {
      "interpreter": {
        "hash": "aee8b7b246df8f9039afb4144a1f6fd8d2ca17a180786b69acc140d282b71a49"
      }
    }
  },
  "nbformat": 4,
  "nbformat_minor": 0
}
